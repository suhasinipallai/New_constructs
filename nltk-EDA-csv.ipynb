{
 "cells": [
  {
   "cell_type": "code",
   "execution_count": 95,
   "metadata": {
    "collapsed": true
   },
   "outputs": [],
   "source": [
    "import pandas as pd\n",
    "import numpy as np\n",
    "import seaborn as sns\n",
    "import re\n",
    "import matplotlib.pyplot as plt\n",
    "import collections\n",
    "import nltk\n",
    "from nltk import word_tokenize,sent_tokenize\n",
    "from nltk.util import ngrams\n",
    "from nltk.corpus import stopwords\n",
    "import itertools\n",
    "from collections import Counter"
   ]
  },
  {
   "cell_type": "code",
   "execution_count": 98,
   "metadata": {
    "collapsed": true
   },
   "outputs": [],
   "source": [
    "import os\n",
    "import glob\n",
    "from bs4 import BeautifulSoup"
   ]
  },
  {
   "cell_type": "markdown",
   "metadata": {},
   "source": [
    "# reading the share repurchase csv file"
   ]
  },
  {
   "cell_type": "code",
   "execution_count": 3,
   "metadata": {
    "collapsed": true
   },
   "outputs": [],
   "source": [
    "share_repurchase =pd.read_csv('data/share_repurchase_paragraphs.csv')"
   ]
  },
  {
   "cell_type": "code",
   "execution_count": 4,
   "metadata": {
    "collapsed": true
   },
   "outputs": [],
   "source": [
    "training_filings_list = []\n",
    "for root, dirs, files in os.walk('data/nc_training_filings/'):\n",
    "    training_filings_list += glob.glob(os.path.join(root, '*.html'))"
   ]
  },
  {
   "cell_type": "code",
   "execution_count": 5,
   "metadata": {},
   "outputs": [
    {
     "name": "stdout",
     "output_type": "stream",
     "text": [
      "data/nc_training_filings\\0000002969-17-000039.html\n"
     ]
    }
   ],
   "source": [
    "print(training_filings_list[0])"
   ]
  },
  {
   "cell_type": "code",
   "execution_count": 6,
   "metadata": {
    "collapsed": true
   },
   "outputs": [],
   "source": [
    "with open(training_filings_list[0]) as file:\n",
    "    raw1=file.read()"
   ]
  },
  {
   "cell_type": "code",
   "execution_count": 7,
   "metadata": {
    "collapsed": true
   },
   "outputs": [],
   "source": [
    "raw1 = raw1.lower()"
   ]
  },
  {
   "cell_type": "code",
   "execution_count": 8,
   "metadata": {},
   "outputs": [
    {
     "data": {
      "text/plain": [
       "str"
      ]
     },
     "execution_count": 8,
     "metadata": {},
     "output_type": "execute_result"
    }
   ],
   "source": [
    "type(raw1)"
   ]
  },
  {
   "cell_type": "markdown",
   "metadata": {},
   "source": [
    "# using Beautiful soup to read the raw file"
   ]
  },
  {
   "cell_type": "code",
   "execution_count": 9,
   "metadata": {},
   "outputs": [
    {
     "name": "stderr",
     "output_type": "stream",
     "text": [
      "C:\\Users\\Suhasini\\Anaconda3\\lib\\site-packages\\bs4\\__init__.py:181: UserWarning: No parser was explicitly specified, so I'm using the best available HTML parser for this system (\"lxml\"). This usually isn't a problem, but if you run this code on another system, or in a different virtual environment, it may use a different parser and behave differently.\n",
      "\n",
      "The code that caused this warning is on line 193 of the file C:\\Users\\Suhasini\\Anaconda3\\lib\\runpy.py. To get rid of this warning, change code that looks like this:\n",
      "\n",
      " BeautifulSoup(YOUR_MARKUP})\n",
      "\n",
      "to this:\n",
      "\n",
      " BeautifulSoup(YOUR_MARKUP, \"lxml\")\n",
      "\n",
      "  markup_type=markup_type))\n"
     ]
    }
   ],
   "source": [
    "html1 = BeautifulSoup(raw1)"
   ]
  },
  {
   "cell_type": "code",
   "execution_count": 10,
   "metadata": {
    "collapsed": true
   },
   "outputs": [],
   "source": [
    "#tokens = [w for w in word_tokenize(file_html.lower()) if w.isalpha()]\n",
    "#stop_words = set(stopwords.words(\"english\"))\n",
    "#text = nltk.Text([t for t in word_tokenize(raw1) if t not in stopwords.words('english')])"
   ]
  },
  {
   "cell_type": "code",
   "execution_count": 11,
   "metadata": {},
   "outputs": [
    {
     "data": {
      "text/plain": [
       "str"
      ]
     },
     "execution_count": 11,
     "metadata": {},
     "output_type": "execute_result"
    }
   ],
   "source": [
    "type(raw1)"
   ]
  },
  {
   "cell_type": "code",
   "execution_count": 12,
   "metadata": {},
   "outputs": [
    {
     "data": {
      "text/plain": [
       "2027493"
      ]
     },
     "execution_count": 12,
     "metadata": {},
     "output_type": "execute_result"
    }
   ],
   "source": [
    "len(raw1)"
   ]
  },
  {
   "cell_type": "code",
   "execution_count": 13,
   "metadata": {},
   "outputs": [
    {
     "data": {
      "text/plain": [
       "'<!doctype html public \"-//w3c//dtd xhtml 1.0 transitional//en\"\\n    \"http://www.w3.org/tr/xhtml1/dtd/'"
      ]
     },
     "execution_count": 13,
     "metadata": {},
     "output_type": "execute_result"
    }
   ],
   "source": [
    "raw1[:100]"
   ]
  },
  {
   "cell_type": "code",
   "execution_count": 14,
   "metadata": {
    "collapsed": true
   },
   "outputs": [],
   "source": [
    "tag_removed = html1.body.text"
   ]
  },
  {
   "cell_type": "code",
   "execution_count": 15,
   "metadata": {
    "collapsed": true
   },
   "outputs": [],
   "source": [
    "tokens = word_tokenize(tag_removed)"
   ]
  },
  {
   "cell_type": "code",
   "execution_count": 16,
   "metadata": {},
   "outputs": [
    {
     "data": {
      "text/plain": [
       "list"
      ]
     },
     "execution_count": 16,
     "metadata": {},
     "output_type": "execute_result"
    }
   ],
   "source": [
    "type(tokens)"
   ]
  },
  {
   "cell_type": "code",
   "execution_count": 17,
   "metadata": {},
   "outputs": [
    {
     "data": {
      "text/plain": [
       "101568"
      ]
     },
     "execution_count": 17,
     "metadata": {},
     "output_type": "execute_result"
    }
   ],
   "source": [
    "len(tokens)"
   ]
  },
  {
   "cell_type": "code",
   "execution_count": 18,
   "metadata": {},
   "outputs": [
    {
     "data": {
      "text/plain": [
       "['table',\n",
       " 'of',\n",
       " 'contents',\n",
       " 'united',\n",
       " 'states',\n",
       " 'securities',\n",
       " 'and',\n",
       " 'exchange',\n",
       " 'commission',\n",
       " 'washington']"
      ]
     },
     "execution_count": 18,
     "metadata": {},
     "output_type": "execute_result"
    }
   ],
   "source": [
    "tokens[:10]"
   ]
  },
  {
   "cell_type": "code",
   "execution_count": 19,
   "metadata": {
    "collapsed": true
   },
   "outputs": [],
   "source": [
    "text = nltk.Text(tokens)"
   ]
  },
  {
   "cell_type": "code",
   "execution_count": 20,
   "metadata": {},
   "outputs": [
    {
     "data": {
      "text/plain": [
       "101568"
      ]
     },
     "execution_count": 20,
     "metadata": {},
     "output_type": "execute_result"
    }
   ],
   "source": [
    "len(text)"
   ]
  },
  {
   "cell_type": "code",
   "execution_count": 21,
   "metadata": {},
   "outputs": [
    {
     "data": {
      "text/plain": [
       "nltk.text.Text"
      ]
     },
     "execution_count": 21,
     "metadata": {},
     "output_type": "execute_result"
    }
   ],
   "source": [
    "type(text)"
   ]
  },
  {
   "cell_type": "code",
   "execution_count": 22,
   "metadata": {},
   "outputs": [
    {
     "data": {
      "text/plain": [
       "['table',\n",
       " 'of',\n",
       " 'contents',\n",
       " 'united',\n",
       " 'states',\n",
       " 'securities',\n",
       " 'and',\n",
       " 'exchange',\n",
       " 'commission',\n",
       " 'washington']"
      ]
     },
     "execution_count": 22,
     "metadata": {},
     "output_type": "execute_result"
    }
   ],
   "source": [
    "text[:10]"
   ]
  },
  {
   "cell_type": "code",
   "execution_count": 23,
   "metadata": {},
   "outputs": [
    {
     "data": {
      "text/plain": [
       "['september',\n",
       " '2017',\n",
       " 'or',\n",
       " 'â¨',\n",
       " 'transition',\n",
       " 'report',\n",
       " 'pursuant',\n",
       " 'to',\n",
       " 'section',\n",
       " '13',\n",
       " 'or',\n",
       " '15',\n",
       " '(',\n",
       " 'd',\n",
       " ')',\n",
       " 'of',\n",
       " 'the',\n",
       " 'securities',\n",
       " 'exchange',\n",
       " 'act',\n",
       " 'of',\n",
       " '1934',\n",
       " 'for',\n",
       " 'the',\n",
       " 'transition']"
      ]
     },
     "execution_count": 23,
     "metadata": {},
     "output_type": "execute_result"
    }
   ],
   "source": [
    "text[40:65]"
   ]
  },
  {
   "cell_type": "code",
   "execution_count": 24,
   "metadata": {
    "scrolled": true
   },
   "outputs": [
    {
     "name": "stdout",
     "output_type": "stream",
     "text": [
      "Displaying 25 of 109 matches:\n",
      " common stock , par value $ 1.00 per share new york stock exchange 2.0 % euro n\n",
      "rial gases segments also include our share of the results of several joint vent\n",
      "nd primarily contains air products ' share of the multi-year contract with a jo\n",
      "ositions may dilute our earnings per share , have other adverse financial and a\n",
      "d affect our profitability or market share . the company could be subject to ch\n",
      " september 2017 , $ 485.3 million in share repurchase authorization remained . \n",
      ". ( millions of dollars , except for share and per share data ) 2017 ( a ) 2016\n",
      "f dollars , except for share and per share data ) 2017 ( a ) 2016 ( a ) 2015 ( \n",
      "78 992 994 basic earnings per common share attributable to air products : incom\n",
      ".66 4.74 diluted earnings per common share attributable to air products : incom\n",
      " ) 112 dividends declared per common share 3.71 3.39 3.20 3.02 2.77 weighted av\n",
      "18 217 215 212 book value per common share at year-end $ 46.19 $ 32.57 $ 33.66 \n",
      " $ 11 ( $ 7 after-tax , or $ .03 per share ) related to business restructuring \n",
      "f $ 5 ( $ 3 after-tax , or $ .02 per share ) , and ( iii ) a goodwill and intan\n",
      "products , after-tax , or $ 1.27 per share ) . for 2013 , these items include :\n",
      "$ 98 ( $ 71 after-tax , or $ .33 per share ) related to business restructuring \n",
      " $ 10 ( $ 6 after-tax , or $ .03 per share ) related to advisory costs . ( b ) \n",
      "airment charge of $ 79.5 ( $ .36 per share ) on our investment in abdullah hash\n",
      "millions of dollars , except for per share data , unless otherwise indicated . \n",
      " products , and diluted earnings per share attributable to air products are sim\n",
      "ome , '' and `` diluted earnings per share ( eps ) '' throughout this managemen\n",
      "e of changes in diluted earnings per share , including a nonâ€ ‘ gaap reconcili\n",
      "dend by 10 % from $ .86 to $ .95 per share . this represents the 35th consecuti\n",
      "ents changes in diluted earnings per share attributable to air products increas\n",
      "16 ( decrease ) diluted earnings per share net income $ 13.65 $ 2.89 $ 10.76 in\n"
     ]
    }
   ],
   "source": [
    "text.concordance('share',width=79,lines=25)"
   ]
  },
  {
   "cell_type": "code",
   "execution_count": 25,
   "metadata": {},
   "outputs": [
    {
     "name": "stdout",
     "output_type": "stream",
     "text": [
      "Displaying 3 of 3 matches:\n",
      "2017 , $ 485.3 million in share repurchase authorization remained . additional purchases will be co\n",
      "ptember 2017 , $ 485.3 in share repurchase authorization remains . 2018 outlook cash flows from ope\n",
      "ptember 2017 , $ 485.3 in share repurchase authorization remains . the following table reflects the\n"
     ]
    }
   ],
   "source": [
    "text.concordance('authorization',width=100,lines=55)"
   ]
  },
  {
   "cell_type": "code",
   "execution_count": 26,
   "metadata": {},
   "outputs": [
    {
     "name": "stdout",
     "output_type": "stream",
     "text": [
      "Displaying 10 of 10 matches:\n",
      "board of directors authorized the repurchase of up to $ 1.0 billion of our out\n",
      "ave a stated expiration date . we repurchase shares pursuant to rules 10b5-1 a\n",
      "ct of 1934 , as amended , through repurchase agreements established with sever\n",
      "r 2017 , $ 485.3 million in share repurchase authorization remained . addition\n",
      "board of directors authorized the repurchase of up to $ 1,000 of our outstandi\n",
      "september 2017 , $ 485.3 in share repurchase authorization remains . 2018 outl\n",
      "board of directors authorized the repurchase of up to $ 1,000 of our outstandi\n",
      "our outstanding common stock . we repurchase shares pursuant to rules 10b5-1 a\n",
      "ct of 1934 , as amended , through repurchase agreements established with sever\n",
      "september 2017 , $ 485.3 in share repurchase authorization remains . the follo\n"
     ]
    }
   ],
   "source": [
    "text.concordance('repurchase',width=79,lines=25)"
   ]
  },
  {
   "cell_type": "code",
   "execution_count": 116,
   "metadata": {},
   "outputs": [
    {
     "name": "stdout",
     "output_type": "stream",
     "text": [
      "Displaying 20 of 186 matches:\n",
      "of-completion method based on costs incurred to date compared with total estimated costs to be incur\n",
      "cy of such attacks to continue to increase . to date , we are not aware of any significant impact on\n",
      " this program does not have a stated expiration date . we repurchase shares pursuant to rules 10b5-1\n",
      "te officers , six months after their retirement date . a participant's vested benefit is considered \n",
      "ty interest to fair value as of the acquisition date . refer to note 6 , business combination , to t\n",
      "n plans as of the 30 september 2017 measurement date increased to $ 4,409.2 from $ 4,116.4 at the en\n",
      "nized based on costs or labor hours incurred to date compared with total estimated costs or labor ho\n",
      "f benefit payments as of the annual measurement date for each of the various plans . effective in 20\n",
      " of benefit obligations back to the measurement date . this rate changes from year-to-year based on \n",
      "asonable expectations and assumptions as of the date of this report . actual performance and financi\n",
      " and implied volatilities ) as of the valuation date . interest rate risk our debt portfolio as of 3\n",
      "nized based on costs or labor hours incurred to date compared with total estimated costs or labor ho\n",
      "ves on the balance sheet at fair value . on the date the derivative instrument is entered into , we \n",
      "pense in the period that includes the enactment date . we recognize deferred tax assets net of exist\n",
      "nary purchase price allocations are made at the date of acquisition and finalized when information n\n",
      " or as a cumulative-effect adjustment as of the date of adoption under the modified retrospective ap\n",
      "tive-effect adjustment as of 1 october 2018. to date , we have focused on identifying potential impa\n",
      "pital lease receivables , held at the reporting date based on historical experience , current condit\n",
      "ustment directly to retained earnings as of the date of adoption . we are currently evaluating the i\n",
      "e-effect adjustment to retained earnings at the date of adoption . we are currently evaluating the i\n"
     ]
    }
   ],
   "source": [
    "text.concordance('Date',width=100,lines=20)"
   ]
  },
  {
   "cell_type": "code",
   "execution_count": 28,
   "metadata": {},
   "outputs": [
    {
     "name": "stdout",
     "output_type": "stream",
     "text": [
      "Displaying 1 of 1 matches:\n",
      "aw in any jurisdiction , it is the intention of the parties that the provision \n"
     ]
    }
   ],
   "source": [
    "text.concordance('Intention',width=79,lines=25)"
   ]
  },
  {
   "cell_type": "code",
   "execution_count": 29,
   "metadata": {},
   "outputs": [
    {
     "name": "stdout",
     "output_type": "stream",
     "text": [
      "air products; fiscal year; fair value; industrial gases; covered\n",
      "executive; september 2017; discontinued operations; continuing\n",
      "operations; financial statements; cash flows\n"
     ]
    }
   ],
   "source": [
    "text.collocations(num=10)"
   ]
  },
  {
   "cell_type": "code",
   "execution_count": 30,
   "metadata": {
    "collapsed": true
   },
   "outputs": [],
   "source": [
    "wordlist = ['share','repurchase','authorization']"
   ]
  },
  {
   "cell_type": "code",
   "execution_count": 31,
   "metadata": {
    "collapsed": true
   },
   "outputs": [],
   "source": [
    "wordlist1 = [w for w in wordlist]"
   ]
  },
  {
   "cell_type": "code",
   "execution_count": 32,
   "metadata": {},
   "outputs": [
    {
     "name": "stdout",
     "output_type": "stream",
     "text": [
      "share  word appeared :  [5, 5, 5, 5, 5, 5, 5, 5, 5, 5, 5, 5, 5, 5, 5, 5, 5, 5, 5, 5, 5, 5, 5, 5, 5, 5, 5, 5, 5, 5, 5, 5, 5, 5, 5, 5, 5, 5, 5, 5, 5, 5, 5, 5, 5, 5, 5, 5, 5, 5, 5, 5, 5, 5, 5, 5, 5, 5, 5, 5, 5, 5, 5, 5, 5, 5, 5, 5, 5, 5, 5, 5, 5, 5, 5, 5, 5, 5, 5, 5, 5, 5, 5, 5, 5, 5, 5, 5, 5, 5, 5, 5, 5, 5, 5, 5, 5, 5, 5, 5, 5, 5, 5, 5, 5, 5, 5, 5, 5]\n",
      "------------\n",
      "repurchase word appeared : [10, 10, 10, 10, 10, 10, 10, 10, 10, 10]\n",
      "------------\n",
      "authorization word appeared  : [13, 13, 13]\n"
     ]
    }
   ],
   "source": [
    "[w for w in text if re.search('(share|chase|zation)$', w)]\n",
    "print('share  word appeared : ' , [len(w) for w in text if w=='share'])\n",
    "print(\"------------\")\n",
    "print(\"repurchase word appeared :\" , [len(w) for w in text if w=='repurchase'])\n",
    "print(\"------------\")\n",
    "print(\"authorization word appeared  :\" , [len(w) for w in text if w == 'authorization'])\n"
   ]
  },
  {
   "cell_type": "code",
   "execution_count": 33,
   "metadata": {},
   "outputs": [
    {
     "data": {
      "text/plain": [
       "10"
      ]
     },
     "execution_count": 33,
     "metadata": {},
     "output_type": "execute_result"
    }
   ],
   "source": [
    "text.tokens.count('repurchase')"
   ]
  },
  {
   "cell_type": "code",
   "execution_count": 34,
   "metadata": {},
   "outputs": [
    {
     "data": {
      "text/plain": [
       "3"
      ]
     },
     "execution_count": 34,
     "metadata": {},
     "output_type": "execute_result"
    }
   ],
   "source": [
    "text.tokens.count('authorization')"
   ]
  },
  {
   "cell_type": "code",
   "execution_count": 35,
   "metadata": {},
   "outputs": [
    {
     "data": {
      "text/html": [
       "<div>\n",
       "<style>\n",
       "    .dataframe thead tr:only-child th {\n",
       "        text-align: right;\n",
       "    }\n",
       "\n",
       "    .dataframe thead th {\n",
       "        text-align: left;\n",
       "    }\n",
       "\n",
       "    .dataframe tbody tr th {\n",
       "        vertical-align: top;\n",
       "    }\n",
       "</style>\n",
       "<table border=\"1\" class=\"dataframe\">\n",
       "  <thead>\n",
       "    <tr style=\"text-align: right;\">\n",
       "      <th></th>\n",
       "      <th>ticker</th>\n",
       "      <th>accession_number</th>\n",
       "      <th>data_key_friendly_name</th>\n",
       "      <th>text</th>\n",
       "      <th>data_value</th>\n",
       "      <th>reported_data_value</th>\n",
       "      <th>reported_units</th>\n",
       "      <th>paragraph_text</th>\n",
       "    </tr>\n",
       "  </thead>\n",
       "  <tbody>\n",
       "    <tr>\n",
       "      <th>0</th>\n",
       "      <td>A</td>\n",
       "      <td>0001090872-17-000018</td>\n",
       "      <td>Share Repurchase Authorization Date</td>\n",
       "      <td>May 28, 2015</td>\n",
       "      <td>20150528</td>\n",
       "      <td>20200000.00</td>\n",
       "      <td>ones</td>\n",
       "      <td>On May 28, 2015 we  announced that our board  ...</td>\n",
       "    </tr>\n",
       "    <tr>\n",
       "      <th>1</th>\n",
       "      <td>A</td>\n",
       "      <td>0001090872-17-000018</td>\n",
       "      <td>Share Repurchase Authorization</td>\n",
       "      <td>The 2015 share repurchase program authorizes t...</td>\n",
       "      <td>1140000000</td>\n",
       "      <td>1.14</td>\n",
       "      <td>billions</td>\n",
       "      <td>On May 28, 2015 we  announced that our board  ...</td>\n",
       "    </tr>\n",
       "    <tr>\n",
       "      <th>2</th>\n",
       "      <td>A</td>\n",
       "      <td>0001090872-17-000018</td>\n",
       "      <td>Share Repurchase Intention</td>\n",
       "      <td>remaining authorization to repurchase up to</td>\n",
       "      <td>610000000</td>\n",
       "      <td>610.00</td>\n",
       "      <td>millions</td>\n",
       "      <td>Table of Contents   2016, upon the completion ...</td>\n",
       "    </tr>\n",
       "    <tr>\n",
       "      <th>3</th>\n",
       "      <td>A</td>\n",
       "      <td>0001090872-17-000018</td>\n",
       "      <td>Share Repurchase Count</td>\n",
       "      <td>repurchased</td>\n",
       "      <td>4100000</td>\n",
       "      <td>4.10</td>\n",
       "      <td>millions</td>\n",
       "      <td>Table of Contents   2016, upon the completion ...</td>\n",
       "    </tr>\n",
       "    <tr>\n",
       "      <th>4</th>\n",
       "      <td>A</td>\n",
       "      <td>0001090872-17-000018</td>\n",
       "      <td>Amount Spent on Share Repurchases</td>\n",
       "      <td>repurchased</td>\n",
       "      <td>194000000</td>\n",
       "      <td>194.00</td>\n",
       "      <td>millions</td>\n",
       "      <td>Table of Contents   2016, upon the completion ...</td>\n",
       "    </tr>\n",
       "  </tbody>\n",
       "</table>\n",
       "</div>"
      ],
      "text/plain": [
       "  ticker      accession_number               data_key_friendly_name  \\\n",
       "0      A  0001090872-17-000018  Share Repurchase Authorization Date   \n",
       "1      A  0001090872-17-000018       Share Repurchase Authorization   \n",
       "2      A  0001090872-17-000018           Share Repurchase Intention   \n",
       "3      A  0001090872-17-000018               Share Repurchase Count   \n",
       "4      A  0001090872-17-000018    Amount Spent on Share Repurchases   \n",
       "\n",
       "                                                text  data_value  \\\n",
       "0                                       May 28, 2015    20150528   \n",
       "1  The 2015 share repurchase program authorizes t...  1140000000   \n",
       "2        remaining authorization to repurchase up to   610000000   \n",
       "3                                        repurchased     4100000   \n",
       "4                                        repurchased   194000000   \n",
       "\n",
       "   reported_data_value reported_units  \\\n",
       "0          20200000.00           ones   \n",
       "1                 1.14       billions   \n",
       "2               610.00       millions   \n",
       "3                 4.10       millions   \n",
       "4               194.00       millions   \n",
       "\n",
       "                                      paragraph_text  \n",
       "0  On May 28, 2015 we  announced that our board  ...  \n",
       "1  On May 28, 2015 we  announced that our board  ...  \n",
       "2  Table of Contents   2016, upon the completion ...  \n",
       "3  Table of Contents   2016, upon the completion ...  \n",
       "4  Table of Contents   2016, upon the completion ...  "
      ]
     },
     "execution_count": 35,
     "metadata": {},
     "output_type": "execute_result"
    }
   ],
   "source": [
    "share_repurchase.head()"
   ]
  },
  {
   "cell_type": "code",
   "execution_count": 36,
   "metadata": {},
   "outputs": [
    {
     "data": {
      "text/plain": [
       "1781"
      ]
     },
     "execution_count": 36,
     "metadata": {},
     "output_type": "execute_result"
    }
   ],
   "source": [
    "len(share_repurchase)"
   ]
  },
  {
   "cell_type": "code",
   "execution_count": 37,
   "metadata": {},
   "outputs": [
    {
     "data": {
      "text/plain": [
       "accession_number\n",
       "0000002969-17-000039    3\n",
       "0000004127-17-000033    5\n",
       "0000004281-18-000042    3\n",
       "0000004962-18-000032    4\n",
       "0000004977-18-000054    3\n",
       "dtype: int64"
      ]
     },
     "execution_count": 37,
     "metadata": {},
     "output_type": "execute_result"
    }
   ],
   "source": [
    "share_repurchase.groupby('accession_number').size().head(5)"
   ]
  },
  {
   "cell_type": "code",
   "execution_count": 38,
   "metadata": {
    "collapsed": true
   },
   "outputs": [],
   "source": [
    "dfkn_array = share_repurchase.data_key_friendly_name.unique()"
   ]
  },
  {
   "cell_type": "code",
   "execution_count": 39,
   "metadata": {},
   "outputs": [
    {
     "data": {
      "text/plain": [
       "Share Repurchase Authorization Date    401\n",
       "Share Repurchase Authorization         369\n",
       "Amount Spent on Share Repurchases      329\n",
       "Share Repurchase Count                 286\n",
       "Share Repurchase Intention             227\n",
       "Unknown Share Repurchase Data          122\n",
       "Share Repurchase Utilization            47\n",
       "Name: data_key_friendly_name, dtype: int64"
      ]
     },
     "execution_count": 39,
     "metadata": {},
     "output_type": "execute_result"
    }
   ],
   "source": [
    "share_repurchase.data_key_friendly_name.value_counts()"
   ]
  },
  {
   "cell_type": "code",
   "execution_count": 40,
   "metadata": {},
   "outputs": [
    {
     "data": {
      "text/html": [
       "<div>\n",
       "<style>\n",
       "    .dataframe thead tr:only-child th {\n",
       "        text-align: right;\n",
       "    }\n",
       "\n",
       "    .dataframe thead th {\n",
       "        text-align: left;\n",
       "    }\n",
       "\n",
       "    .dataframe tbody tr th {\n",
       "        vertical-align: top;\n",
       "    }\n",
       "</style>\n",
       "<table border=\"1\" class=\"dataframe\">\n",
       "  <thead>\n",
       "    <tr style=\"text-align: right;\">\n",
       "      <th></th>\n",
       "      <th>ticker</th>\n",
       "      <th>accession_number</th>\n",
       "      <th>data_key_friendly_name</th>\n",
       "      <th>text</th>\n",
       "      <th>data_value</th>\n",
       "      <th>reported_data_value</th>\n",
       "      <th>reported_units</th>\n",
       "      <th>paragraph_text</th>\n",
       "    </tr>\n",
       "  </thead>\n",
       "  <tbody>\n",
       "    <tr>\n",
       "      <th>1515</th>\n",
       "      <td>SWKS</td>\n",
       "      <td>0000004127-17-000033</td>\n",
       "      <td>Share Repurchase Authorization Date</td>\n",
       "      <td>January 17, 2017</td>\n",
       "      <td>20170117</td>\n",
       "      <td>20200000.0</td>\n",
       "      <td>ones</td>\n",
       "      <td>SHARE REPURCHASE   On January 17, 2017, the Bo...</td>\n",
       "    </tr>\n",
       "    <tr>\n",
       "      <th>1516</th>\n",
       "      <td>SWKS</td>\n",
       "      <td>0000004127-17-000033</td>\n",
       "      <td>Amount Spent on Share Repurchases</td>\n",
       "      <td>repurchase</td>\n",
       "      <td>432300000</td>\n",
       "      <td>432.3</td>\n",
       "      <td>millions</td>\n",
       "      <td>SHARE REPURCHASE   On January 17, 2017, the Bo...</td>\n",
       "    </tr>\n",
       "    <tr>\n",
       "      <th>1517</th>\n",
       "      <td>SWKS</td>\n",
       "      <td>0000004127-17-000033</td>\n",
       "      <td>Share Repurchase Count</td>\n",
       "      <td>repurchase</td>\n",
       "      <td>4700000</td>\n",
       "      <td>4.7</td>\n",
       "      <td>millions</td>\n",
       "      <td>SHARE REPURCHASE   On January 17, 2017, the Bo...</td>\n",
       "    </tr>\n",
       "    <tr>\n",
       "      <th>1518</th>\n",
       "      <td>SWKS</td>\n",
       "      <td>0000004127-17-000033</td>\n",
       "      <td>Share Repurchase Intention</td>\n",
       "      <td>remained available under the January 17, 2017,...</td>\n",
       "      <td>174100000</td>\n",
       "      <td>174.1</td>\n",
       "      <td>millions</td>\n",
       "      <td>SHARE REPURCHASE   On January 17, 2017, the Bo...</td>\n",
       "    </tr>\n",
       "    <tr>\n",
       "      <th>1519</th>\n",
       "      <td>SWKS</td>\n",
       "      <td>0000004127-17-000033</td>\n",
       "      <td>Share Repurchase Authorization</td>\n",
       "      <td>the Board of Directors approved a new share re...</td>\n",
       "      <td>500000000</td>\n",
       "      <td>500.0</td>\n",
       "      <td>millions</td>\n",
       "      <td>SHARE REPURCHASE   On January 17, 2017, the Bo...</td>\n",
       "    </tr>\n",
       "  </tbody>\n",
       "</table>\n",
       "</div>"
      ],
      "text/plain": [
       "     ticker      accession_number               data_key_friendly_name  \\\n",
       "1515   SWKS  0000004127-17-000033  Share Repurchase Authorization Date   \n",
       "1516   SWKS  0000004127-17-000033    Amount Spent on Share Repurchases   \n",
       "1517   SWKS  0000004127-17-000033               Share Repurchase Count   \n",
       "1518   SWKS  0000004127-17-000033           Share Repurchase Intention   \n",
       "1519   SWKS  0000004127-17-000033       Share Repurchase Authorization   \n",
       "\n",
       "                                                   text  data_value  \\\n",
       "1515                                   January 17, 2017    20170117   \n",
       "1516                                         repurchase   432300000   \n",
       "1517                                         repurchase     4700000   \n",
       "1518  remained available under the January 17, 2017,...   174100000   \n",
       "1519  the Board of Directors approved a new share re...   500000000   \n",
       "\n",
       "      reported_data_value reported_units  \\\n",
       "1515           20200000.0           ones   \n",
       "1516                432.3       millions   \n",
       "1517                  4.7       millions   \n",
       "1518                174.1       millions   \n",
       "1519                500.0       millions   \n",
       "\n",
       "                                         paragraph_text  \n",
       "1515  SHARE REPURCHASE   On January 17, 2017, the Bo...  \n",
       "1516  SHARE REPURCHASE   On January 17, 2017, the Bo...  \n",
       "1517  SHARE REPURCHASE   On January 17, 2017, the Bo...  \n",
       "1518  SHARE REPURCHASE   On January 17, 2017, the Bo...  \n",
       "1519  SHARE REPURCHASE   On January 17, 2017, the Bo...  "
      ]
     },
     "execution_count": 40,
     "metadata": {},
     "output_type": "execute_result"
    }
   ],
   "source": [
    "share_repurchase[share_repurchase.accession_number == '0000004127-17-000033'] #0000004127-17-000033"
   ]
  },
  {
   "cell_type": "code",
   "execution_count": 41,
   "metadata": {
    "collapsed": true
   },
   "outputs": [],
   "source": [
    "dkfn_list = 'Share Repurchase Authorization Date Share Repurchase Authorization Amount Spent on Share Repurchases Share Repurchase Count Share Repurchase Intention Unknown Share Repurchase Data Share Repurchase Utilization'"
   ]
  },
  {
   "cell_type": "code",
   "execution_count": 42,
   "metadata": {
    "collapsed": true
   },
   "outputs": [],
   "source": [
    "dfkn_tokens = nltk.word_tokenize(dkfn_list)"
   ]
  },
  {
   "cell_type": "code",
   "execution_count": 43,
   "metadata": {},
   "outputs": [
    {
     "data": {
      "text/plain": [
       "['Share',\n",
       " 'Repurchase',\n",
       " 'Authorization',\n",
       " 'Date',\n",
       " 'Share',\n",
       " 'Repurchase',\n",
       " 'Authorization',\n",
       " 'Amount',\n",
       " 'Spent',\n",
       " 'on']"
      ]
     },
     "execution_count": 43,
     "metadata": {},
     "output_type": "execute_result"
    }
   ],
   "source": [
    "dfkn_tokens[:10]"
   ]
  },
  {
   "cell_type": "code",
   "execution_count": 44,
   "metadata": {
    "collapsed": true
   },
   "outputs": [],
   "source": [
    "text1 =share_repurchase[share_repurchase.data_key_friendly_name == 'Share Repurchase Authorization'].text\n",
    "tokens =   [word_tokenize(t.lower()) for t in text1]"
   ]
  },
  {
   "cell_type": "markdown",
   "metadata": {},
   "source": [
    "# flatten the list of lists "
   ]
  },
  {
   "cell_type": "code",
   "execution_count": 46,
   "metadata": {
    "collapsed": true
   },
   "outputs": [],
   "source": [
    "list_tokens1 = list(itertools.chain.from_iterable(tokens))\n"
   ]
  },
  {
   "cell_type": "code",
   "execution_count": 47,
   "metadata": {},
   "outputs": [
    {
     "data": {
      "text/plain": [
       "list"
      ]
     },
     "execution_count": 47,
     "metadata": {},
     "output_type": "execute_result"
    }
   ],
   "source": [
    "type(list_tokens1)"
   ]
  },
  {
   "cell_type": "code",
   "execution_count": 48,
   "metadata": {},
   "outputs": [
    {
     "data": {
      "text/plain": [
       "3634"
      ]
     },
     "execution_count": 48,
     "metadata": {},
     "output_type": "execute_result"
    }
   ],
   "source": [
    "len(list_tokens1)"
   ]
  },
  {
   "cell_type": "code",
   "execution_count": 49,
   "metadata": {},
   "outputs": [
    {
     "data": {
      "text/plain": [
       "['the',\n",
       " '2015',\n",
       " 'share',\n",
       " 'repurchase',\n",
       " 'program',\n",
       " 'authorizes',\n",
       " 'the',\n",
       " 'purchase',\n",
       " 'of',\n",
       " 'up']"
      ]
     },
     "execution_count": 49,
     "metadata": {},
     "output_type": "execute_result"
    }
   ],
   "source": [
    "list_tokens1[:10]"
   ]
  },
  {
   "cell_type": "code",
   "execution_count": 50,
   "metadata": {
    "collapsed": true
   },
   "outputs": [],
   "source": [
    "stop_words = set(stopwords.words(\"english\"))"
   ]
  },
  {
   "cell_type": "code",
   "execution_count": 51,
   "metadata": {
    "collapsed": true
   },
   "outputs": [],
   "source": [
    "no_stopwords = [t for t in list_tokens1 if t not in stop_words]"
   ]
  },
  {
   "cell_type": "code",
   "execution_count": 52,
   "metadata": {
    "scrolled": true
   },
   "outputs": [
    {
     "data": {
      "text/plain": [
       "['2015',\n",
       " 'share',\n",
       " 'repurchase',\n",
       " 'program',\n",
       " 'authorizes',\n",
       " 'purchase',\n",
       " 'share',\n",
       " 'repurchase',\n",
       " 'programs',\n",
       " 'aggregating']"
      ]
     },
     "execution_count": 52,
     "metadata": {},
     "output_type": "execute_result"
    }
   ],
   "source": [
    "no_stopwords[:10]"
   ]
  },
  {
   "cell_type": "code",
   "execution_count": 53,
   "metadata": {
    "collapsed": true
   },
   "outputs": [],
   "source": [
    "share_repurchase_text = Counter(no_stopwords)"
   ]
  },
  {
   "cell_type": "code",
   "execution_count": 54,
   "metadata": {},
   "outputs": [
    {
     "data": {
      "text/plain": [
       "[('repurchase', 260),\n",
       " ('board', 227),\n",
       " ('authorized', 202),\n",
       " ('directors', 188),\n",
       " ('program', 126),\n",
       " ('company', 93),\n",
       " ('share', 78),\n",
       " (\"'s\", 66),\n",
       " ('approved', 63),\n",
       " ('stock', 54)]"
      ]
     },
     "execution_count": 54,
     "metadata": {},
     "output_type": "execute_result"
    }
   ],
   "source": [
    "share_repurchase_text.most_common(10)"
   ]
  },
  {
   "cell_type": "code",
   "execution_count": 55,
   "metadata": {
    "collapsed": true
   },
   "outputs": [],
   "source": [
    "bigram = nltk.bigrams(share_repurchase_text)"
   ]
  },
  {
   "cell_type": "code",
   "execution_count": 56,
   "metadata": {},
   "outputs": [
    {
     "data": {
      "text/plain": [
       "[('2015', 'share'),\n",
       " ('share', 'repurchase'),\n",
       " ('repurchase', 'program'),\n",
       " ('program', 'authorizes'),\n",
       " ('authorizes', 'purchase'),\n",
       " ('purchase', 'programs'),\n",
       " ('programs', 'aggregating'),\n",
       " ('aggregating', 'authorization'),\n",
       " ('authorization', 'authorized'),\n",
       " ('authorized', 'company'),\n",
       " ('company', \"'s\"),\n",
       " (\"'s\", 'board'),\n",
       " ('board', 'directors'),\n",
       " ('directors', 'new'),\n",
       " ('new', 'allowing'),\n",
       " ('allowing', 'addition'),\n",
       " ('addition', 'aggregate'),\n",
       " ('aggregate', ','),\n",
       " (',', 'total'),\n",
       " ('total', 'stock'),\n",
       " ('stock', 'approved'),\n",
       " ('approved', 'additional'),\n",
       " ('additional', 'increase'),\n",
       " ('increase', 'publicly'),\n",
       " ('publicly', 'announced'),\n",
       " ('announced', '('),\n",
       " ('(', '1'),\n",
       " ('1', ')'),\n",
       " (')', 'plan'),\n",
       " ('plan', 'future'),\n",
       " ('future', 'acquisition'),\n",
       " ('acquisition', 'shares'),\n",
       " ('shares', 'value'),\n",
       " ('value', 'applied'),\n",
       " ('applied', 'common'),\n",
       " ('common', 'authorizing'),\n",
       " ('authorizing', 'expenditure'),\n",
       " ('expenditure', 'pursuant'),\n",
       " ('pursuant', 'current'),\n",
       " ('current', 'initially'),\n",
       " ('initially', 'authorizations'),\n",
       " ('authorizations', 'share-repurchase'),\n",
       " ('share-repurchase', 'may'),\n",
       " ('may', 'fair'),\n",
       " ('fair', 'market'),\n",
       " ('market', 'billions'),\n",
       " ('billions', '^'),\n",
       " ('^', 'increased'),\n",
       " ('increased', 'authority'),\n",
       " ('authority', 'bhge'),\n",
       " ('bhge', 'llc'),\n",
       " ('llc', 'bny'),\n",
       " ('bny', 'mellon'),\n",
       " ('mellon', 'providing'),\n",
       " ('providing', 'acquire'),\n",
       " ('acquire', 'chubb'),\n",
       " ('chubb', 'replenished'),\n",
       " ('replenished', 'remaining'),\n",
       " ('remaining', 'repurchases'),\n",
       " ('repurchases', 'time'),\n",
       " ('time', 'approval'),\n",
       " ('approval', 'cadence'),\n",
       " ('cadence', 'allows'),\n",
       " ('allows', 'cfg'),\n",
       " ('cfg', 'price'),\n",
       " ('price', 'amount'),\n",
       " ('amount', 'includes'),\n",
       " ('includes', 'equity'),\n",
       " ('equity', 'reduced'),\n",
       " ('reduced', 'cintas'),\n",
       " ('cintas', 'ongoing'),\n",
       " ('ongoing', 'granted'),\n",
       " ('granted', 'november'),\n",
       " ('november', '2'),\n",
       " ('2', '2016'),\n",
       " ('2016', '``'),\n",
       " ('``', \"''\"),\n",
       " (\"''\", 'dominion'),\n",
       " ('dominion', 'energy'),\n",
       " ('energy', 'since'),\n",
       " ('since', 'inception'),\n",
       " ('inception', 'extended'),\n",
       " ('extended', 'currently'),\n",
       " ('currently', 'management'),\n",
       " ('management', 'maximum'),\n",
       " ('maximum', 'dowdupont'),\n",
       " ('dowdupont', 'special'),\n",
       " ('special', 'committee'),\n",
       " ('committee', 'behalf'),\n",
       " ('behalf', 'full'),\n",
       " ('full', 'essex'),\n",
       " ('essex', 'allow'),\n",
       " ('allow', 'incremental'),\n",
       " ('incremental', 'existing'),\n",
       " ('existing', 'august'),\n",
       " ('august', '8'),\n",
       " ('8', '2011'),\n",
       " ('2011', 'corning'),\n",
       " ('corning', 'january'),\n",
       " ('january', '2017'),\n",
       " ('2017', 'b'),\n",
       " ('b', 'refreshed'),\n",
       " ('refreshed', 'hp'),\n",
       " ('hp', 'us'),\n",
       " ('us', '2013'),\n",
       " ('2013', 'provide'),\n",
       " ('provide', 'available'),\n",
       " ('available', 'size'),\n",
       " ('size', 'expiration'),\n",
       " ('expiration', 'date'),\n",
       " ('date', 'provided'),\n",
       " ('provided', 'october'),\n",
       " ('october', 'ended'),\n",
       " ('ended', 'march'),\n",
       " ('march', 'february'),\n",
       " ('february', 'ending'),\n",
       " ('ending', '31'),\n",
       " ('31', '2018'),\n",
       " ('2018', 'gross'),\n",
       " ('gross', 'exceed'),\n",
       " ('exceed', 'buy-back'),\n",
       " ('buy-back', 'outstanding'),\n",
       " ('outstanding', 'l3'),\n",
       " ('l3', 'securities'),\n",
       " ('securities', 'bringing'),\n",
       " ('bringing', 'retirement'),\n",
       " ('retirement', 'mattel'),\n",
       " ('mattel', 'december'),\n",
       " ('december', '15'),\n",
       " ('15', 'metlife'),\n",
       " ('metlife', 'inc.'),\n",
       " ('inc.', 'series'),\n",
       " ('series', 'actions'),\n",
       " ('actions', '&'),\n",
       " ('&', 'discretionary'),\n",
       " ('discretionary', 'nielsen'),\n",
       " ('nielsen', 'included'),\n",
       " ('included', 'table'),\n",
       " ('table', 'corporation'),\n",
       " ('corporation', 'capital'),\n",
       " ('capital', 'reviewed'),\n",
       " ('reviewed', 'without'),\n",
       " ('without', 'objection'),\n",
       " ('objection', 'federal'),\n",
       " ('federal', 'reserve'),\n",
       " ('reserve', 'approximately'),\n",
       " ('approximately', 'resulting'),\n",
       " ('resulting', 'cumulative'),\n",
       " ('cumulative', 'july'),\n",
       " ('july', 'allocated'),\n",
       " ('allocated', 'totaling'),\n",
       " ('totaling', 'pca'),\n",
       " ('pca', 'ordinary'),\n",
       " ('ordinary', 'dollar'),\n",
       " ('dollar', 'limit'),\n",
       " ('limit', 'ppg'),\n",
       " ('ppg', 'prudential'),\n",
       " ('prudential', 'financial'),\n",
       " ('financial', 'discretion'),\n",
       " ('discretion', 'various'),\n",
       " ('various', 'times'),\n",
       " ('times', 'quanta'),\n",
       " ('quanta', 'june'),\n",
       " ('june', '30'),\n",
       " ('30', '2020'),\n",
       " ('2020', '12-month'),\n",
       " ('12-month', 'expand'),\n",
       " ('expand', 'expend'),\n",
       " ('expend', 'also'),\n",
       " ('also', 'two'),\n",
       " ('two', 'csc'),\n",
       " ('csc', 'covering'),\n",
       " ('covering', 'simon'),\n",
       " ('simon', 'two-year'),\n",
       " ('two-year', 'extension'),\n",
       " ('extension', 'previously'),\n",
       " ('previously', 'sempra'),\n",
       " ('sempra', 'amounts'),\n",
       " ('amounts', 'spent'),\n",
       " ('spent', 'purpose'),\n",
       " ('purpose', 'greater'),\n",
       " ('greater', 'objections'),\n",
       " ('objections', 'replacing'),\n",
       " ('replacing', '$'),\n",
       " ('$', '600'),\n",
       " ('600', 'million'),\n",
       " ('million', 'permitting'),\n",
       " ('permitting', 'increases'),\n",
       " ('increases', 'tjx'),\n",
       " ('tjx', 'added'),\n",
       " ('added', 'warner'),\n",
       " ('warner', 'ual'),\n",
       " ('ual', '400'),\n",
       " ('400', 'could'),\n",
       " ('could', 'walgreens'),\n",
       " ('walgreens', 'boots'),\n",
       " ('boots', 'alliance'),\n",
       " ('alliance', 'expanded'),\n",
       " ('expanded', '^1')]"
      ]
     },
     "execution_count": 56,
     "metadata": {},
     "output_type": "execute_result"
    }
   ],
   "source": [
    "list(bigram)"
   ]
  },
  {
   "cell_type": "code",
   "execution_count": 57,
   "metadata": {
    "collapsed": true
   },
   "outputs": [],
   "source": [
    "trigram = nltk.trigrams(share_repurchase_text)"
   ]
  },
  {
   "cell_type": "code",
   "execution_count": 58,
   "metadata": {},
   "outputs": [
    {
     "data": {
      "text/plain": [
       "[('2015', 'share', 'repurchase'),\n",
       " ('share', 'repurchase', 'program'),\n",
       " ('repurchase', 'program', 'authorizes'),\n",
       " ('program', 'authorizes', 'purchase'),\n",
       " ('authorizes', 'purchase', 'programs'),\n",
       " ('purchase', 'programs', 'aggregating'),\n",
       " ('programs', 'aggregating', 'authorization'),\n",
       " ('aggregating', 'authorization', 'authorized'),\n",
       " ('authorization', 'authorized', 'company'),\n",
       " ('authorized', 'company', \"'s\"),\n",
       " ('company', \"'s\", 'board'),\n",
       " (\"'s\", 'board', 'directors'),\n",
       " ('board', 'directors', 'new'),\n",
       " ('directors', 'new', 'allowing'),\n",
       " ('new', 'allowing', 'addition'),\n",
       " ('allowing', 'addition', 'aggregate'),\n",
       " ('addition', 'aggregate', ','),\n",
       " ('aggregate', ',', 'total'),\n",
       " (',', 'total', 'stock'),\n",
       " ('total', 'stock', 'approved'),\n",
       " ('stock', 'approved', 'additional'),\n",
       " ('approved', 'additional', 'increase'),\n",
       " ('additional', 'increase', 'publicly'),\n",
       " ('increase', 'publicly', 'announced'),\n",
       " ('publicly', 'announced', '('),\n",
       " ('announced', '(', '1'),\n",
       " ('(', '1', ')'),\n",
       " ('1', ')', 'plan'),\n",
       " (')', 'plan', 'future'),\n",
       " ('plan', 'future', 'acquisition'),\n",
       " ('future', 'acquisition', 'shares'),\n",
       " ('acquisition', 'shares', 'value'),\n",
       " ('shares', 'value', 'applied'),\n",
       " ('value', 'applied', 'common'),\n",
       " ('applied', 'common', 'authorizing'),\n",
       " ('common', 'authorizing', 'expenditure'),\n",
       " ('authorizing', 'expenditure', 'pursuant'),\n",
       " ('expenditure', 'pursuant', 'current'),\n",
       " ('pursuant', 'current', 'initially'),\n",
       " ('current', 'initially', 'authorizations'),\n",
       " ('initially', 'authorizations', 'share-repurchase'),\n",
       " ('authorizations', 'share-repurchase', 'may'),\n",
       " ('share-repurchase', 'may', 'fair'),\n",
       " ('may', 'fair', 'market'),\n",
       " ('fair', 'market', 'billions'),\n",
       " ('market', 'billions', '^'),\n",
       " ('billions', '^', 'increased'),\n",
       " ('^', 'increased', 'authority'),\n",
       " ('increased', 'authority', 'bhge'),\n",
       " ('authority', 'bhge', 'llc'),\n",
       " ('bhge', 'llc', 'bny'),\n",
       " ('llc', 'bny', 'mellon'),\n",
       " ('bny', 'mellon', 'providing'),\n",
       " ('mellon', 'providing', 'acquire'),\n",
       " ('providing', 'acquire', 'chubb'),\n",
       " ('acquire', 'chubb', 'replenished'),\n",
       " ('chubb', 'replenished', 'remaining'),\n",
       " ('replenished', 'remaining', 'repurchases'),\n",
       " ('remaining', 'repurchases', 'time'),\n",
       " ('repurchases', 'time', 'approval'),\n",
       " ('time', 'approval', 'cadence'),\n",
       " ('approval', 'cadence', 'allows'),\n",
       " ('cadence', 'allows', 'cfg'),\n",
       " ('allows', 'cfg', 'price'),\n",
       " ('cfg', 'price', 'amount'),\n",
       " ('price', 'amount', 'includes'),\n",
       " ('amount', 'includes', 'equity'),\n",
       " ('includes', 'equity', 'reduced'),\n",
       " ('equity', 'reduced', 'cintas'),\n",
       " ('reduced', 'cintas', 'ongoing'),\n",
       " ('cintas', 'ongoing', 'granted'),\n",
       " ('ongoing', 'granted', 'november'),\n",
       " ('granted', 'november', '2'),\n",
       " ('november', '2', '2016'),\n",
       " ('2', '2016', '``'),\n",
       " ('2016', '``', \"''\"),\n",
       " ('``', \"''\", 'dominion'),\n",
       " (\"''\", 'dominion', 'energy'),\n",
       " ('dominion', 'energy', 'since'),\n",
       " ('energy', 'since', 'inception'),\n",
       " ('since', 'inception', 'extended'),\n",
       " ('inception', 'extended', 'currently'),\n",
       " ('extended', 'currently', 'management'),\n",
       " ('currently', 'management', 'maximum'),\n",
       " ('management', 'maximum', 'dowdupont'),\n",
       " ('maximum', 'dowdupont', 'special'),\n",
       " ('dowdupont', 'special', 'committee'),\n",
       " ('special', 'committee', 'behalf'),\n",
       " ('committee', 'behalf', 'full'),\n",
       " ('behalf', 'full', 'essex'),\n",
       " ('full', 'essex', 'allow'),\n",
       " ('essex', 'allow', 'incremental'),\n",
       " ('allow', 'incremental', 'existing'),\n",
       " ('incremental', 'existing', 'august'),\n",
       " ('existing', 'august', '8'),\n",
       " ('august', '8', '2011'),\n",
       " ('8', '2011', 'corning'),\n",
       " ('2011', 'corning', 'january'),\n",
       " ('corning', 'january', '2017'),\n",
       " ('january', '2017', 'b'),\n",
       " ('2017', 'b', 'refreshed'),\n",
       " ('b', 'refreshed', 'hp'),\n",
       " ('refreshed', 'hp', 'us'),\n",
       " ('hp', 'us', '2013'),\n",
       " ('us', '2013', 'provide'),\n",
       " ('2013', 'provide', 'available'),\n",
       " ('provide', 'available', 'size'),\n",
       " ('available', 'size', 'expiration'),\n",
       " ('size', 'expiration', 'date'),\n",
       " ('expiration', 'date', 'provided'),\n",
       " ('date', 'provided', 'october'),\n",
       " ('provided', 'october', 'ended'),\n",
       " ('october', 'ended', 'march'),\n",
       " ('ended', 'march', 'february'),\n",
       " ('march', 'february', 'ending'),\n",
       " ('february', 'ending', '31'),\n",
       " ('ending', '31', '2018'),\n",
       " ('31', '2018', 'gross'),\n",
       " ('2018', 'gross', 'exceed'),\n",
       " ('gross', 'exceed', 'buy-back'),\n",
       " ('exceed', 'buy-back', 'outstanding'),\n",
       " ('buy-back', 'outstanding', 'l3'),\n",
       " ('outstanding', 'l3', 'securities'),\n",
       " ('l3', 'securities', 'bringing'),\n",
       " ('securities', 'bringing', 'retirement'),\n",
       " ('bringing', 'retirement', 'mattel'),\n",
       " ('retirement', 'mattel', 'december'),\n",
       " ('mattel', 'december', '15'),\n",
       " ('december', '15', 'metlife'),\n",
       " ('15', 'metlife', 'inc.'),\n",
       " ('metlife', 'inc.', 'series'),\n",
       " ('inc.', 'series', 'actions'),\n",
       " ('series', 'actions', '&'),\n",
       " ('actions', '&', 'discretionary'),\n",
       " ('&', 'discretionary', 'nielsen'),\n",
       " ('discretionary', 'nielsen', 'included'),\n",
       " ('nielsen', 'included', 'table'),\n",
       " ('included', 'table', 'corporation'),\n",
       " ('table', 'corporation', 'capital'),\n",
       " ('corporation', 'capital', 'reviewed'),\n",
       " ('capital', 'reviewed', 'without'),\n",
       " ('reviewed', 'without', 'objection'),\n",
       " ('without', 'objection', 'federal'),\n",
       " ('objection', 'federal', 'reserve'),\n",
       " ('federal', 'reserve', 'approximately'),\n",
       " ('reserve', 'approximately', 'resulting'),\n",
       " ('approximately', 'resulting', 'cumulative'),\n",
       " ('resulting', 'cumulative', 'july'),\n",
       " ('cumulative', 'july', 'allocated'),\n",
       " ('july', 'allocated', 'totaling'),\n",
       " ('allocated', 'totaling', 'pca'),\n",
       " ('totaling', 'pca', 'ordinary'),\n",
       " ('pca', 'ordinary', 'dollar'),\n",
       " ('ordinary', 'dollar', 'limit'),\n",
       " ('dollar', 'limit', 'ppg'),\n",
       " ('limit', 'ppg', 'prudential'),\n",
       " ('ppg', 'prudential', 'financial'),\n",
       " ('prudential', 'financial', 'discretion'),\n",
       " ('financial', 'discretion', 'various'),\n",
       " ('discretion', 'various', 'times'),\n",
       " ('various', 'times', 'quanta'),\n",
       " ('times', 'quanta', 'june'),\n",
       " ('quanta', 'june', '30'),\n",
       " ('june', '30', '2020'),\n",
       " ('30', '2020', '12-month'),\n",
       " ('2020', '12-month', 'expand'),\n",
       " ('12-month', 'expand', 'expend'),\n",
       " ('expand', 'expend', 'also'),\n",
       " ('expend', 'also', 'two'),\n",
       " ('also', 'two', 'csc'),\n",
       " ('two', 'csc', 'covering'),\n",
       " ('csc', 'covering', 'simon'),\n",
       " ('covering', 'simon', 'two-year'),\n",
       " ('simon', 'two-year', 'extension'),\n",
       " ('two-year', 'extension', 'previously'),\n",
       " ('extension', 'previously', 'sempra'),\n",
       " ('previously', 'sempra', 'amounts'),\n",
       " ('sempra', 'amounts', 'spent'),\n",
       " ('amounts', 'spent', 'purpose'),\n",
       " ('spent', 'purpose', 'greater'),\n",
       " ('purpose', 'greater', 'objections'),\n",
       " ('greater', 'objections', 'replacing'),\n",
       " ('objections', 'replacing', '$'),\n",
       " ('replacing', '$', '600'),\n",
       " ('$', '600', 'million'),\n",
       " ('600', 'million', 'permitting'),\n",
       " ('million', 'permitting', 'increases'),\n",
       " ('permitting', 'increases', 'tjx'),\n",
       " ('increases', 'tjx', 'added'),\n",
       " ('tjx', 'added', 'warner'),\n",
       " ('added', 'warner', 'ual'),\n",
       " ('warner', 'ual', '400'),\n",
       " ('ual', '400', 'could'),\n",
       " ('400', 'could', 'walgreens'),\n",
       " ('could', 'walgreens', 'boots'),\n",
       " ('walgreens', 'boots', 'alliance'),\n",
       " ('boots', 'alliance', 'expanded'),\n",
       " ('alliance', 'expanded', '^1')]"
      ]
     },
     "execution_count": 58,
     "metadata": {},
     "output_type": "execute_result"
    }
   ],
   "source": [
    "list(trigram)"
   ]
  },
  {
   "cell_type": "markdown",
   "metadata": {},
   "source": [
    "# using nltk collocation to score bigram - highest scoring pairM\n",
    "\n"
   ]
  },
  {
   "cell_type": "code",
   "execution_count": 59,
   "metadata": {
    "collapsed": true
   },
   "outputs": [],
   "source": [
    "bgm = nltk.collocations.BigramAssocMeasures()"
   ]
  },
  {
   "cell_type": "code",
   "execution_count": 60,
   "metadata": {
    "collapsed": true
   },
   "outputs": [],
   "source": [
    "finder = nltk.collocations.BigramCollocationFinder.from_words(no_stopwords)"
   ]
  },
  {
   "cell_type": "code",
   "execution_count": 61,
   "metadata": {
    "collapsed": true
   },
   "outputs": [],
   "source": [
    "scored = finder.score_ngrams(bgm.likelihood_ratio)"
   ]
  },
  {
   "cell_type": "code",
   "execution_count": 62,
   "metadata": {
    "collapsed": true
   },
   "outputs": [],
   "source": [
    "prefix_keys = collections.defaultdict(list)\n",
    "for key, scores in scored:\n",
    "   prefix_keys[key[0]].append((key[1], scores))"
   ]
  },
  {
   "cell_type": "code",
   "execution_count": 63,
   "metadata": {},
   "outputs": [
    {
     "name": "stdout",
     "output_type": "stream",
     "text": [
      "share [('repurchase', 286.5118390394699), ('repurchases', 9.819564398493753), ('buy-back', 6.564744672991836)]\n",
      "----------\n",
      "repurchase [('program', 330.31478086684785), ('repurchase', 53.15973473982663), ('authorization', 31.252341834481363), ('programs', 20.806698636080096), ('authorized', 14.649208755013685), ('approved', 10.777149208270593), ('plan', 9.499652184232882), ('stock', 8.600419110524488), ('ordinary', 8.3023020413948), ('walgreens', 8.3023020413948), ('additional', 7.922659551716681), ('share', 7.398097940838134), (',', 5.8099766060822695), ('shares', 5.6021866962806435), ('aggregate', 4.724409150494471)]\n",
      "-----------\n",
      "authorization [('addition', 11.190611472588705), ('(', 8.46492295337345), ('added', 7.4613753431276395), ('currently', 7.4613753431276395), ('incremental', 7.4613753431276395), ('metlife', 7.4613753431276395), ('pca', 7.4613753431276395), ('totaling', 7.4613753431276395), ('company', 7.135299359131476), ('authorized', 5.018298716710264), ('current', 4.736851710973285), ('granted', 3.738444100244067), ('existing', 3.1069602397379006), ('amount', 1.7700045264657795), ('board', 1.173863705239218)]\n",
      "------------\n",
      "directors [('authorized', 360.2760474710036), ('approved', 190.79460226215048), ('board', 37.551452656615034), ('increased', 12.46619235221894), ('company', 11.639762728049721), ('share', 9.016622699992883), ('allocated', 4.797731350654482), ('expand', 4.797731350654482), ('extended', 4.797731350654482), ('reduced', 4.797731350654482), ('august', 2.215133093744985), ('march', 2.215133093744985), ('announced', 1.7045220499432934), (',', 1.2087373913064194), ('(', 0.39655265904185355)]\n"
     ]
    }
   ],
   "source": [
    "# Sort keyed bigrams by strongest association.                                  \n",
    "for key in prefix_keys:\n",
    "   prefix_keys[key].sort(key = lambda x: -x[1])\n",
    "\n",
    "print('share',prefix_keys['share'][:15])\n",
    "print(\"----------\")\n",
    "print('repurchase', prefix_keys['repurchase'][:15])\n",
    "print(\"-----------\")\n",
    "print('authorization', prefix_keys['authorization'][:15])\n",
    "print(\"------------\")\n",
    "print('directors', prefix_keys['directors'][:15])"
   ]
  },
  {
   "cell_type": "markdown",
   "metadata": {},
   "source": [
    "# trigram scoring using nltk collocations\n",
    "\n"
   ]
  },
  {
   "cell_type": "code",
   "execution_count": 64,
   "metadata": {},
   "outputs": [
    {
     "name": "stdout",
     "output_type": "stream",
     "text": [
      "share repurchase [('repurchase', 1005.4954276512559), ('repurchase', 488.09978484469923), ('repurchase', 464.366623736017), ('repurchase', 447.4393781700127), ('repurchase', 438.67476892126706), ('buy-back', 361.20144378261625), ('repurchases', 42.03516976785512), ('repurchases', 33.87925486896576), ('repurchases', 31.757146305976992), ('repurchases', 29.85111790630344)]\n",
      "----------\n",
      "repurchase date [('board', 1556.710438868668), ('repurchase', 575.3049959319687), ('program', 547.8673289310698), ('program', 533.4271486040991), ('program', 522.8514390984434), ('program', 519.0206191673053), ('program', 518.5758656441026), ('program', 516.5464080553979), ('program', 516.4474964325532), ('program', 509.86293487803107), ('program', 508.5900590599889), ('program', 508.0911075821444), ('program', 504.56964100046815), ('program', 504.56964100046815), ('program', 504.56964100046815)]\n",
      "-----------\n",
      "authorization date [('board', 1548.5563837420482), ('share', 434.0346564566168), ('company', 375.861869518739), ('common', 197.39899145701332), ('stock', 152.96881403143436), ('announced', 80.9658517134564), ('company', 65.81771745954254), ('repurchase', 49.455181525103086), ('(', 38.9097311958967), ('addition', 38.52496413217263), ('existing', 34.21356163309559), ('current', 33.15572843588744), ('(', 32.86668692205792), ('(', 32.86668692205792), ('authorized', 32.3621145855326)]\n",
      "------------\n",
      "board directors [('authorized', 698.4901019196905), ('authorized', 612.5160070574914), ('authorized', 577.030445532161), ('authorized', 575.8989899639305), ('authorized', 574.2731501263568), ('authorized', 567.468880830837), ('authorized', 562.411002009202), ('authorized', 559.3854760131045), ('authorized', 555.8625071383267), ('authorized', 550.9492779949558), ('authorized', 550.4563291407394), ('authorized', 549.1166024057208), ('authorized', 549.1166024057208), ('authorized', 549.1166024057208), ('authorized', 549.1166024057208)]\n"
     ]
    }
   ],
   "source": [
    "tgm = nltk.collocations.TrigramAssocMeasures()\n",
    "finder = nltk.collocations.TrigramCollocationFinder.from_words(no_stopwords)\n",
    "scored = finder.score_ngrams(tgm.likelihood_ratio)\n",
    "prefix_keys = collections.defaultdict(list)\n",
    "for key, scores in scored:\n",
    "   prefix_keys[key[0]].append((key[1], scores))\n",
    "\n",
    "# Sort keyed trigrams by strongest association.                                  \n",
    "for key in prefix_keys:\n",
    "   prefix_keys[key].sort(key = lambda x: -x[1])\n",
    "\n",
    "print('share repurchase',prefix_keys['share'][:15])\n",
    "print(\"----------\")\n",
    "print('repurchase date', prefix_keys['repurchase'][:15])\n",
    "print(\"-----------\")\n",
    "print('authorization date', prefix_keys['authorization'][:15])\n",
    "print(\"------------\")\n",
    "print('board directors', prefix_keys['directors'][:15])\n"
   ]
  },
  {
   "cell_type": "code",
   "execution_count": 65,
   "metadata": {},
   "outputs": [
    {
     "data": {
      "text/plain": [
       "collections.defaultdict"
      ]
     },
     "execution_count": 65,
     "metadata": {},
     "output_type": "execute_result"
    }
   ],
   "source": [
    "type(prefix_keys)"
   ]
  },
  {
   "cell_type": "code",
   "execution_count": 66,
   "metadata": {},
   "outputs": [
    {
     "name": "stdout",
     "output_type": "stream",
     "text": [
      "['board', \"'s\", 'announced', 'additional', 'purchase', 'authorized', 'repurchase', 'program', 'energy', 'approximately', 'committee', 'discretion', 'dowdupont', 'expenditure', 'full', 'totaling', 'programs', 'authority', 'acquire', 'acquisition', 'covering', 'increases', 'new', '2018', 'maximum', 'value', 'authorization', 'total', 'aggregate', 'authorizing', '2015', 'remaining', ')', 'approved', ',', 'share', 'company', 'stock', 'directors', '2013', 'aggregating', 'available', '2016', '2017', 'existing', 'amount', 'common', 'repurchases', 'shares', 'increase', 'approval', 'inception', 'outstanding', 'authorizations', 'applied', 'csc', 'corning', 'financial', 'hp', 'nielsen', 'ppg', 'simon', 'ual', 'warner', '&', 'cadence', 'essex', 'l3', 'quanta', '12-month', 'cfg', 'expanded', 'expend', 'ongoing', 'replenished', 'tjx', 'alliance', 'us', 'walgreens', 'cintas', 'inc.', 'pca', 'exceed', \"''\", '(', 'also', 'currently', 'addition', 'greater', '$', 'boots', 'federal', 'objection', 'time', 'plan', 'securities', 'increased', 'pursuant', 'two', 'amounts', 'dollar', 'reviewed', 'two-year', 'allocated', 'sempra', 'ending', 'provided', 'replacing', 'without', 'gross', 'ordinary', 'fair', 'permitting', 'august', 'purpose', 'spent', 'refreshed', 'providing', 'allow', 'ended', 'billions', 'includes', 'granted', 'chubb', 'current', 'bny', 'could', '30', '8', 'expiration', 'included', 'june', 'metlife', 'november', 'series', 'various', 'extended', 'resulting', 'future', '400', 'limit', 'prudential', 'october', 'since', '^', 'market', 'december', '2011', 'extension', 'behalf', 'special', '``', 'bringing', 'reduced', 'management', 'bhge', '1', '2', '31', 'july', 'initially', '15', 'price', 'may', 'january', '600', 'million', 'dominion', 'reserve', 'previously', 'incremental', 'capital', 'equity', 'authorizes', 'cumulative', 'february', 'march', 'b', 'corporation', 'mattel', 'allowing', '^1', 'added', 'mellon', 'publicly', 'expand', '2020', 'table', 'provide', 'buy-back', 'share-repurchase', 'size', 'actions', 'retirement', 'date', 'times', 'discretionary', 'allows', 'llc', 'objections']\n"
     ]
    }
   ],
   "source": [
    "print([key for key, value in prefix_keys.items()])\n"
   ]
  },
  {
   "cell_type": "markdown",
   "metadata": {
    "collapsed": true
   },
   "source": [
    "# read the csv with predicted values\n"
   ]
  },
  {
   "cell_type": "code",
   "execution_count": 70,
   "metadata": {},
   "outputs": [],
   "source": [
    "share_repurchase_pred_para = pd.read_csv('data/share_repurchase_pred_para.csv',index_col=0)"
   ]
  },
  {
   "cell_type": "code",
   "execution_count": 71,
   "metadata": {},
   "outputs": [
    {
     "data": {
      "text/html": [
       "<div>\n",
       "<style>\n",
       "    .dataframe thead tr:only-child th {\n",
       "        text-align: right;\n",
       "    }\n",
       "\n",
       "    .dataframe thead th {\n",
       "        text-align: left;\n",
       "    }\n",
       "\n",
       "    .dataframe tbody tr th {\n",
       "        vertical-align: top;\n",
       "    }\n",
       "</style>\n",
       "<table border=\"1\" class=\"dataframe\">\n",
       "  <thead>\n",
       "    <tr style=\"text-align: right;\">\n",
       "      <th></th>\n",
       "      <th>Unnamed: 0.1</th>\n",
       "      <th>ticker</th>\n",
       "      <th>accession_number</th>\n",
       "      <th>data_key_friendly_name</th>\n",
       "      <th>text</th>\n",
       "      <th>data_value</th>\n",
       "      <th>reported_data_value</th>\n",
       "      <th>reported_units</th>\n",
       "      <th>paragraph_text</th>\n",
       "      <th>pred_par</th>\n",
       "      <th>...</th>\n",
       "      <th>count</th>\n",
       "      <th>intention</th>\n",
       "      <th>utilization</th>\n",
       "      <th>unknown</th>\n",
       "      <th>pred_proba</th>\n",
       "      <th>tknzd_tst_par_len</th>\n",
       "      <th>tot_incl</th>\n",
       "      <th>inclusion_pct</th>\n",
       "      <th>baggage_pct</th>\n",
       "      <th>tknzd_pred_par_len</th>\n",
       "    </tr>\n",
       "  </thead>\n",
       "  <tbody>\n",
       "    <tr>\n",
       "      <th>0</th>\n",
       "      <td>0</td>\n",
       "      <td>A</td>\n",
       "      <td>0001090872-17-000018</td>\n",
       "      <td>Share Repurchase Authorization Date</td>\n",
       "      <td>May 28, 2015</td>\n",
       "      <td>20150528</td>\n",
       "      <td>20200000.00</td>\n",
       "      <td>ones</td>\n",
       "      <td>On May 28, 2015 we  announced that our board  ...</td>\n",
       "      <td>ases under this authorization. on may 28, 2015...</td>\n",
       "      <td>...</td>\n",
       "      <td>0</td>\n",
       "      <td>0</td>\n",
       "      <td>0</td>\n",
       "      <td>0</td>\n",
       "      <td>0.975636</td>\n",
       "      <td>46.0</td>\n",
       "      <td>False</td>\n",
       "      <td>97.83</td>\n",
       "      <td>40.00</td>\n",
       "      <td>['pred_tokenized_par_len']</td>\n",
       "    </tr>\n",
       "    <tr>\n",
       "      <th>1</th>\n",
       "      <td>1</td>\n",
       "      <td>A</td>\n",
       "      <td>0001090872-17-000018</td>\n",
       "      <td>Share Repurchase Authorization</td>\n",
       "      <td>The 2015 share repurchase program authorizes t...</td>\n",
       "      <td>1140000000</td>\n",
       "      <td>1.14</td>\n",
       "      <td>billions</td>\n",
       "      <td>On May 28, 2015 we  announced that our board  ...</td>\n",
       "      <td>31, 2016 we repurchased approximately 2.4 mil...</td>\n",
       "      <td>...</td>\n",
       "      <td>0</td>\n",
       "      <td>0</td>\n",
       "      <td>0</td>\n",
       "      <td>0</td>\n",
       "      <td>0.988679</td>\n",
       "      <td>46.0</td>\n",
       "      <td>False</td>\n",
       "      <td>97.83</td>\n",
       "      <td>40.91</td>\n",
       "      <td>['pred_tokenized_par_len']</td>\n",
       "    </tr>\n",
       "    <tr>\n",
       "      <th>2</th>\n",
       "      <td>2</td>\n",
       "      <td>A</td>\n",
       "      <td>0001090872-17-000018</td>\n",
       "      <td>Share Repurchase Intention</td>\n",
       "      <td>remaining authorization to repurchase up to</td>\n",
       "      <td>610000000</td>\n",
       "      <td>610.00</td>\n",
       "      <td>millions</td>\n",
       "      <td>Table of Contents   2016, upon the completion ...</td>\n",
       "      <td>zation. on may 28, 2015 we announced that our ...</td>\n",
       "      <td>...</td>\n",
       "      <td>0</td>\n",
       "      <td>1</td>\n",
       "      <td>0</td>\n",
       "      <td>0</td>\n",
       "      <td>0.999220</td>\n",
       "      <td>38.0</td>\n",
       "      <td>False</td>\n",
       "      <td>94.74</td>\n",
       "      <td>47.27</td>\n",
       "      <td>['pred_tokenized_par_len']</td>\n",
       "    </tr>\n",
       "    <tr>\n",
       "      <th>3</th>\n",
       "      <td>3</td>\n",
       "      <td>A</td>\n",
       "      <td>0001090872-17-000018</td>\n",
       "      <td>Share Repurchase Count</td>\n",
       "      <td>repurchased</td>\n",
       "      <td>4100000</td>\n",
       "      <td>4.10</td>\n",
       "      <td>millions</td>\n",
       "      <td>Table of Contents   2016, upon the completion ...</td>\n",
       "      <td>ed the purchases under this authorization. on ...</td>\n",
       "      <td>...</td>\n",
       "      <td>1</td>\n",
       "      <td>0</td>\n",
       "      <td>0</td>\n",
       "      <td>0</td>\n",
       "      <td>0.994602</td>\n",
       "      <td>38.0</td>\n",
       "      <td>False</td>\n",
       "      <td>94.74</td>\n",
       "      <td>46.36</td>\n",
       "      <td>['pred_tokenized_par_len']</td>\n",
       "    </tr>\n",
       "    <tr>\n",
       "      <th>4</th>\n",
       "      <td>4</td>\n",
       "      <td>A</td>\n",
       "      <td>0001090872-17-000018</td>\n",
       "      <td>Amount Spent on Share Repurchases</td>\n",
       "      <td>repurchased</td>\n",
       "      <td>194000000</td>\n",
       "      <td>194.00</td>\n",
       "      <td>millions</td>\n",
       "      <td>Table of Contents   2016, upon the completion ...</td>\n",
       "      <td>ed the purchases under this authorization. on ...</td>\n",
       "      <td>...</td>\n",
       "      <td>0</td>\n",
       "      <td>0</td>\n",
       "      <td>0</td>\n",
       "      <td>0</td>\n",
       "      <td>0.991570</td>\n",
       "      <td>38.0</td>\n",
       "      <td>False</td>\n",
       "      <td>94.74</td>\n",
       "      <td>46.36</td>\n",
       "      <td>['pred_tokenized_par_len']</td>\n",
       "    </tr>\n",
       "  </tbody>\n",
       "</table>\n",
       "<p>5 rows × 23 columns</p>\n",
       "</div>"
      ],
      "text/plain": [
       "   Unnamed: 0.1 ticker      accession_number  \\\n",
       "0             0      A  0001090872-17-000018   \n",
       "1             1      A  0001090872-17-000018   \n",
       "2             2      A  0001090872-17-000018   \n",
       "3             3      A  0001090872-17-000018   \n",
       "4             4      A  0001090872-17-000018   \n",
       "\n",
       "                data_key_friendly_name  \\\n",
       "0  Share Repurchase Authorization Date   \n",
       "1       Share Repurchase Authorization   \n",
       "2           Share Repurchase Intention   \n",
       "3               Share Repurchase Count   \n",
       "4    Amount Spent on Share Repurchases   \n",
       "\n",
       "                                                text  data_value  \\\n",
       "0                                       May 28, 2015    20150528   \n",
       "1  The 2015 share repurchase program authorizes t...  1140000000   \n",
       "2        remaining authorization to repurchase up to   610000000   \n",
       "3                                        repurchased     4100000   \n",
       "4                                        repurchased   194000000   \n",
       "\n",
       "   reported_data_value reported_units  \\\n",
       "0          20200000.00           ones   \n",
       "1                 1.14       billions   \n",
       "2               610.00       millions   \n",
       "3                 4.10       millions   \n",
       "4               194.00       millions   \n",
       "\n",
       "                                      paragraph_text  \\\n",
       "0  On May 28, 2015 we  announced that our board  ...   \n",
       "1  On May 28, 2015 we  announced that our board  ...   \n",
       "2  Table of Contents   2016, upon the completion ...   \n",
       "3  Table of Contents   2016, upon the completion ...   \n",
       "4  Table of Contents   2016, upon the completion ...   \n",
       "\n",
       "                                            pred_par  \\\n",
       "0  ases under this authorization. on may 28, 2015...   \n",
       "1   31, 2016 we repurchased approximately 2.4 mil...   \n",
       "2  zation. on may 28, 2015 we announced that our ...   \n",
       "3  ed the purchases under this authorization. on ...   \n",
       "4  ed the purchases under this authorization. on ...   \n",
       "\n",
       "              ...              count  intention  utilization  unknown  \\\n",
       "0             ...                  0          0            0        0   \n",
       "1             ...                  0          0            0        0   \n",
       "2             ...                  0          1            0        0   \n",
       "3             ...                  1          0            0        0   \n",
       "4             ...                  0          0            0        0   \n",
       "\n",
       "   pred_proba  tknzd_tst_par_len  tot_incl  inclusion_pct  baggage_pct  \\\n",
       "0    0.975636               46.0     False          97.83        40.00   \n",
       "1    0.988679               46.0     False          97.83        40.91   \n",
       "2    0.999220               38.0     False          94.74        47.27   \n",
       "3    0.994602               38.0     False          94.74        46.36   \n",
       "4    0.991570               38.0     False          94.74        46.36   \n",
       "\n",
       "           tknzd_pred_par_len  \n",
       "0  ['pred_tokenized_par_len']  \n",
       "1  ['pred_tokenized_par_len']  \n",
       "2  ['pred_tokenized_par_len']  \n",
       "3  ['pred_tokenized_par_len']  \n",
       "4  ['pred_tokenized_par_len']  \n",
       "\n",
       "[5 rows x 23 columns]"
      ]
     },
     "execution_count": 71,
     "metadata": {},
     "output_type": "execute_result"
    }
   ],
   "source": [
    "share_repurchase_pred_para.head()"
   ]
  },
  {
   "cell_type": "markdown",
   "metadata": {},
   "source": [
    "# deleting unnamed column "
   ]
  },
  {
   "cell_type": "code",
   "execution_count": 73,
   "metadata": {},
   "outputs": [],
   "source": [
    "del share_repurchase_pred_para['Unnamed: 0.1']"
   ]
  },
  {
   "cell_type": "code",
   "execution_count": 76,
   "metadata": {},
   "outputs": [
    {
     "name": "stdout",
     "output_type": "stream",
     "text": [
      "<class 'pandas.core.frame.DataFrame'>\n",
      "Int64Index: 1772 entries, 0 to 1771\n",
      "Data columns (total 22 columns):\n",
      "ticker                    1772 non-null object\n",
      "accession_number          1772 non-null object\n",
      "data_key_friendly_name    1772 non-null object\n",
      "text                      1772 non-null object\n",
      "data_value                1772 non-null int64\n",
      "reported_data_value       1772 non-null float64\n",
      "reported_units            1772 non-null object\n",
      "paragraph_text            1772 non-null object\n",
      "pred_par                  1772 non-null object\n",
      "amount                    1772 non-null int64\n",
      "authorization             1772 non-null int64\n",
      "date                      1772 non-null int64\n",
      "count                     1772 non-null int64\n",
      "intention                 1772 non-null int64\n",
      "utilization               1772 non-null int64\n",
      "unknown                   1772 non-null int64\n",
      "pred_proba                1772 non-null float64\n",
      "tknzd_tst_par_len         1772 non-null float64\n",
      "tot_incl                  1772 non-null bool\n",
      "inclusion_pct             1772 non-null float64\n",
      "baggage_pct               1772 non-null float64\n",
      "tknzd_pred_par_len        1772 non-null object\n",
      "dtypes: bool(1), float64(5), int64(8), object(8)\n",
      "memory usage: 306.3+ KB\n"
     ]
    }
   ],
   "source": [
    "share_repurchase_pred_para.info()"
   ]
  },
  {
   "cell_type": "markdown",
   "metadata": {},
   "source": [
    "# considering the pred para column to tokenize sentence wise and try to extract the req info---\n"
   ]
  },
  {
   "cell_type": "code",
   "execution_count": 80,
   "metadata": {},
   "outputs": [],
   "source": [
    "pred_par_text = share_repurchase_pred_para[share_repurchase_pred_para.data_key_friendly_name == 'Share Repurchase Authorization'].pred_par"
   ]
  },
  {
   "cell_type": "code",
   "execution_count": 79,
   "metadata": {},
   "outputs": [
    {
     "data": {
      "text/plain": [
       "1     On May 28, 2015 we  announced that our board  ...\n",
       "6     4. Share Repurchase Programs and Dividends   S...\n",
       "13    The Company's stock repurchase program allows ...\n",
       "15    Share Repurchase Program   In May 2017, the Co...\n",
       "32    On February 15, 2018, AbbVie's board of direct...\n",
       "Name: paragraph_text, dtype: object"
      ]
     },
     "execution_count": 79,
     "metadata": {},
     "output_type": "execute_result"
    }
   ],
   "source": [
    "share_repurchase_pred_para[share_repurchase_pred_para.data_key_friendly_name=='Share Repurchase Authorization'].paragraph_text.head()"
   ]
  },
  {
   "cell_type": "code",
   "execution_count": 81,
   "metadata": {},
   "outputs": [
    {
     "data": {
      "text/plain": [
       "1      31, 2016 we repurchased approximately 2.4 mil...\n",
       "6     ting $11.0 billion of authority. as of decembe...\n",
       "13    rd of our common stock, which does not include...\n",
       "15     further information regarding the company's d...\n",
       "32    m, the company repurchased approximately 13 mi...\n",
       "Name: pred_par, dtype: object"
      ]
     },
     "execution_count": 81,
     "metadata": {},
     "output_type": "execute_result"
    }
   ],
   "source": [
    "pred_par_text.head()"
   ]
  },
  {
   "cell_type": "code",
   "execution_count": 82,
   "metadata": {
    "collapsed": true
   },
   "outputs": [],
   "source": [
    "pred_par_tokens = [word_tokenize(t.lower()) for t in pred_par_text]\n",
    "#tokens =   [word_tokenize(t.lower()) for t in text1]"
   ]
  },
  {
   "cell_type": "markdown",
   "metadata": {},
   "source": [
    "# its a list within list - flatten it"
   ]
  },
  {
   "cell_type": "code",
   "execution_count": 89,
   "metadata": {
    "collapsed": true
   },
   "outputs": [],
   "source": [
    "pred_par_tokens = list(itertools.chain.from_iterable(tokens))\n",
    "\n",
    "#list(itertools.chain.from_iterable(tokens))"
   ]
  },
  {
   "cell_type": "code",
   "execution_count": 91,
   "metadata": {},
   "outputs": [
    {
     "data": {
      "text/plain": [
       "['the',\n",
       " '2015',\n",
       " 'share',\n",
       " 'repurchase',\n",
       " 'program',\n",
       " 'authorizes',\n",
       " 'the',\n",
       " 'purchase',\n",
       " 'of',\n",
       " 'up']"
      ]
     },
     "execution_count": 91,
     "metadata": {},
     "output_type": "execute_result"
    }
   ],
   "source": [
    "pred_par_tokens[:10]"
   ]
  },
  {
   "cell_type": "markdown",
   "metadata": {},
   "source": [
    "# NGRAMS\n"
   ]
  },
  {
   "cell_type": "code",
   "execution_count": 105,
   "metadata": {
    "collapsed": true
   },
   "outputs": [],
   "source": [
    "paragraph_text  = share_repurchase.paragraph_text[0]"
   ]
  },
  {
   "cell_type": "code",
   "execution_count": 106,
   "metadata": {
    "collapsed": true
   },
   "outputs": [],
   "source": [
    "n=3"
   ]
  },
  {
   "cell_type": "code",
   "execution_count": 107,
   "metadata": {},
   "outputs": [],
   "source": [
    "trigram = ngrams(paragraph_text.split(),n)"
   ]
  },
  {
   "cell_type": "code",
   "execution_count": null,
   "metadata": {
    "collapsed": true
   },
   "outputs": [],
   "source": [
    "for grams in trigram:\n",
    "    print(grams)"
   ]
  },
  {
   "cell_type": "code",
   "execution_count": 113,
   "metadata": {
    "collapsed": true
   },
   "outputs": [],
   "source": [
    "def get_ngrams(text,n):\n",
    "    n_grams = ngrams(word_tokenize(text),n)\n",
    "    return [' '.join(grams) for grams in n_grams]"
   ]
  },
  {
   "cell_type": "code",
   "execution_count": 114,
   "metadata": {},
   "outputs": [
    {
     "data": {
      "text/plain": [
       "['On May 28 ,',\n",
       " 'May 28 , 2015',\n",
       " '28 , 2015 we',\n",
       " ', 2015 we announced',\n",
       " '2015 we announced that',\n",
       " 'we announced that our',\n",
       " 'announced that our board',\n",
       " 'that our board of',\n",
       " 'our board of directors',\n",
       " 'board of directors had',\n",
       " 'of directors had approved',\n",
       " 'directors had approved a',\n",
       " 'had approved a new',\n",
       " 'approved a new share',\n",
       " 'a new share repurchase',\n",
       " 'new share repurchase program',\n",
       " 'share repurchase program (',\n",
       " 'repurchase program ( the',\n",
       " 'program ( the ``',\n",
       " '( the `` 2015',\n",
       " 'the `` 2015 repurchase',\n",
       " '`` 2015 repurchase program',\n",
       " \"2015 repurchase program ''\",\n",
       " \"repurchase program '' )\",\n",
       " \"program '' ) .\",\n",
       " \"'' ) . The\",\n",
       " ') . The 2015',\n",
       " '. The 2015 share',\n",
       " 'The 2015 share repurchase',\n",
       " '2015 share repurchase program',\n",
       " 'share repurchase program authorizes',\n",
       " 'repurchase program authorizes the',\n",
       " 'program authorizes the purchase',\n",
       " 'authorizes the purchase of',\n",
       " 'the purchase of up',\n",
       " 'purchase of up to',\n",
       " 'of up to $',\n",
       " 'up to $ 1.14',\n",
       " 'to $ 1.14 billion',\n",
       " '$ 1.14 billion of',\n",
       " '1.14 billion of our',\n",
       " 'billion of our common',\n",
       " 'of our common stock',\n",
       " 'our common stock at',\n",
       " 'common stock at the',\n",
       " 'stock at the company',\n",
       " \"at the company 's\",\n",
       " \"the company 's discretion\",\n",
       " \"company 's discretion through\",\n",
       " \"'s discretion through and\",\n",
       " 'discretion through and including',\n",
       " 'through and including November',\n",
       " 'and including November 1',\n",
       " 'including November 1 ,',\n",
       " 'November 1 , 2018',\n",
       " '1 , 2018 .',\n",
       " ', 2018 . The',\n",
       " '2018 . The 2015',\n",
       " '. The 2015 repurchase',\n",
       " 'The 2015 repurchase program',\n",
       " '2015 repurchase program does',\n",
       " 'repurchase program does not',\n",
       " 'program does not require',\n",
       " 'does not require the',\n",
       " 'not require the company',\n",
       " 'require the company to',\n",
       " 'the company to acquire',\n",
       " 'company to acquire a',\n",
       " 'to acquire a specific',\n",
       " 'acquire a specific number',\n",
       " 'a specific number of',\n",
       " 'specific number of shares',\n",
       " 'number of shares and',\n",
       " 'of shares and may',\n",
       " 'shares and may be',\n",
       " 'and may be suspended',\n",
       " 'may be suspended or',\n",
       " 'be suspended or discontinued',\n",
       " 'suspended or discontinued at',\n",
       " 'or discontinued at any',\n",
       " 'discontinued at any time',\n",
       " 'at any time .',\n",
       " 'any time . During',\n",
       " 'time . During the',\n",
       " '. During the year',\n",
       " 'During the year ended',\n",
       " 'the year ended October',\n",
       " 'year ended October 31',\n",
       " 'ended October 31 ,',\n",
       " 'October 31 , 95']"
      ]
     },
     "execution_count": 114,
     "metadata": {},
     "output_type": "execute_result"
    }
   ],
   "source": [
    "get_ngrams(paragraph_text,4)"
   ]
  },
  {
   "cell_type": "code",
   "execution_count": null,
   "metadata": {
    "collapsed": true
   },
   "outputs": [],
   "source": []
  }
 ],
 "metadata": {
  "kernelspec": {
   "display_name": "Python 3",
   "language": "python",
   "name": "python3"
  },
  "language_info": {
   "codemirror_mode": {
    "name": "ipython",
    "version": 3
   },
   "file_extension": ".py",
   "mimetype": "text/x-python",
   "name": "python",
   "nbconvert_exporter": "python",
   "pygments_lexer": "ipython3",
   "version": "3.6.2"
  }
 },
 "nbformat": 4,
 "nbformat_minor": 2
}

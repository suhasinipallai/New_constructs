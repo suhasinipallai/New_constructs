{
 "cells": [
  {
   "cell_type": "markdown",
   "metadata": {},
   "source": [
    "# Generate Vertically Nominated Prediction Paragraphs"
   ]
  },
  {
   "cell_type": "code",
   "execution_count": 1,
   "metadata": {},
   "outputs": [],
   "source": [
    "import os\n",
    "import glob\n",
    "\n",
    "import pandas as pd\n",
    "import numpy as np\n",
    "from matplotlib import pyplot as plt\n",
    "\n",
    "from collections import Counter\n",
    "\n",
    "from bs4 import BeautifulSoup\n",
    "import re\n",
    "from nltk.corpus import stopwords\n",
    "from nltk.tokenize import word_tokenize, sent_tokenize\n",
    "\n",
    "import datetime"
   ]
  },
  {
   "cell_type": "code",
   "execution_count": 106,
   "metadata": {},
   "outputs": [],
   "source": [
    "from sklearn.model_selection import train_test_split\n",
    "from sklearn.feature_extraction.text import CountVectorizer"
   ]
  },
  {
   "cell_type": "markdown",
   "metadata": {},
   "source": [
    "### Generate parameters from vertically curated training data\n",
    "- To define the \"vertically curated training df\" I only filtered out of the original csv:\n",
    "    - rows with data_key_friendly_names that I did not deem \"relevant dkfns.\" \n",
    "    - rows where the text value was not found in the paragraph_text\n",
    "        -🤔 I can't remember if I did a literal text in paragraph_text or if I tokenized it first"
   ]
  },
  {
   "cell_type": "code",
   "execution_count": 2,
   "metadata": {},
   "outputs": [
    {
     "data": {
      "text/html": [
       "<div>\n",
       "<style scoped>\n",
       "    .dataframe tbody tr th:only-of-type {\n",
       "        vertical-align: middle;\n",
       "    }\n",
       "\n",
       "    .dataframe tbody tr th {\n",
       "        vertical-align: top;\n",
       "    }\n",
       "\n",
       "    .dataframe thead th {\n",
       "        text-align: right;\n",
       "    }\n",
       "</style>\n",
       "<table border=\"1\" class=\"dataframe\">\n",
       "  <thead>\n",
       "    <tr style=\"text-align: right;\">\n",
       "      <th></th>\n",
       "      <th>ticker</th>\n",
       "      <th>accession_number</th>\n",
       "      <th>data_key_friendly_name</th>\n",
       "      <th>text</th>\n",
       "      <th>data_value</th>\n",
       "      <th>reported_data_value</th>\n",
       "      <th>reported_units</th>\n",
       "      <th>paragraph_text</th>\n",
       "    </tr>\n",
       "  </thead>\n",
       "  <tbody>\n",
       "    <tr>\n",
       "      <th>0</th>\n",
       "      <td>A</td>\n",
       "      <td>0001090872-17-000018</td>\n",
       "      <td>Share Repurchase Authorization</td>\n",
       "      <td>The 2015 share repurchase program authorizes t...</td>\n",
       "      <td>1140000000</td>\n",
       "      <td>1.14</td>\n",
       "      <td>billions</td>\n",
       "      <td>On May 28, 2015 we  announced that our board  ...</td>\n",
       "    </tr>\n",
       "    <tr>\n",
       "      <th>1</th>\n",
       "      <td>A</td>\n",
       "      <td>0001090872-17-000018</td>\n",
       "      <td>Share Repurchase Intention</td>\n",
       "      <td>remaining authorization to repurchase up to</td>\n",
       "      <td>610000000</td>\n",
       "      <td>610.00</td>\n",
       "      <td>millions</td>\n",
       "      <td>Table of Contents   2016, upon the completion ...</td>\n",
       "    </tr>\n",
       "  </tbody>\n",
       "</table>\n",
       "</div>"
      ],
      "text/plain": [
       "  ticker      accession_number          data_key_friendly_name  \\\n",
       "0      A  0001090872-17-000018  Share Repurchase Authorization   \n",
       "1      A  0001090872-17-000018      Share Repurchase Intention   \n",
       "\n",
       "                                                text  data_value  \\\n",
       "0  The 2015 share repurchase program authorizes t...  1140000000   \n",
       "1        remaining authorization to repurchase up to   610000000   \n",
       "\n",
       "   reported_data_value reported_units  \\\n",
       "0                 1.14       billions   \n",
       "1               610.00       millions   \n",
       "\n",
       "                                      paragraph_text  \n",
       "0  On May 28, 2015 we  announced that our board  ...  \n",
       "1  Table of Contents   2016, upon the completion ...  "
      ]
     },
     "execution_count": 2,
     "metadata": {},
     "output_type": "execute_result"
    }
   ],
   "source": [
    "#### read in the vertical training subset\n",
    "vert_training_subset_df = pd.read_csv('data/vertical_training_subset.csv', index_col=[0])\n",
    "vert_training_subset_df.head(2)"
   ]
  },
  {
   "cell_type": "code",
   "execution_count": 3,
   "metadata": {},
   "outputs": [
    {
     "name": "stdout",
     "output_type": "stream",
     "text": [
      "{'Share Repurchase Authorization', 'Share Repurchase Utilization', 'Unknown Share Repurchase Data', 'Share Repurchase Intention'}\n"
     ]
    },
    {
     "data": {
      "text/plain": [
       "['Share Repurchase Authorization',\n",
       " 'Share Repurchase Utilization',\n",
       " 'Unknown Share Repurchase Data',\n",
       " 'Share Repurchase Intention']"
      ]
     },
     "execution_count": 3,
     "metadata": {},
     "output_type": "execute_result"
    }
   ],
   "source": [
    "### these are the only dkfns that I'm currently working with\n",
    "print(set(vert_training_subset_df.data_key_friendly_name))\n",
    "relevant_dkfns = list(set(vert_training_subset_df.data_key_friendly_name))\n",
    "relevant_dkfns"
   ]
  },
  {
   "cell_type": "code",
   "execution_count": 4,
   "metadata": {},
   "outputs": [],
   "source": [
    "### compile a string from the text column\n",
    "\n",
    "text_list = [t.lower() for t in vert_training_subset_df.text]\n",
    "text_string = ''\n",
    "for t in text_list:\n",
    "    text_string = text_string + t + ' '\n",
    "    ### tokenize the text string\n",
    "\n",
    "text_tokens = [w for w in word_tokenize(text_string) if w.isalpha()]\n",
    "no_stops = [t for t in text_tokens if t not in stopwords.words('english')]\n",
    "#print(no_stops[0:10])\n",
    "### limit ourselves to the 15 most common tokens\n",
    "    # although this can be modulated if necessary\n",
    "key_tokens = pd.DataFrame(Counter(no_stops).most_common(15))\n",
    "key_tokens.columns = ['key_tok', 'kt_count']"
   ]
  },
  {
   "cell_type": "markdown",
   "metadata": {},
   "source": [
    "can probably improve the above list of key_tokens by using less than 30 terms.... maybe\n",
    "#### 🤔 I could enhance my key_tokens by doing tf-idf\n",
    "- between the text column and the the html text - the text column\n",
    "    - which terms are prominent in text column that are not prominent in the rest of the html\n",
    "    - which terms are prominent in the noisy signal that are not prominent in the noise?\n",
    "- I could also enhance it by removing noisy words like 'total'"
   ]
  },
  {
   "cell_type": "code",
   "execution_count": 5,
   "metadata": {},
   "outputs": [],
   "source": [
    "# read in the csv\n",
    "share_rprchs_prgrph_df = pd.read_csv('data/share_repurchase_paragraphs.csv')\n",
    "\n",
    "# Generate parameters from the csv\n",
    "par_lengths = [len(par) for par in share_rprchs_prgrph_df.paragraph_text]\n",
    "margin = int(np.std(par_lengths))"
   ]
  },
  {
   "cell_type": "markdown",
   "metadata": {},
   "source": [
    "#### Initialize a predictions dataframe\n",
    "- copy the index, ticker, and accession_number columns from the original csv"
   ]
  },
  {
   "cell_type": "code",
   "execution_count": 6,
   "metadata": {},
   "outputs": [
    {
     "data": {
      "text/plain": [
       "Index(['ticker', 'accession_number', 'data_key_friendly_name', 'text',\n",
       "       'data_value', 'reported_data_value', 'reported_units',\n",
       "       'paragraph_text'],\n",
       "      dtype='object')"
      ]
     },
     "execution_count": 6,
     "metadata": {},
     "output_type": "execute_result"
    }
   ],
   "source": [
    "share_rprchs_prgrph_df.columns"
   ]
  },
  {
   "cell_type": "code",
   "execution_count": null,
   "metadata": {},
   "outputs": [],
   "source": []
  },
  {
   "cell_type": "code",
   "execution_count": 7,
   "metadata": {},
   "outputs": [
    {
     "name": "stderr",
     "output_type": "stream",
     "text": [
      "/Users/paulomartinez/anaconda3/lib/python3.6/site-packages/ipykernel_launcher.py:2: SettingWithCopyWarning: \n",
      "A value is trying to be set on a copy of a slice from a DataFrame\n",
      "\n",
      "See the caveats in the documentation: http://pandas.pydata.org/pandas-docs/stable/indexing.html#indexing-view-versus-copy\n",
      "  \n",
      "/Users/paulomartinez/anaconda3/lib/python3.6/site-packages/ipykernel_launcher.py:4: SettingWithCopyWarning: \n",
      "A value is trying to be set on a copy of a slice from a DataFrame.\n",
      "Try using .loc[row_indexer,col_indexer] = value instead\n",
      "\n",
      "See the caveats in the documentation: http://pandas.pydata.org/pandas-docs/stable/indexing.html#indexing-view-versus-copy\n",
      "  after removing the cwd from sys.path.\n"
     ]
    },
    {
     "data": {
      "text/html": [
       "<div>\n",
       "<style scoped>\n",
       "    .dataframe tbody tr th:only-of-type {\n",
       "        vertical-align: middle;\n",
       "    }\n",
       "\n",
       "    .dataframe tbody tr th {\n",
       "        vertical-align: top;\n",
       "    }\n",
       "\n",
       "    .dataframe thead th {\n",
       "        text-align: right;\n",
       "    }\n",
       "</style>\n",
       "<table border=\"1\" class=\"dataframe\">\n",
       "  <thead>\n",
       "    <tr style=\"text-align: right;\">\n",
       "      <th></th>\n",
       "      <th>ticker</th>\n",
       "      <th>accession_number</th>\n",
       "      <th>pred_paragraph_text</th>\n",
       "    </tr>\n",
       "  </thead>\n",
       "  <tbody>\n",
       "    <tr>\n",
       "      <th>0</th>\n",
       "      <td>A</td>\n",
       "      <td>0001090872-17-000018</td>\n",
       "      <td>nope</td>\n",
       "    </tr>\n",
       "    <tr>\n",
       "      <th>1</th>\n",
       "      <td>AAL</td>\n",
       "      <td>0000006201-18-000009</td>\n",
       "      <td>nope</td>\n",
       "    </tr>\n",
       "    <tr>\n",
       "      <th>2</th>\n",
       "      <td>AAP</td>\n",
       "      <td>0001158449-18-000039</td>\n",
       "      <td>nope</td>\n",
       "    </tr>\n",
       "    <tr>\n",
       "      <th>3</th>\n",
       "      <td>AAPL</td>\n",
       "      <td>0000320193-17-000070</td>\n",
       "      <td>nope</td>\n",
       "    </tr>\n",
       "    <tr>\n",
       "      <th>4</th>\n",
       "      <td>ABBV</td>\n",
       "      <td>0001551152-18-000014</td>\n",
       "      <td>nope</td>\n",
       "    </tr>\n",
       "  </tbody>\n",
       "</table>\n",
       "</div>"
      ],
      "text/plain": [
       "  ticker      accession_number pred_paragraph_text\n",
       "0      A  0001090872-17-000018                nope\n",
       "1    AAL  0000006201-18-000009                nope\n",
       "2    AAP  0001158449-18-000039                nope\n",
       "3   AAPL  0000320193-17-000070                nope\n",
       "4   ABBV  0001551152-18-000014                nope"
      ]
     },
     "execution_count": 7,
     "metadata": {},
     "output_type": "execute_result"
    }
   ],
   "source": [
    "predicted_paragraph_df = share_rprchs_prgrph_df[['ticker', 'accession_number']] # drop training data\n",
    "predicted_paragraph_df.drop_duplicates(inplace = True) # reduce to unique rows\n",
    "predicted_paragraph_df.reset_index(drop=True, inplace=True)\n",
    "predicted_paragraph_df['pred_paragraph_text'] = ['nope' for row in predicted_paragraph_df.index]# initialize the pred_paragraph_text column\n",
    "predicted_paragraph_df.head()"
   ]
  },
  {
   "cell_type": "code",
   "execution_count": 8,
   "metadata": {},
   "outputs": [
    {
     "name": "stdout",
     "output_type": "stream",
     "text": [
      "<class 'pandas.core.frame.DataFrame'>\n",
      "RangeIndex: 435 entries, 0 to 434\n",
      "Data columns (total 3 columns):\n",
      "ticker                 435 non-null object\n",
      "accession_number       435 non-null object\n",
      "pred_paragraph_text    435 non-null object\n",
      "dtypes: object(3)\n",
      "memory usage: 10.3+ KB\n"
     ]
    }
   ],
   "source": [
    "predicted_paragraph_df.info()"
   ]
  },
  {
   "cell_type": "code",
   "execution_count": 9,
   "metadata": {},
   "outputs": [
    {
     "data": {
      "text/html": [
       "<div>\n",
       "<style scoped>\n",
       "    .dataframe tbody tr th:only-of-type {\n",
       "        vertical-align: middle;\n",
       "    }\n",
       "\n",
       "    .dataframe tbody tr th {\n",
       "        vertical-align: top;\n",
       "    }\n",
       "\n",
       "    .dataframe thead th {\n",
       "        text-align: right;\n",
       "    }\n",
       "</style>\n",
       "<table border=\"1\" class=\"dataframe\">\n",
       "  <thead>\n",
       "    <tr style=\"text-align: right;\">\n",
       "      <th></th>\n",
       "      <th>ticker</th>\n",
       "      <th>accession_number</th>\n",
       "      <th>pred_paragraph_text</th>\n",
       "    </tr>\n",
       "  </thead>\n",
       "  <tbody>\n",
       "    <tr>\n",
       "      <th>count</th>\n",
       "      <td>435</td>\n",
       "      <td>435</td>\n",
       "      <td>435</td>\n",
       "    </tr>\n",
       "    <tr>\n",
       "      <th>unique</th>\n",
       "      <td>434</td>\n",
       "      <td>435</td>\n",
       "      <td>1</td>\n",
       "    </tr>\n",
       "    <tr>\n",
       "      <th>top</th>\n",
       "      <td>STZ</td>\n",
       "      <td>0001091667-18-000025</td>\n",
       "      <td>nope</td>\n",
       "    </tr>\n",
       "    <tr>\n",
       "      <th>freq</th>\n",
       "      <td>2</td>\n",
       "      <td>1</td>\n",
       "      <td>435</td>\n",
       "    </tr>\n",
       "  </tbody>\n",
       "</table>\n",
       "</div>"
      ],
      "text/plain": [
       "       ticker      accession_number pred_paragraph_text\n",
       "count     435                   435                 435\n",
       "unique    434                   435                   1\n",
       "top       STZ  0001091667-18-000025                nope\n",
       "freq        2                     1                 435"
      ]
     },
     "execution_count": 9,
     "metadata": {},
     "output_type": "execute_result"
    }
   ],
   "source": [
    "predicted_paragraph_df.describe()"
   ]
  },
  {
   "cell_type": "markdown",
   "metadata": {},
   "source": [
    "#### Stage filings to be read in iteratively"
   ]
  },
  {
   "cell_type": "code",
   "execution_count": 10,
   "metadata": {},
   "outputs": [],
   "source": [
    "# initialize a list of paths\n",
    "training_filings_list = []\n",
    "\n",
    "# populate the list\n",
    "for root, dirs, files in os.walk('data/nc_training_filings/'):\n",
    "    training_filings_list += glob.glob(os.path.join(root, '*.html'))\n",
    "#print(training_filings_list[0:3])"
   ]
  },
  {
   "cell_type": "markdown",
   "metadata": {},
   "source": [
    "## Run the \"vertical\" paragraph prediction routine on all the data in the training csv\n",
    "- I call it a veritcal routine, because it uses the 'text' column to predict the 'paragraph_text' column. \n",
    "    - (contrast to \"horizontal strategies\" that use values from the top slice of dataframe rows to predict the bottom slice)"
   ]
  },
  {
   "cell_type": "code",
   "execution_count": 11,
   "metadata": {},
   "outputs": [
    {
     "name": "stderr",
     "output_type": "stream",
     "text": [
      "/Users/paulomartinez/anaconda3/lib/python3.6/site-packages/bs4/__init__.py:181: UserWarning: No parser was explicitly specified, so I'm using the best available HTML parser for this system (\"lxml\"). This usually isn't a problem, but if you run this code on another system, or in a different virtual environment, it may use a different parser and behave differently.\n",
      "\n",
      "The code that caused this warning is on line 193 of the file /Users/paulomartinez/anaconda3/lib/python3.6/runpy.py. To get rid of this warning, change code that looks like this:\n",
      "\n",
      " BeautifulSoup(YOUR_MARKUP})\n",
      "\n",
      "to this:\n",
      "\n",
      " BeautifulSoup(YOUR_MARKUP, \"lxml\")\n",
      "\n",
      "  markup_type=markup_type))\n",
      "/Users/paulomartinez/anaconda3/lib/python3.6/site-packages/pandas/core/generic.py:7620: SettingWithCopyWarning: \n",
      "A value is trying to be set on a copy of a slice from a DataFrame\n",
      "\n",
      "See the caveats in the documentation: http://pandas.pydata.org/pandas-docs/stable/indexing.html#indexing-view-versus-copy\n",
      "  self._update_inplace(new_data)\n",
      "/Users/paulomartinez/anaconda3/lib/python3.6/site-packages/IPython/core/interactiveshell.py:2963: SettingWithCopyWarning: \n",
      "A value is trying to be set on a copy of a slice from a DataFrame\n",
      "\n",
      "See the caveats in the documentation: http://pandas.pydata.org/pandas-docs/stable/indexing.html#indexing-view-versus-copy\n",
      "  exec(code_obj, self.user_global_ns, self.user_ns)\n"
     ]
    },
    {
     "name": "stdout",
     "output_type": "stream",
     "text": [
      "accession number 0000815556-18-000010 did not have a relevant dkfn row in the data frame\n",
      "accession number 0000109380-18-000102 did not have a relevant dkfn row in the data frame\n",
      "accession number 0001058090-18-000018 did not have a relevant dkfn row in the data frame\n",
      "accession number 0001043277-18-000007 did not have a relevant dkfn row in the data frame\n",
      "accession number 0001144204-18-020717 did not have a relevant dkfn row in the data frame\n",
      "accession number 0001113169-18-000009 did not have a relevant dkfn row in the data frame\n",
      "accession number 0000045012-18-000059 did not have a relevant dkfn row in the data frame\n",
      "accession number 0000096223-18-000009 did not have a relevant dkfn row in the data frame\n",
      "accession number 0000029905-18-000013 did not have a relevant dkfn row in the data frame\n",
      "accession number 0001095073-18-000008 did not have a relevant dkfn row in the data frame\n",
      "accession number 0000091419-17-000005 did not have a relevant dkfn row in the data frame\n",
      "accession number 0001193125-18-054181 did not have a relevant dkfn row in the data frame\n",
      "accession number 0001047469-18-000900 did not have a relevant dkfn row in the data frame\n",
      "accession number 0000874766-18-000011 did not have a relevant dkfn row in the data frame\n",
      "accession number 0000033185-18-000011 did not have a relevant dkfn row in the data frame\n",
      "accession number 0000277135-18-000007 did not have a relevant dkfn row in the data frame\n",
      "accession number 0001051470-18-000082 did not have a relevant dkfn row in the data frame\n",
      "accession number 0000319201-17-000034 did not have a relevant dkfn row in the data frame\n",
      "accession number 0000107815-18-000134 did not have a relevant dkfn row in the data frame\n",
      "failed to define a single candidate paragraph for filing data/nc_training_filings/0000034088-18-000015.html\n",
      "defaulted to using the nominated paragraph from the last filing\n",
      "accession number 0000034088-18-000015 did not have a relevant dkfn row in the data frame\n",
      "accession number 0001396009-18-000011 did not have a relevant dkfn row in the data frame\n",
      "accession number 0001193125-18-038261 did not have a relevant dkfn row in the data frame\n",
      "accession number 0001193125-18-048314 did not have a relevant dkfn row in the data frame\n",
      "accession number 0001193125-18-055887 did not have a relevant dkfn row in the data frame\n",
      "accession number 0001467373-17-000430 did not have a relevant dkfn row in the data frame\n",
      "accession number 0000320335-18-000006 did not have a relevant dkfn row in the data frame\n",
      "accession number 0001047469-18-001158 did not have a relevant dkfn row in the data frame\n",
      "accession number 0000007084-18-000012 did not have a relevant dkfn row in the data frame\n",
      "accession number 0001628280-18-005268 did not have a relevant dkfn row in the data frame\n",
      "accession number 0001628280-18-001552 did not have a relevant dkfn row in the data frame\n",
      "accession number 0000072903-18-000009 did not have a relevant dkfn row in the data frame\n",
      "accession number 0001193125-18-046681 did not have a relevant dkfn row in the data frame\n",
      "accession number 0000829224-17-000049 did not have a relevant dkfn row in the data frame\n",
      "\n",
      "entire cycle took  0:13:23.410958\n"
     ]
    }
   ],
   "source": [
    "# initialize some score keeping lists\n",
    "total_inclusion = []\n",
    "inclusion_rates = [] # analogous to true positive rate\n",
    "extra_baggage_rate = [] # analogous to false positive rate, (sorta, cause the actual paragraph data is not to be treated as an absolute standard).\n",
    "actual_paratokens_lengths = []\n",
    "nominated_paratokens_lengths = []\n",
    "filings_not_in_df = [] # track which, if any, filings were not found in the df\n",
    "no_tokhits_filings = [] # track which filings I failed to find hits for, if any\n",
    "\n",
    "t0 = datetime.datetime.now()\n",
    "\n",
    "for filing in training_filings_list:\n",
    "#for filing in vert_training_subset_filings_list:\n",
    "    ti = datetime.datetime.now()\n",
    "    #print('processing next filing at ', ti)\n",
    "    \n",
    "    \n",
    "### this could be all be packed into a function if nec.\n",
    "###\n",
    "    # read in the filing's html\n",
    "    with open(filing) as file:\n",
    "        file_html = file.read()\n",
    "    \n",
    "    # parse the html\n",
    "    parsed_html = BeautifulSoup(file_html)\n",
    "    # filter out the html head, css, and cast to lower case\n",
    "    string_filing = parsed_html.body.text.lower()\n",
    "    \n",
    "    ##################------- Predict Paragraphs ------##############################################\n",
    "    #define candidate paragraphs by clustering of overlapping token-hit-margins\n",
    "    #\n",
    "    #------ generate a list of token mathces / \"hits\"------------------------------\n",
    "    #\n",
    "    # collect the start and end indices of each token \"hit.\" into an ugly list of lists of tuples\n",
    "    lst_of_token_hits_lst = []\n",
    "    for i in range(len(key_tokens.key_tok[0:10])):\n",
    "        kt = key_tokens.key_tok[i]\n",
    "        lst_of_token_hits_lst.append([(str(kt), m.start(), m.end()) for m in re.finditer(kt, string_filing)])\n",
    "    #\n",
    "    # flatten the ugly list of lists of tuples into a list of tuples\n",
    "    flater_list_of_tokhits = [tpl for sublist in lst_of_token_hits_lst for tpl in sublist]\n",
    "    #\n",
    "    # order the list of token_hit tuples by starting index\n",
    "    flater_list_of_tokhits.sort(key = lambda x: x[1])\n",
    "    #\n",
    "    #-------- use the token hits to define the bounds of the candidate paragraphs -------\n",
    "    #\n",
    "    # initialize a list of candidate paragraphs and a hit tracker\n",
    "    candidate_paragraphs = []\n",
    "    hit = 0\n",
    "    #\n",
    "    # work through the hits until I exhaust the list\n",
    "    while hit < len(flater_list_of_tokhits) - 1:\n",
    "    #    \n",
    "    #    # initialize the left and right bound of a paragraph\n",
    "        leftbound = flater_list_of_tokhits[hit][1] - margin\n",
    "        rightbound = flater_list_of_tokhits[hit][2] + margin\n",
    "    #     \n",
    "    #    # loop from the hit + 1 (cause we used the former hit to initialize the bounds)\n",
    "        for i in range(hit + 1, len(flater_list_of_tokhits)):\n",
    "    #        # if the next token's start is within the current paragraph's bounds and it isnt the last hit\n",
    "            if (leftbound < flater_list_of_tokhits[i][1] < rightbound) and (i != len(flater_list_of_tokhits) - 1):\n",
    "    #            # expand the right bound with respect to next token's end\n",
    "                rightbound = flater_list_of_tokhits[i][2] + margin\n",
    "    #             \n",
    "    #        # if next token is outside the bounds of current paragraph or we are at the penultimate hit\n",
    "            else:\n",
    "    #            # if right bound is out of htmls range, then adjust it to the end of the html\n",
    "                if rightbound > len(string_filing):\n",
    "                    rightbound = len(string_filing)\n",
    "    #            # define current paragraph\n",
    "                par = string_filing[leftbound:rightbound] ########### (if the code needs to be made more efficient I could store the paragraph start and end indices instead of storing the strings)\n",
    "    #            # store the paragraph in a list of candidates\n",
    "                candidate_paragraphs.append(par)\n",
    "    #            # note which hit we need to start on for the next iteration of the while loop\n",
    "                hit = i\n",
    "    #            # now that we've found the outer bounds of the current paragraph we can interrupt the for loop\n",
    "                break #this only interrupts the nearest parent loop \n",
    "    # this is just a repetition of the above routine to handle the last hit. There is probably a better way to handle this but we can enhance that later\n",
    "    if hit == len(flater_list_of_tokhits)-1:\n",
    "        leftbound = flater_list_of_tokhits[hit][1] - margin\n",
    "        rightbound = flater_list_of_tokhits[hit][2] + margin\n",
    "        if rightbound > len(string_filing):\n",
    "            rightbound = len(string_filing)\n",
    "        par = string_filing[leftbound:rightbound]\n",
    "        candidate_paragraphs.append(par)\n",
    "    #--------------------------------------------------------------------------------------#\n",
    "    \n",
    "    #################--------- Validate Predictions ----------------------##################\n",
    "    # Future Enhancements:\n",
    "    # - I could make the loop \"reactive\" so that if the validation score of the first\n",
    "    #      nominated paragraph is low it con test the validation score of the second \n",
    "    #      nominee\n",
    "    #\n",
    "    # --------------- temporarily store the candidate paragraphs in a df ------------------\n",
    "    candidate_df = pd.DataFrame(candidate_paragraphs)\n",
    "    candidate_df.columns = ['cand_par']\n",
    "    candidate_df['len'] = [len(par) for par in candidate_df.cand_par]\n",
    "    # --------------- rank the candidate paragraphs by basic length (longer paragraphs correspond to denser clusters)\n",
    "    candidate_df.sort_values(by = 'len', ascending = False, inplace = True)\n",
    "    candidate_df.reset_index(inplace = True, drop = True)\n",
    "    # --------------- filter candidates down to those with 'repurchase' in them\n",
    "    candidate_df = candidate_df[['repurchase' in par for par in candidate_df.cand_par]]\n",
    "    candidate_df.reset_index(inplace = True, drop = True)\n",
    "    # --------------- nominee(s) will be the top 1 - 3 in the filterd df\n",
    "    if len(candidate_df.cand_par) != 0:\n",
    "        nominated = candidate_df.cand_par[0]\n",
    "    elif len(candidate_df.cand_par) == 0:\n",
    "        # if I failed define a single candidate paragraph\n",
    "        print('failed to define a single candidate paragraph for filing', filing)\n",
    "        print('defaulted to using the nominated paragraph from the last filing')\n",
    "        no_tokhits_filings.append(filing)\n",
    "    # clean up the nominee for validation\n",
    "    nom_validatable = re.sub(r'\\n+', ' ', nominated) # remove new lines\n",
    "    nom_validatable = re.sub(r'\\s+', ' ', nom_validatable) # trim all repeated whitespace down to one\n",
    "    # filter out stop words and non-alphanumeric content\n",
    "    # apply the same filtering process to nom_validatable\n",
    "    nominated_tokens = [wt for wt in word_tokenize(nom_validatable) if (wt.isalnum() and wt not in stopwords.words('english'))] # yes there is redundancy but that can be optimized later\n",
    "    #\n",
    "    \n",
    "    # --------------- isolate csv's actual paragraph for valiation\n",
    "    # extract the accesion number back out of the filing path\n",
    "    an = re.sub('data/nc_training_filings/', '', filing)\n",
    "    an = re.sub('.html', '', an)\n",
    "    # use it to filter down to the csv rows with that an\n",
    "    #\n",
    "    # ⚠️ notice that for expediencey I am only using the first row with a given accession number. (there could be up to 7 rows with the same accession number in the actual csv). The reason for this misalignment is because the primary purpose of this pipeline is to identify paragraphs with target information, it's purpose is not to define up to 7 paragraphs for each filing number.\n",
    "    # 🤔 to enhance this pipeline to work with the original csv I could pick my actual_paragraph to be one with a specific dkfn\n",
    "    #relev_bool_index = [ac_n == an and dkfn in relevant_dkfns for ac_n, dkfn in zip(vert_training_subset_df.accession_number, vert_training_subset_df.data_key_friendly_name)]\n",
    "    if an not in share_rprchs_prgrph_df.accession_number.values:\n",
    "        print(an, 'was not found in the filings data frame')\n",
    "        filings_not_in_df.append(an)\n",
    "        continue\n",
    "    \n",
    "    actual_paragraph = share_rprchs_prgrph_df[[ac_n == an and dkfn in relevant_dkfns for ac_n, dkfn in zip(share_rprchs_prgrph_df.accession_number, share_rprchs_prgrph_df.data_key_friendly_name)]].head(1).paragraph_text\n",
    "    # some rows don't have my relevant dkfns and the above assignment creates an empty series\n",
    "    # so to handle that just pick the first row at random, for now\n",
    "    if len(actual_paragraph) == 0:\n",
    "        print('accession number', an, 'did not have a relevant dkfn row in the data frame')\n",
    "        actual_paragraph = share_rprchs_prgrph_df[share_rprchs_prgrph_df.accession_number == an].head(1).paragraph_text\n",
    "    # extract the string from the resulting pandas series\n",
    "    actual_paragraph = actual_paragraph.values[0]\n",
    "    # cast the string to lower case\n",
    "    actual_paragraph = actual_paragraph.lower()\n",
    "    # eliminate excess spaces\n",
    "    actual_paragraph = re.sub(r'\\s+', ' ', actual_paragraph)\n",
    "    # filter out stop words, punctuation, and other non-alphanumeric stuff\n",
    "    actual_tokens = [wt for wt in word_tokenize(actual_paragraph) if (wt.isalnum() and wt not in stopwords.words('english'))] #yes there is probably some redundancy here but that can be refined later\n",
    "    \n",
    "    # moment of truth\n",
    "    #---------------------------------------------------------    \n",
    "    # calculate the inclusion rates\n",
    "    counter = 0\n",
    "    for wt in actual_tokens:\n",
    "        if wt in nominated_tokens:\n",
    "            counter += 1\n",
    "    x = round(100*counter/len(actual_tokens),2)\n",
    "    \n",
    "    # calculate the extra_baggage_rates\n",
    "    bag_counter = 0\n",
    "    for wt in nominated_tokens:\n",
    "        if wt in actual_tokens:\n",
    "            bag_counter += 1\n",
    "    z = round(100*bag_counter/len(nominated_tokens), 2)\n",
    "    \n",
    "    \n",
    "    # keeping score\n",
    "    # ---------------------------------------------------------\n",
    "    total_inclusion.append(actual_paragraph in nom_validatable)\n",
    "    inclusion_rates.append(x)\n",
    "    extra_baggage_rate.append(z)\n",
    "    actual_paratokens_lengths.append(len(actual_tokens))\n",
    "    nominated_paratokens_lengths.append(len(nominated_tokens))\n",
    "    #-------------------------------------------------------------------------------#\n",
    "    \n",
    "    ################--------- Write Predicted Paragraphs to Data-Frame ------------##############\n",
    "    predicted_paragraph_df.pred_paragraph_text[predicted_paragraph_df.accession_number == an] = nominated\n",
    "    #------------------------------------------------------------------------------------------#\n",
    "    \n",
    "    #tf = datetime.datetime.now()\n",
    "    #print('processed filing', len(total_inclusion), 'at ', tf, '. Process took', tf - ti)\n",
    "    #print(\"--------------------------\")\n",
    "    \n",
    "tf = datetime.datetime.now()\n",
    "print(\"\")\n",
    "print('entire cycle took ', tf - t0)"
   ]
  },
  {
   "cell_type": "code",
   "execution_count": 12,
   "metadata": {},
   "outputs": [
    {
     "name": "stdout",
     "output_type": "stream",
     "text": [
      "1\n"
     ]
    }
   ],
   "source": [
    "# were there any filings I failed to find a single hit for?\n",
    "print(len(no_tokhits_filings))"
   ]
  },
  {
   "cell_type": "code",
   "execution_count": 13,
   "metadata": {},
   "outputs": [
    {
     "name": "stdout",
     "output_type": "stream",
     "text": [
      "0\n"
     ]
    }
   ],
   "source": [
    "# were there any filings not found in the dataframe?\n",
    "print(len(filings_not_in_df))"
   ]
  },
  {
   "cell_type": "code",
   "execution_count": 14,
   "metadata": {},
   "outputs": [],
   "source": [
    "#### examine total_inclusion results (though this is a rather naive metric)"
   ]
  },
  {
   "cell_type": "code",
   "execution_count": 15,
   "metadata": {},
   "outputs": [
    {
     "name": "stdout",
     "output_type": "stream",
     "text": [
      "435 total filings processed\n",
      "171 number of paragraphs 100% included\n",
      "39.31 % total inclusion\n",
      "\n"
     ]
    }
   ],
   "source": [
    "#len(total)\n",
    "print(len(total_inclusion), 'total filings processed')\n",
    "print(np.array(total_inclusion).sum(), 'number of paragraphs 100% included')\n",
    "print(round(100*np.array(total_inclusion).sum()/len(total_inclusion), 2), '% total inclusion')\n",
    "print(\"\")"
   ]
  },
  {
   "cell_type": "code",
   "execution_count": 16,
   "metadata": {},
   "outputs": [],
   "source": [
    "# examine the inclusion rates (analogous to true positive rate)"
   ]
  },
  {
   "cell_type": "code",
   "execution_count": 17,
   "metadata": {},
   "outputs": [
    {
     "data": {
      "image/png": "[encoded data removed]",
      "text/plain": [
       "<Figure size 432x288 with 1 Axes>"
      ]
     },
     "metadata": {},
     "output_type": "display_data"
    }
   ],
   "source": [
    "plt.hist(inclusion_rates , bins=20)\n",
    "plt.title('Histogram of inclusion rates')\n",
    "plt.grid()\n",
    "plt.show()"
   ]
  },
  {
   "cell_type": "code",
   "execution_count": 18,
   "metadata": {},
   "outputs": [
    {
     "data": {
      "text/plain": [
       "76.10880459770115"
      ]
     },
     "execution_count": 18,
     "metadata": {},
     "output_type": "execute_result"
    }
   ],
   "source": [
    "# mean inclusion rate\n",
    "np.mean(np.array(inclusion_rates))"
   ]
  },
  {
   "cell_type": "code",
   "execution_count": 19,
   "metadata": {},
   "outputs": [
    {
     "data": {
      "text/plain": [
       "95.83"
      ]
     },
     "execution_count": 19,
     "metadata": {},
     "output_type": "execute_result"
    }
   ],
   "source": [
    "# median inclusion rate\n",
    "np.median(np.array(inclusion_rates)) \n",
    "# 50 % of the actual paragraphs have an inclusion rate of at least"
   ]
  },
  {
   "cell_type": "code",
   "execution_count": 20,
   "metadata": {},
   "outputs": [
    {
     "data": {
      "text/plain": [
       "56.83599999999999"
      ]
     },
     "execution_count": 20,
     "metadata": {},
     "output_type": "execute_result"
    }
   ],
   "source": [
    "# 70% of the actual paragraphs have an inclusion rate of at least\n",
    "np.percentile(inclusion_rates, 30)"
   ]
  },
  {
   "cell_type": "code",
   "execution_count": 21,
   "metadata": {},
   "outputs": [
    {
     "data": {
      "text/plain": [
       "50.0"
      ]
     },
     "execution_count": 21,
     "metadata": {},
     "output_type": "execute_result"
    }
   ],
   "source": [
    "# 75 % of the actual paragraphs have an inclusion rate of at least\n",
    "np.percentile(inclusion_rates, 25)"
   ]
  },
  {
   "cell_type": "code",
   "execution_count": 22,
   "metadata": {},
   "outputs": [
    {
     "data": {
      "text/plain": [
       "32.454"
      ]
     },
     "execution_count": 22,
     "metadata": {},
     "output_type": "execute_result"
    }
   ],
   "source": [
    "# 90% of the actual paragraphs have an inclusion rate of at least\n",
    "np.percentile(inclusion_rates, 10)"
   ]
  },
  {
   "cell_type": "code",
   "execution_count": 23,
   "metadata": {},
   "outputs": [
    {
     "name": "stdout",
     "output_type": "stream",
     "text": [
      "----------------\n",
      "mean bagage rate:  26.247977011494253\n",
      "median bagage rate:  25.0\n",
      "\n"
     ]
    }
   ],
   "source": [
    "# examine the extra_bagage_rate (like false positive rate, sorta)\n",
    "print(\"----------------\")\n",
    "print('mean bagage rate: ', np.mean(np.array(extra_baggage_rate)))\n",
    "print('median bagage rate: ', np.median(np.array(extra_baggage_rate)))\n",
    "print(\"\")"
   ]
  },
  {
   "cell_type": "code",
   "execution_count": 24,
   "metadata": {},
   "outputs": [
    {
     "data": {
      "text/plain": [
       "33.29199999999998"
      ]
     },
     "execution_count": 24,
     "metadata": {},
     "output_type": "execute_result"
    }
   ],
   "source": [
    "np.percentile(extra_baggage_rate, 70)\n",
    "# only 30% of my nominees have a bagage rate of at least?"
   ]
  },
  {
   "cell_type": "code",
   "execution_count": 25,
   "metadata": {},
   "outputs": [
    {
     "data": {
      "image/png": "[encoded data removed]",
      "text/plain": [
       "<Figure size 432x288 with 1 Axes>"
      ]
     },
     "metadata": {},
     "output_type": "display_data"
    }
   ],
   "source": [
    "plt.hist(extra_baggage_rate)\n",
    "plt.title('Histogram of extra bagage rate')\n",
    "plt.grid()\n",
    "plt.show()"
   ]
  },
  {
   "cell_type": "code",
   "execution_count": 26,
   "metadata": {},
   "outputs": [],
   "source": [
    "# compare the lengths of the actual paratokens to the nominated paratokens"
   ]
  },
  {
   "cell_type": "code",
   "execution_count": 27,
   "metadata": {},
   "outputs": [
    {
     "data": {
      "image/png": "[encoded data removed]",
      "text/plain": [
       "<Figure size 432x288 with 1 Axes>"
      ]
     },
     "metadata": {},
     "output_type": "display_data"
    }
   ],
   "source": [
    "plt.hist(actual_paratokens_lengths)\n",
    "plt.title('Hist. of actual para_token lengths')\n",
    "plt.grid()\n",
    "plt.show()"
   ]
  },
  {
   "cell_type": "code",
   "execution_count": 28,
   "metadata": {},
   "outputs": [
    {
     "name": "stdout",
     "output_type": "stream",
     "text": [
      "mean  51.11724137931034\n",
      "median 46.0\n",
      "range 185\n"
     ]
    }
   ],
   "source": [
    "print('mean ', np.mean(np.array(actual_paratokens_lengths)))\n",
    "print('median', np.median(np.array(actual_paratokens_lengths)))\n",
    "print('range', np.max(np.array(actual_paratokens_lengths)) - np.min(np.array(actual_paratokens_lengths)))"
   ]
  },
  {
   "cell_type": "code",
   "execution_count": 29,
   "metadata": {},
   "outputs": [
    {
     "data": {
      "image/png": "[encoded data removed]",
      "text/plain": [
       "<Figure size 432x288 with 1 Axes>"
      ]
     },
     "metadata": {},
     "output_type": "display_data"
    }
   ],
   "source": [
    "# now lets look at the nominated paratokens lengths\n",
    "plt.hist(nominated_paratokens_lengths)\n",
    "plt.title('Hist. of nominated_paratokens_lengths')\n",
    "plt.grid()\n",
    "plt.show()"
   ]
  },
  {
   "cell_type": "code",
   "execution_count": 30,
   "metadata": {},
   "outputs": [
    {
     "name": "stdout",
     "output_type": "stream",
     "text": [
      "mean  406.19310344827585\n",
      "median 355.0\n",
      "range 1642\n"
     ]
    }
   ],
   "source": [
    "print('mean ', np.mean(np.array(nominated_paratokens_lengths)))\n",
    "print('median', np.median(np.array(nominated_paratokens_lengths)))\n",
    "print('range', np.max(np.array(nominated_paratokens_lengths)) - np.min(np.array(nominated_paratokens_lengths)))"
   ]
  },
  {
   "cell_type": "code",
   "execution_count": 31,
   "metadata": {},
   "outputs": [
    {
     "data": {
      "image/png": "[encoded data removed]",
      "text/plain": [
       "<Figure size 1080x504 with 1 Axes>"
      ]
     },
     "metadata": {},
     "output_type": "display_data"
    }
   ],
   "source": [
    "plt.figure(figsize = (15,7))\n",
    "plt.bar(height = actual_paratokens_lengths, alpha = 0.9,\n",
    "        x = range(len(actual_paratokens_lengths)))\n",
    "plt.bar(height = nominated_paratokens_lengths, alpha = 0.3,\n",
    "       x = range(len(nominated_paratokens_lengths)))\n",
    "plt.title('bar comparison of paratokens lengths')\n",
    "plt.legend(['actual paratokens lenght', 'nominated paratokens lengths'])\n",
    "plt.xlabel('index')\n",
    "plt.ylabel('length of a paragraphs key tokens (no punctuation, no stopwords)')\n",
    "plt.grid(axis = 'y')\n",
    "plt.show()"
   ]
  },
  {
   "cell_type": "markdown",
   "metadata": {},
   "source": [
    "## do it again for only the top 7 key tokens"
   ]
  },
  {
   "cell_type": "code",
   "execution_count": 32,
   "metadata": {},
   "outputs": [],
   "source": [
    "#predict"
   ]
  },
  {
   "cell_type": "code",
   "execution_count": 33,
   "metadata": {},
   "outputs": [
    {
     "name": "stderr",
     "output_type": "stream",
     "text": [
      "/Users/paulomartinez/anaconda3/lib/python3.6/site-packages/ipykernel_launcher.py:1: SettingWithCopyWarning: \n",
      "A value is trying to be set on a copy of a slice from a DataFrame.\n",
      "Try using .loc[row_indexer,col_indexer] = value instead\n",
      "\n",
      "See the caveats in the documentation: http://pandas.pydata.org/pandas-docs/stable/indexing.html#indexing-view-versus-copy\n",
      "  \"\"\"Entry point for launching an IPython kernel.\n"
     ]
    }
   ],
   "source": [
    "predicted_paragraph_df['pred_paragraph_text_7'] = ['nope' for row in predicted_paragraph_df.index]# initialize the pred_paragraph_text column\n",
    "\n"
   ]
  },
  {
   "cell_type": "code",
   "execution_count": 34,
   "metadata": {},
   "outputs": [],
   "source": [
    "### limit ourselves to the 7 most common tokens\n",
    "    # although this can be modulated if necessary\n",
    "key_tokens = pd.DataFrame(Counter(no_stops).most_common(7))\n",
    "key_tokens.columns = ['key_tok', 'kt_count']"
   ]
  },
  {
   "cell_type": "code",
   "execution_count": 35,
   "metadata": {},
   "outputs": [
    {
     "name": "stderr",
     "output_type": "stream",
     "text": [
      "/Users/paulomartinez/anaconda3/lib/python3.6/site-packages/bs4/__init__.py:181: UserWarning: No parser was explicitly specified, so I'm using the best available HTML parser for this system (\"lxml\"). This usually isn't a problem, but if you run this code on another system, or in a different virtual environment, it may use a different parser and behave differently.\n",
      "\n",
      "The code that caused this warning is on line 193 of the file /Users/paulomartinez/anaconda3/lib/python3.6/runpy.py. To get rid of this warning, change code that looks like this:\n",
      "\n",
      " BeautifulSoup(YOUR_MARKUP})\n",
      "\n",
      "to this:\n",
      "\n",
      " BeautifulSoup(YOUR_MARKUP, \"lxml\")\n",
      "\n",
      "  markup_type=markup_type))\n",
      "/Users/paulomartinez/anaconda3/lib/python3.6/site-packages/pandas/core/generic.py:7620: SettingWithCopyWarning: \n",
      "A value is trying to be set on a copy of a slice from a DataFrame\n",
      "\n",
      "See the caveats in the documentation: http://pandas.pydata.org/pandas-docs/stable/indexing.html#indexing-view-versus-copy\n",
      "  self._update_inplace(new_data)\n",
      "/Users/paulomartinez/anaconda3/lib/python3.6/site-packages/IPython/core/interactiveshell.py:2963: SettingWithCopyWarning: \n",
      "A value is trying to be set on a copy of a slice from a DataFrame\n",
      "\n",
      "See the caveats in the documentation: http://pandas.pydata.org/pandas-docs/stable/indexing.html#indexing-view-versus-copy\n",
      "  exec(code_obj, self.user_global_ns, self.user_ns)\n"
     ]
    },
    {
     "name": "stdout",
     "output_type": "stream",
     "text": [
      "accession number 0000815556-18-000010 did not have a relevant dkfn row in the data frame\n",
      "accession number 0000109380-18-000102 did not have a relevant dkfn row in the data frame\n",
      "accession number 0001058090-18-000018 did not have a relevant dkfn row in the data frame\n",
      "accession number 0001043277-18-000007 did not have a relevant dkfn row in the data frame\n",
      "accession number 0001144204-18-020717 did not have a relevant dkfn row in the data frame\n",
      "accession number 0001113169-18-000009 did not have a relevant dkfn row in the data frame\n",
      "accession number 0000045012-18-000059 did not have a relevant dkfn row in the data frame\n",
      "accession number 0000096223-18-000009 did not have a relevant dkfn row in the data frame\n",
      "accession number 0000029905-18-000013 did not have a relevant dkfn row in the data frame\n",
      "accession number 0001095073-18-000008 did not have a relevant dkfn row in the data frame\n",
      "accession number 0000091419-17-000005 did not have a relevant dkfn row in the data frame\n",
      "accession number 0001193125-18-054181 did not have a relevant dkfn row in the data frame\n",
      "accession number 0001047469-18-000900 did not have a relevant dkfn row in the data frame\n",
      "accession number 0000874766-18-000011 did not have a relevant dkfn row in the data frame\n",
      "accession number 0000033185-18-000011 did not have a relevant dkfn row in the data frame\n",
      "accession number 0000277135-18-000007 did not have a relevant dkfn row in the data frame\n",
      "accession number 0001051470-18-000082 did not have a relevant dkfn row in the data frame\n",
      "accession number 0000319201-17-000034 did not have a relevant dkfn row in the data frame\n",
      "accession number 0000107815-18-000134 did not have a relevant dkfn row in the data frame\n",
      "failed to define a single candidate paragraph for filing data/nc_training_filings/0000034088-18-000015.html\n",
      "defaulted to using the nominated paragraph from the last filing\n",
      "accession number 0000034088-18-000015 did not have a relevant dkfn row in the data frame\n",
      "accession number 0001396009-18-000011 did not have a relevant dkfn row in the data frame\n",
      "accession number 0001193125-18-038261 did not have a relevant dkfn row in the data frame\n",
      "accession number 0001193125-18-048314 did not have a relevant dkfn row in the data frame\n",
      "accession number 0001193125-18-055887 did not have a relevant dkfn row in the data frame\n",
      "accession number 0001467373-17-000430 did not have a relevant dkfn row in the data frame\n",
      "accession number 0000320335-18-000006 did not have a relevant dkfn row in the data frame\n",
      "accession number 0001047469-18-001158 did not have a relevant dkfn row in the data frame\n",
      "accession number 0000007084-18-000012 did not have a relevant dkfn row in the data frame\n",
      "accession number 0001628280-18-005268 did not have a relevant dkfn row in the data frame\n",
      "accession number 0001628280-18-001552 did not have a relevant dkfn row in the data frame\n",
      "accession number 0000072903-18-000009 did not have a relevant dkfn row in the data frame\n",
      "accession number 0001193125-18-046681 did not have a relevant dkfn row in the data frame\n",
      "accession number 0000829224-17-000049 did not have a relevant dkfn row in the data frame\n",
      "\n",
      "entire cycle took  0:14:14.018006\n"
     ]
    }
   ],
   "source": [
    "# initialize some score keeping lists\n",
    "total_inclusion = []\n",
    "inclusion_rates = [] # analogous to true positive rate\n",
    "extra_baggage_rate = [] # analogous to false positive rate, (sorta, cause the actual paragraph data is not to be treated as an absolute standard).\n",
    "actual_paratokens_lengths = []\n",
    "nominated_paratokens_lengths = []\n",
    "filings_not_in_df = [] # track which, if any, filings were not found in the df\n",
    "no_tokhits_filings = [] # track which filings I failed to find hits for, if any\n",
    "\n",
    "t0 = datetime.datetime.now()\n",
    "\n",
    "for filing in training_filings_list:\n",
    "#for filing in vert_training_subset_filings_list:\n",
    "    ti = datetime.datetime.now()\n",
    "    #print('processing next filing at ', ti)\n",
    "    \n",
    "    \n",
    "### this could be all be packed into a function if nec.\n",
    "###\n",
    "    # read in the filing's html\n",
    "    with open(filing) as file:\n",
    "        file_html = file.read()\n",
    "    \n",
    "    # parse the html\n",
    "    parsed_html = BeautifulSoup(file_html)\n",
    "    # filter out the html head, css, and cast to lower case\n",
    "    string_filing = parsed_html.body.text.lower()\n",
    "    \n",
    "    ##################------- Predict Paragraphs ------##############################################\n",
    "    #define candidate paragraphs by clustering of overlapping token-hit-margins\n",
    "    #\n",
    "    #------ generate a list of token mathces / \"hits\"------------------------------\n",
    "    #\n",
    "    # collect the start and end indices of each token \"hit.\" into an ugly list of lists of tuples\n",
    "    lst_of_token_hits_lst = []\n",
    "    for i in range(len(key_tokens.key_tok[0:10])):\n",
    "        kt = key_tokens.key_tok[i]\n",
    "        lst_of_token_hits_lst.append([(str(kt), m.start(), m.end()) for m in re.finditer(kt, string_filing)])\n",
    "    #\n",
    "    # flatten the ugly list of lists of tuples into a list of tuples\n",
    "    flater_list_of_tokhits = [tpl for sublist in lst_of_token_hits_lst for tpl in sublist]\n",
    "    #\n",
    "    # order the list of token_hit tuples by starting index\n",
    "    flater_list_of_tokhits.sort(key = lambda x: x[1])\n",
    "    #\n",
    "    #-------- use the token hits to define the bounds of the candidate paragraphs -------\n",
    "    #\n",
    "    # initialize a list of candidate paragraphs and a hit tracker\n",
    "    candidate_paragraphs = []\n",
    "    hit = 0\n",
    "    #\n",
    "    # work through the hits until I exhaust the list\n",
    "    while hit < len(flater_list_of_tokhits) - 1:\n",
    "    #    \n",
    "    #    # initialize the left and right bound of a paragraph\n",
    "        leftbound = flater_list_of_tokhits[hit][1] - margin\n",
    "        rightbound = flater_list_of_tokhits[hit][2] + margin\n",
    "    #     \n",
    "    #    # loop from the hit + 1 (cause we used the former hit to initialize the bounds)\n",
    "        for i in range(hit + 1, len(flater_list_of_tokhits)):\n",
    "    #        # if the next token's start is within the current paragraph's bounds and it isnt the last hit\n",
    "            if (leftbound < flater_list_of_tokhits[i][1] < rightbound) and (i != len(flater_list_of_tokhits) - 1):\n",
    "    #            # expand the right bound with respect to next token's end\n",
    "                rightbound = flater_list_of_tokhits[i][2] + margin\n",
    "    #             \n",
    "    #        # if next token is outside the bounds of current paragraph or we are at the penultimate hit\n",
    "            else:\n",
    "    #            # if right bound is out of htmls range, then adjust it to the end of the html\n",
    "                if rightbound > len(string_filing):\n",
    "                    rightbound = len(string_filing)\n",
    "    #            # define current paragraph\n",
    "                par = string_filing[leftbound:rightbound] ########### (if the code needs to be made more efficient I could store the paragraph start and end indices instead of storing the strings)\n",
    "    #            # store the paragraph in a list of candidates\n",
    "                candidate_paragraphs.append(par)\n",
    "    #            # note which hit we need to start on for the next iteration of the while loop\n",
    "                hit = i\n",
    "    #            # now that we've found the outer bounds of the current paragraph we can interrupt the for loop\n",
    "                break #this only interrupts the nearest parent loop \n",
    "    # this is just a repetition of the above routine to handle the last hit. There is probably a better way to handle this but we can enhance that later\n",
    "    if hit == len(flater_list_of_tokhits)-1:\n",
    "        leftbound = flater_list_of_tokhits[hit][1] - margin\n",
    "        rightbound = flater_list_of_tokhits[hit][2] + margin\n",
    "        if rightbound > len(string_filing):\n",
    "            rightbound = len(string_filing)\n",
    "        par = string_filing[leftbound:rightbound]\n",
    "        candidate_paragraphs.append(par)\n",
    "    #--------------------------------------------------------------------------------------#\n",
    "    \n",
    "    #################--------- Validate Predictions ----------------------##################\n",
    "    # Future Enhancements:\n",
    "    # - I could make the loop \"reactive\" so that if the validation score of the first\n",
    "    #      nominated paragraph is low it con test the validation score of the second \n",
    "    #      nominee\n",
    "    #\n",
    "    # --------------- temporarily store the candidate paragraphs in a df ------------------\n",
    "    candidate_df = pd.DataFrame(candidate_paragraphs)\n",
    "    candidate_df.columns = ['cand_par']\n",
    "    candidate_df['len'] = [len(par) for par in candidate_df.cand_par]\n",
    "    # --------------- rank the candidate paragraphs by basic length (longer paragraphs correspond to denser clusters)\n",
    "    candidate_df.sort_values(by = 'len', ascending = False, inplace = True)\n",
    "    candidate_df.reset_index(inplace = True, drop = True)\n",
    "    # --------------- filter candidates down to those with 'repurchase' in them\n",
    "    candidate_df = candidate_df[['repurchase' in par for par in candidate_df.cand_par]]\n",
    "    candidate_df.reset_index(inplace = True, drop = True)\n",
    "    # --------------- nominee(s) will be the top 1 - 3 in the filterd df\n",
    "    if len(candidate_df.cand_par) != 0:\n",
    "        nominated = candidate_df.cand_par[0]\n",
    "    elif len(candidate_df.cand_par) == 0:\n",
    "        # if I failed define a single candidate paragraph\n",
    "        print('failed to define a single candidate paragraph for filing', filing)\n",
    "        print('defaulted to using the nominated paragraph from the last filing')\n",
    "        no_tokhits_filings.append(filing)\n",
    "    # clean up the nominee for validation\n",
    "    nom_validatable = re.sub(r'\\n+', ' ', nominated) # remove new lines\n",
    "    nom_validatable = re.sub(r'\\s+', ' ', nom_validatable) # trim all repeated whitespace down to one\n",
    "    # filter out stop words and non-alphanumeric content\n",
    "    # apply the same filtering process to nom_validatable\n",
    "    nominated_tokens = [wt for wt in word_tokenize(nom_validatable) if (wt.isalnum() and wt not in stopwords.words('english'))] # yes there is redundancy but that can be optimized later\n",
    "    #\n",
    "    \n",
    "    # --------------- isolate csv's actual paragraph for valiation\n",
    "    # extract the accesion number back out of the filing path\n",
    "    an = re.sub('data/nc_training_filings/', '', filing)\n",
    "    an = re.sub('.html', '', an)\n",
    "    # use it to filter down to the csv rows with that an\n",
    "    #\n",
    "    # ⚠️ notice that for expediencey I am only using the first row with a given accession number. (there could be up to 7 rows with the same accession number in the actual csv). The reason for this misalignment is because the primary purpose of this pipeline is to identify paragraphs with target information, it's purpose is not to define up to 7 paragraphs for each filing number.\n",
    "    # 🤔 to enhance this pipeline to work with the original csv I could pick my actual_paragraph to be one with a specific dkfn\n",
    "    #relev_bool_index = [ac_n == an and dkfn in relevant_dkfns for ac_n, dkfn in zip(vert_training_subset_df.accession_number, vert_training_subset_df.data_key_friendly_name)]\n",
    "    if an not in share_rprchs_prgrph_df.accession_number.values:\n",
    "        print(an, 'was not found in the filings data frame')\n",
    "        filings_not_in_df.append(an)\n",
    "        continue\n",
    "    \n",
    "    actual_paragraph = share_rprchs_prgrph_df[[ac_n == an and dkfn in relevant_dkfns for ac_n, dkfn in zip(share_rprchs_prgrph_df.accession_number, share_rprchs_prgrph_df.data_key_friendly_name)]].head(1).paragraph_text\n",
    "    # some rows don't have my relevant dkfns and the above assignment creates an empty series\n",
    "    # so to handle that just pick the first row at random, for now\n",
    "    if len(actual_paragraph) == 0:\n",
    "        print('accession number', an, 'did not have a relevant dkfn row in the data frame')\n",
    "        actual_paragraph = share_rprchs_prgrph_df[share_rprchs_prgrph_df.accession_number == an].head(1).paragraph_text\n",
    "    # extract the string from the resulting pandas series\n",
    "    actual_paragraph = actual_paragraph.values[0]\n",
    "    # cast the string to lower case\n",
    "    actual_paragraph = actual_paragraph.lower()\n",
    "    # eliminate excess spaces\n",
    "    actual_paragraph = re.sub(r'\\s+', ' ', actual_paragraph)\n",
    "    # filter out stop words, punctuation, and other non-alphanumeric stuff\n",
    "    actual_tokens = [wt for wt in word_tokenize(actual_paragraph) if (wt.isalnum() and wt not in stopwords.words('english'))] #yes there is probably some redundancy here but that can be refined later\n",
    "    \n",
    "    # moment of truth\n",
    "    #---------------------------------------------------------    \n",
    "    # calculate the inclusion rates\n",
    "    counter = 0\n",
    "    for wt in actual_tokens:\n",
    "        if wt in nominated_tokens:\n",
    "            counter += 1\n",
    "    x = round(100*counter/len(actual_tokens),2)\n",
    "    \n",
    "    # calculate the extra_baggage_rates\n",
    "    bag_counter = 0\n",
    "    for wt in nominated_tokens:\n",
    "        if wt in actual_tokens:\n",
    "            bag_counter += 1\n",
    "    z = round(100*bag_counter/len(nominated_tokens), 2)\n",
    "    \n",
    "    \n",
    "    # keeping score\n",
    "    # ---------------------------------------------------------\n",
    "    total_inclusion.append(actual_paragraph in nom_validatable)\n",
    "    inclusion_rates.append(x)\n",
    "    extra_baggage_rate.append(z)\n",
    "    actual_paratokens_lengths.append(len(actual_tokens))\n",
    "    nominated_paratokens_lengths.append(len(nominated_tokens))\n",
    "    #-------------------------------------------------------------------------------#\n",
    "    \n",
    "    ################--------- Write Predicted Paragraphs to Data-Frame ------------##############\n",
    "    predicted_paragraph_df.pred_paragraph_text_7[predicted_paragraph_df.accession_number == an] = nominated\n",
    "    #------------------------------------------------------------------------------------------#\n",
    "    \n",
    "    #tf = datetime.datetime.now()\n",
    "    #print('processed filing', len(total_inclusion), 'at ', tf, '. Process took', tf - ti)\n",
    "    #print(\"--------------------------\")\n",
    "    \n",
    "tf = datetime.datetime.now()\n",
    "print(\"\")\n",
    "print('entire cycle took ', tf - t0)"
   ]
  },
  {
   "cell_type": "code",
   "execution_count": 36,
   "metadata": {},
   "outputs": [
    {
     "name": "stdout",
     "output_type": "stream",
     "text": [
      "1\n"
     ]
    }
   ],
   "source": [
    "# were there any filings I failed to find a single hit for?\n",
    "print(len(no_tokhits_filings))"
   ]
  },
  {
   "cell_type": "code",
   "execution_count": 37,
   "metadata": {},
   "outputs": [
    {
     "name": "stdout",
     "output_type": "stream",
     "text": [
      "0\n"
     ]
    }
   ],
   "source": [
    "# were there any filings not found in the dataframe?\n",
    "print(len(filings_not_in_df))"
   ]
  },
  {
   "cell_type": "code",
   "execution_count": 38,
   "metadata": {},
   "outputs": [],
   "source": [
    "#### examine total_inclusion results (though this is a rather naive metric)"
   ]
  },
  {
   "cell_type": "code",
   "execution_count": 39,
   "metadata": {},
   "outputs": [
    {
     "name": "stdout",
     "output_type": "stream",
     "text": [
      "435 total filings processed\n",
      "183 number of paragraphs 100% included\n",
      "42.07 % total inclusion\n",
      "\n"
     ]
    }
   ],
   "source": [
    "#len(total)\n",
    "print(len(total_inclusion), 'total filings processed')\n",
    "print(np.array(total_inclusion).sum(), 'number of paragraphs 100% included')\n",
    "print(round(100*np.array(total_inclusion).sum()/len(total_inclusion), 2), '% total inclusion')\n",
    "print(\"\")"
   ]
  },
  {
   "cell_type": "markdown",
   "metadata": {},
   "source": [
    "It's interesting that when I used 15 (instead of 30) key tokens to define the paragraphs I somehow ended up with 12 more totally included paragraphs. 😐 \n",
    "- How is this possible?\n",
    "    - perhaps, my nominated paragraphs are different. They aren't just shorter. \n",
    "        - Before I was nominating the longest paragraph, but if I had a run on chain of false positive token hits then that paragraph would get nominated and thus the total inclusion would suffer. "
   ]
  },
  {
   "cell_type": "code",
   "execution_count": 40,
   "metadata": {},
   "outputs": [],
   "source": [
    "# examine the inclusion rates (analogous to true positive rate)"
   ]
  },
  {
   "cell_type": "code",
   "execution_count": 41,
   "metadata": {},
   "outputs": [
    {
     "data": {
      "image/png": "[encoded data removed]",
      "text/plain": [
       "<Figure size 432x288 with 1 Axes>"
      ]
     },
     "metadata": {},
     "output_type": "display_data"
    }
   ],
   "source": [
    "plt.hist(inclusion_rates , bins=20)\n",
    "plt.title('Histogram of inclusion rates')\n",
    "plt.grid()\n",
    "plt.show()"
   ]
  },
  {
   "cell_type": "code",
   "execution_count": 42,
   "metadata": {},
   "outputs": [
    {
     "data": {
      "text/plain": [
       "79.62639080459769"
      ]
     },
     "execution_count": 42,
     "metadata": {},
     "output_type": "execute_result"
    }
   ],
   "source": [
    "# mean inclusion rate\n",
    "np.mean(np.array(inclusion_rates))"
   ]
  },
  {
   "cell_type": "code",
   "execution_count": 43,
   "metadata": {},
   "outputs": [
    {
     "data": {
      "text/plain": [
       "98.08"
      ]
     },
     "execution_count": 43,
     "metadata": {},
     "output_type": "execute_result"
    }
   ],
   "source": [
    "# median inclusion rate\n",
    "np.median(np.array(inclusion_rates)) \n",
    "# 50 % of the actual paragraphs have an inclusion rate of at least"
   ]
  },
  {
   "cell_type": "code",
   "execution_count": 44,
   "metadata": {},
   "outputs": [
    {
     "data": {
      "text/plain": [
       "66.82399999999998"
      ]
     },
     "execution_count": 44,
     "metadata": {},
     "output_type": "execute_result"
    }
   ],
   "source": [
    "# 70% of the actual paragraphs have an inclusion rate of at least\n",
    "np.percentile(inclusion_rates, 30)"
   ]
  },
  {
   "cell_type": "code",
   "execution_count": 45,
   "metadata": {},
   "outputs": [
    {
     "data": {
      "text/plain": [
       "55.735"
      ]
     },
     "execution_count": 45,
     "metadata": {},
     "output_type": "execute_result"
    }
   ],
   "source": [
    "# 75 % of the actual paragraphs have an inclusion rate of at least\n",
    "np.percentile(inclusion_rates, 25)"
   ]
  },
  {
   "cell_type": "code",
   "execution_count": 46,
   "metadata": {},
   "outputs": [
    {
     "data": {
      "text/plain": [
       "34.540000000000006"
      ]
     },
     "execution_count": 46,
     "metadata": {},
     "output_type": "execute_result"
    }
   ],
   "source": [
    "# 90% of the actual paragraphs have an inclusion rate of at least\n",
    "np.percentile(inclusion_rates, 10)"
   ]
  },
  {
   "cell_type": "code",
   "execution_count": 47,
   "metadata": {},
   "outputs": [
    {
     "name": "stdout",
     "output_type": "stream",
     "text": [
      "----------------\n",
      "mean bagage rate:  32.06170114942529\n",
      "median bagage rate:  30.9\n",
      "\n"
     ]
    }
   ],
   "source": [
    "# examine the extra_bagage_rate (like false positive rate, sorta)\n",
    "print(\"----------------\")\n",
    "print('mean bagage rate: ', np.mean(np.array(extra_baggage_rate)))\n",
    "print('median bagage rate: ', np.median(np.array(extra_baggage_rate)))\n",
    "print(\"\")"
   ]
  },
  {
   "cell_type": "code",
   "execution_count": 48,
   "metadata": {},
   "outputs": [
    {
     "data": {
      "text/plain": [
       "40.38999999999999"
      ]
     },
     "execution_count": 48,
     "metadata": {},
     "output_type": "execute_result"
    }
   ],
   "source": [
    "np.percentile(extra_baggage_rate, 70)\n",
    "# only 30% of my nominees have a bagage rate of at least?"
   ]
  },
  {
   "cell_type": "code",
   "execution_count": 49,
   "metadata": {},
   "outputs": [
    {
     "data": {
      "image/png": "[encoded data removed]",
      "text/plain": [
       "<Figure size 432x288 with 1 Axes>"
      ]
     },
     "metadata": {},
     "output_type": "display_data"
    }
   ],
   "source": [
    "plt.hist(extra_baggage_rate)\n",
    "plt.title('Histogram of extra bagage rate')\n",
    "plt.grid()\n",
    "plt.show()"
   ]
  },
  {
   "cell_type": "code",
   "execution_count": 50,
   "metadata": {},
   "outputs": [],
   "source": [
    "# compare the lengths of the actual paratokens to the nominated paratokens"
   ]
  },
  {
   "cell_type": "code",
   "execution_count": 51,
   "metadata": {},
   "outputs": [
    {
     "data": {
      "image/png": "[encoded data removed]",
      "text/plain": [
       "<Figure size 432x288 with 1 Axes>"
      ]
     },
     "metadata": {},
     "output_type": "display_data"
    }
   ],
   "source": [
    "plt.hist(actual_paratokens_lengths)\n",
    "plt.title('Hist. of actual para_token lengths')\n",
    "plt.grid()\n",
    "plt.show()"
   ]
  },
  {
   "cell_type": "code",
   "execution_count": 52,
   "metadata": {},
   "outputs": [
    {
     "name": "stdout",
     "output_type": "stream",
     "text": [
      "mean  51.11724137931034\n",
      "median 46.0\n",
      "range 185\n"
     ]
    }
   ],
   "source": [
    "print('mean ', np.mean(np.array(actual_paratokens_lengths)))\n",
    "print('median', np.median(np.array(actual_paratokens_lengths)))\n",
    "print('range', np.max(np.array(actual_paratokens_lengths)) - np.min(np.array(actual_paratokens_lengths)))"
   ]
  },
  {
   "cell_type": "code",
   "execution_count": 53,
   "metadata": {},
   "outputs": [
    {
     "data": {
      "image/png": "[encoded data removed]",
      "text/plain": [
       "<Figure size 432x288 with 1 Axes>"
      ]
     },
     "metadata": {},
     "output_type": "display_data"
    }
   ],
   "source": [
    "# now lets look at the nominated paratokens lengths\n",
    "plt.hist(nominated_paratokens_lengths)\n",
    "plt.title('Hist. of nominated_paratokens_lengths')\n",
    "plt.grid()\n",
    "plt.show()"
   ]
  },
  {
   "cell_type": "code",
   "execution_count": 54,
   "metadata": {},
   "outputs": [
    {
     "name": "stdout",
     "output_type": "stream",
     "text": [
      "mean  298.7080459770115\n",
      "median 266.0\n",
      "range 1227\n"
     ]
    }
   ],
   "source": [
    "print('mean ', np.mean(np.array(nominated_paratokens_lengths)))\n",
    "print('median', np.median(np.array(nominated_paratokens_lengths)))\n",
    "print('range', np.max(np.array(nominated_paratokens_lengths)) - np.min(np.array(nominated_paratokens_lengths)))"
   ]
  },
  {
   "cell_type": "code",
   "execution_count": 55,
   "metadata": {},
   "outputs": [
    {
     "data": {
      "image/png": "[encoded data removed]",
      "text/plain": [
       "<Figure size 1080x504 with 1 Axes>"
      ]
     },
     "metadata": {},
     "output_type": "display_data"
    }
   ],
   "source": [
    "plt.figure(figsize = (15,7))\n",
    "plt.bar(height = actual_paratokens_lengths, alpha = 0.9,\n",
    "        x = range(len(actual_paratokens_lengths)))\n",
    "plt.bar(height = nominated_paratokens_lengths, alpha = 0.3,\n",
    "       x = range(len(nominated_paratokens_lengths)))\n",
    "plt.title('bar comparison of paratokens lengths')\n",
    "plt.legend(['actual paratokens lenght', 'nominated paratokens lengths'])\n",
    "plt.xlabel('index')\n",
    "plt.ylabel('length of a paragraphs key tokens (no punctuation, no stopwords)')\n",
    "plt.grid(axis = 'y')\n",
    "plt.show()"
   ]
  },
  {
   "cell_type": "markdown",
   "metadata": {},
   "source": [
    "# eda on predicted paragraphs"
   ]
  },
  {
   "cell_type": "code",
   "execution_count": 56,
   "metadata": {},
   "outputs": [
    {
     "data": {
      "text/html": [
       "<div>\n",
       "<style scoped>\n",
       "    .dataframe tbody tr th:only-of-type {\n",
       "        vertical-align: middle;\n",
       "    }\n",
       "\n",
       "    .dataframe tbody tr th {\n",
       "        vertical-align: top;\n",
       "    }\n",
       "\n",
       "    .dataframe thead th {\n",
       "        text-align: right;\n",
       "    }\n",
       "</style>\n",
       "<table border=\"1\" class=\"dataframe\">\n",
       "  <thead>\n",
       "    <tr style=\"text-align: right;\">\n",
       "      <th></th>\n",
       "      <th>ticker</th>\n",
       "      <th>accession_number</th>\n",
       "      <th>pred_paragraph_text</th>\n",
       "      <th>pred_paragraph_text_7</th>\n",
       "    </tr>\n",
       "  </thead>\n",
       "  <tbody>\n",
       "    <tr>\n",
       "      <th>0</th>\n",
       "      <td>A</td>\n",
       "      <td>0001090872-17-000018</td>\n",
       "      <td>e chemical and energy markets.\\n\\nnet income f...</td>\n",
       "      <td>rtized related to the interest rate swap agree...</td>\n",
       "    </tr>\n",
       "    <tr>\n",
       "      <th>1</th>\n",
       "      <td>AAL</td>\n",
       "      <td>0000006201-18-000009</td>\n",
       "      <td>n recognition of the 2017 tax act.\\n\\n\\n\\n\\n\\n...</td>\n",
       "      <td>n recognition of the 2017 tax act.\\n\\n\\n\\n\\n\\n...</td>\n",
       "    </tr>\n",
       "    <tr>\n",
       "      <th>2</th>\n",
       "      <td>AAP</td>\n",
       "      <td>0001158449-18-000039</td>\n",
       "      <td>151.72\\n\\n\\n\\n\\n\\n$\\n\\n\\n99.13\\n\\n\\n\\n\\n\\n \\n\\...</td>\n",
       "      <td>\\n\\nwarranty reserves, beginning of period\\n\\n...</td>\n",
       "    </tr>\n",
       "    <tr>\n",
       "      <th>3</th>\n",
       "      <td>AAPL</td>\n",
       "      <td>0000320193-17-000070</td>\n",
       "      <td>s business operations are subject\\nto interrup...</td>\n",
       "      <td>ember 2016 asr\\n\\n\\nfebruary 2017\\n\\n\\n \\n\\n\\n...</td>\n",
       "    </tr>\n",
       "    <tr>\n",
       "      <th>4</th>\n",
       "      <td>ABBV</td>\n",
       "      <td>0001551152-18-000014</td>\n",
       "      <td>hat generally vest in one-third increments ove...</td>\n",
       "      <td>hat generally vest in one-third increments ove...</td>\n",
       "    </tr>\n",
       "    <tr>\n",
       "      <th>5</th>\n",
       "      <td>ABC</td>\n",
       "      <td>0001140859-17-000047</td>\n",
       "      <td>ing illustrates the components of accumulated ...</td>\n",
       "      <td>illion of 4.875% senior notes due november 15,...</td>\n",
       "    </tr>\n",
       "    <tr>\n",
       "      <th>6</th>\n",
       "      <td>ABT</td>\n",
       "      <td>0001047469-18-000856</td>\n",
       "      <td>\\nin march 2015, abbott issued $2.5 billion of...</td>\n",
       "      <td>, 2022; and $1.0 billion of\\n2.95% senior note...</td>\n",
       "    </tr>\n",
       "    <tr>\n",
       "      <th>7</th>\n",
       "      <td>ACN</td>\n",
       "      <td>0001467373-17-000430</td>\n",
       "      <td>our irish parent,\\nprincipally dividend distr...</td>\n",
       "      <td>our irish parent,\\nprincipally dividend distr...</td>\n",
       "    </tr>\n",
       "    <tr>\n",
       "      <th>8</th>\n",
       "      <td>ADBE</td>\n",
       "      <td>0000796343-18-000015</td>\n",
       "      <td>elated to each component of other\\ncomprehensi...</td>\n",
       "      <td>\\n\\n\\n \\n\\n\\n24\\n\\n\\n\\n\\n\\n \\n\\n\\n(3,378\\n\\n\\n...</td>\n",
       "    </tr>\n",
       "    <tr>\n",
       "      <th>9</th>\n",
       "      <td>ADI</td>\n",
       "      <td>0000006281-17-000144</td>\n",
       "      <td>/awards granted\\n\\n\\n4,809\\n\\n\\n\\n\\n\\n \\n\\n\\n\\...</td>\n",
       "      <td>tions lapsed\\n\\n\\n(1,580\\n\\n\\n)\\n\\n\\n \\n\\n\\n\\n...</td>\n",
       "    </tr>\n",
       "    <tr>\n",
       "      <th>10</th>\n",
       "      <td>ADM</td>\n",
       "      <td>0000007084-18-000012</td>\n",
       "      <td>rrowings in the current year related to the $0...</td>\n",
       "      <td>ility of\\n$270 million as of december 31, 2017...</td>\n",
       "    </tr>\n",
       "    <tr>\n",
       "      <th>11</th>\n",
       "      <td>ADP</td>\n",
       "      <td>0000008670-17-000010</td>\n",
       "      <td>\\n\\nseptember 30\\n\\n\\n$93.82\\n\\n\\n \\n\\n\\n$84.7...</td>\n",
       "      <td>cal 2017 and 2016, our average daily borrowing...</td>\n",
       "    </tr>\n",
       "    <tr>\n",
       "      <th>12</th>\n",
       "      <td>ADS</td>\n",
       "      <td>0001101215-18-000066</td>\n",
       "      <td>to make further changes to the federal consume...</td>\n",
       "      <td>r common stock on february 6, 2017. the final ...</td>\n",
       "    </tr>\n",
       "    <tr>\n",
       "      <th>13</th>\n",
       "      <td>ADSK</td>\n",
       "      <td>0000769397-18-000011</td>\n",
       "      <td>rter\\n\\n\\n73.40\\n\\n\\n\\n\\n\\n \\n\\n\\n56.80\\n\\n\\n\\...</td>\n",
       "      <td>rter\\n\\n\\n73.40\\n\\n\\n\\n\\n\\n \\n\\n\\n56.80\\n\\n\\n\\...</td>\n",
       "    </tr>\n",
       "    <tr>\n",
       "      <th>14</th>\n",
       "      <td>AES</td>\n",
       "      <td>0000874761-18-000014</td>\n",
       "      <td>olling interests, primarily at the mcac sbu\\n\\...</td>\n",
       "      <td>\\n\\n\\n\\n\\n \\n\\n\\n-\\n\\n\\n\\n\\n\\n \\n\\n\\n-\\n\\n\\n\\n...</td>\n",
       "    </tr>\n",
       "    <tr>\n",
       "      <th>15</th>\n",
       "      <td>AET</td>\n",
       "      <td>0001122304-18-000027</td>\n",
       "      <td>lose of business\\non april 12, 2018. under the...</td>\n",
       "      <td>lose of business\\non april 12, 2018. under the...</td>\n",
       "    </tr>\n",
       "    <tr>\n",
       "      <th>16</th>\n",
       "      <td>AFL</td>\n",
       "      <td>0000004977-18-000054</td>\n",
       "      <td>sments\\n\\nunder u.s. state guaranty associatio...</td>\n",
       "      <td>issuances discussed above.\\n\\nsee the precedin...</td>\n",
       "    </tr>\n",
       "    <tr>\n",
       "      <th>17</th>\n",
       "      <td>AGN</td>\n",
       "      <td>0001564590-18-002345</td>\n",
       "      <td>orth below:\\n\\n\\n\\n\\n\\nirs audits\\n\\n\\n\\n\\n\\nt...</td>\n",
       "      <td>orth below:\\n\\n\\n\\n\\n\\nirs audits\\n\\n\\n\\n\\n\\nt...</td>\n",
       "    </tr>\n",
       "    <tr>\n",
       "      <th>18</th>\n",
       "      <td>AGRO</td>\n",
       "      <td>0001628280-18-005268</td>\n",
       "      <td>onds, debentures, notes and other securities o...</td>\n",
       "      <td>ice range, each time within the following para...</td>\n",
       "    </tr>\n",
       "    <tr>\n",
       "      <th>19</th>\n",
       "      <td>AIG</td>\n",
       "      <td>0000005272-18-000022</td>\n",
       "      <td>form 10-k\\n 137\\n\\n\\n\\n\\n\\n\\n\\n\\ntable of cont...</td>\n",
       "      <td>form 10-k\\n 137\\n\\n\\n\\n\\n\\n\\n\\n\\ntable of cont...</td>\n",
       "    </tr>\n",
       "    <tr>\n",
       "      <th>20</th>\n",
       "      <td>AIV</td>\n",
       "      <td>0000922864-18-000006</td>\n",
       "      <td>ach such broker or clearing agency\\nas one rec...</td>\n",
       "      <td>ach such broker or clearing agency\\nas one rec...</td>\n",
       "    </tr>\n",
       "    <tr>\n",
       "      <th>21</th>\n",
       "      <td>AIZ</td>\n",
       "      <td>0001628280-18-001695</td>\n",
       "      <td>t facility was scheduled to expire in septembe...</td>\n",
       "      <td>types of securities through one or more metho...</td>\n",
       "    </tr>\n",
       "    <tr>\n",
       "      <th>22</th>\n",
       "      <td>AJG</td>\n",
       "      <td>0001193125-18-038261</td>\n",
       "      <td>2016, we filed a shelf registration\\nstatement...</td>\n",
       "      <td>2016, we filed a shelf registration\\nstatement...</td>\n",
       "    </tr>\n",
       "    <tr>\n",
       "      <th>23</th>\n",
       "      <td>AKAM</td>\n",
       "      <td>0001086222-18-000052</td>\n",
       "      <td>hich $16.4 million and $8.6 million was record...</td>\n",
       "      <td>ntered material costs as a result of such inde...</td>\n",
       "    </tr>\n",
       "    <tr>\n",
       "      <th>24</th>\n",
       "      <td>ALB</td>\n",
       "      <td>0000915913-18-000005</td>\n",
       "      <td>\\n\\n\\n\\n\\n\\n \\n\\n\\n$\\n\\n\\n478,638\\n\\n\\n\\n\\n\\n ...</td>\n",
       "      <td>\\n\\n\\n\\n\\n\\n \\n\\n\\n$\\n\\n\\n478,638\\n\\n\\n\\n\\n\\n ...</td>\n",
       "    </tr>\n",
       "    <tr>\n",
       "      <th>25</th>\n",
       "      <td>ALGN</td>\n",
       "      <td>0001097149-18-000010</td>\n",
       "      <td>ufacturing capacity and infrastructure includi...</td>\n",
       "      <td>ufacturing capacity and infrastructure includi...</td>\n",
       "    </tr>\n",
       "    <tr>\n",
       "      <th>26</th>\n",
       "      <td>ALK</td>\n",
       "      <td>0000766421-18-000015</td>\n",
       "      <td>2016. virgin america filed a motion for\\nsumma...</td>\n",
       "      <td>s not likely to materially\\naffect the company...</td>\n",
       "    </tr>\n",
       "    <tr>\n",
       "      <th>27</th>\n",
       "      <td>ALL</td>\n",
       "      <td>0000899051-18-000007</td>\n",
       "      <td>, 2017. in 2017, we contributed $131 million t...</td>\n",
       "      <td>, 2017. in 2017, we contributed $131 million t...</td>\n",
       "    </tr>\n",
       "    <tr>\n",
       "      <th>28</th>\n",
       "      <td>ALLE</td>\n",
       "      <td>0001579241-18-000007</td>\n",
       "      <td>value of the long-term debt instruments is ob...</td>\n",
       "      <td>ies act. under the irish companies act, divide...</td>\n",
       "    </tr>\n",
       "    <tr>\n",
       "      <th>29</th>\n",
       "      <td>ALXN</td>\n",
       "      <td>0000899866-18-000022</td>\n",
       "      <td>ive restricted stock at the end of a three yea...</td>\n",
       "      <td>ember 30, 2017)\\n\\n\\n$\\n\\n\\n149.34\\n\\n\\n\\n\\n\\n...</td>\n",
       "    </tr>\n",
       "    <tr>\n",
       "      <th>...</th>\n",
       "      <td>...</td>\n",
       "      <td>...</td>\n",
       "      <td>...</td>\n",
       "      <td>...</td>\n",
       "    </tr>\n",
       "    <tr>\n",
       "      <th>405</th>\n",
       "      <td>VMC</td>\n",
       "      <td>0001396009-18-000011</td>\n",
       "      <td>n 2017\\nwas $503.4 million, an increase of\\n$8...</td>\n",
       "      <td>2017 debt issuances (as described in the secti...</td>\n",
       "    </tr>\n",
       "    <tr>\n",
       "      <th>406</th>\n",
       "      <td>VRSK</td>\n",
       "      <td>0001442145-18-000008</td>\n",
       "      <td>2017. interest on\\nborrowings under the credit...</td>\n",
       "      <td>l statements - (continued)\\n\\n\\ndebt maturitie...</td>\n",
       "    </tr>\n",
       "    <tr>\n",
       "      <th>407</th>\n",
       "      <td>VRSN</td>\n",
       "      <td>0001014473-18-000018</td>\n",
       "      <td>entures\\n\\n\\n$\\n\\n\\n47,432\\n\\n\\n\\n\\n\\n \\n\\n\\n$...</td>\n",
       "      <td>ebentures\\n\\n\\n12,012\\n\\n\\n\\n\\n\\n \\n\\n\\n11,094...</td>\n",
       "    </tr>\n",
       "    <tr>\n",
       "      <th>408</th>\n",
       "      <td>VRTX</td>\n",
       "      <td>0000875320-18-000009</td>\n",
       "      <td>ies have\\nassets and liabilities translated in...</td>\n",
       "      <td>iscal years ended december 31)\\n\\nwe became pa...</td>\n",
       "    </tr>\n",
       "    <tr>\n",
       "      <th>409</th>\n",
       "      <td>VZ</td>\n",
       "      <td>0000732712-18-000009</td>\n",
       "      <td>et cash flows from financing activities\\n\\n\\n ...</td>\n",
       "      <td>et cash flows from financing activities\\n\\n\\n ...</td>\n",
       "    </tr>\n",
       "    <tr>\n",
       "      <th>410</th>\n",
       "      <td>WAT</td>\n",
       "      <td>0001193125-18-060830</td>\n",
       "      <td>, including intentions and plans, on the cumul...</td>\n",
       "      <td>volving credit facility, with both the term lo...</td>\n",
       "    </tr>\n",
       "    <tr>\n",
       "      <th>411</th>\n",
       "      <td>WBA</td>\n",
       "      <td>0001618921-17-000069</td>\n",
       "      <td>ontributions of $54 million to its defined ben...</td>\n",
       "      <td>xt 12 months. our cash requirements are subjec...</td>\n",
       "    </tr>\n",
       "    <tr>\n",
       "      <th>412</th>\n",
       "      <td>WDC</td>\n",
       "      <td>0000106040-17-000027</td>\n",
       "      <td>ing weighted average assumptions:\\n\\n\\n\\n\\n\\n\\...</td>\n",
       "      <td>ing weighted average assumptions:\\n\\n\\n\\n\\n\\n\\...</td>\n",
       "    </tr>\n",
       "    <tr>\n",
       "      <th>413</th>\n",
       "      <td>WEC</td>\n",
       "      <td>0000107815-18-000134</td>\n",
       "      <td>nds and the purchase or redemption of its capi...</td>\n",
       "      <td>project at weston unit 3 going into service d...</td>\n",
       "    </tr>\n",
       "    <tr>\n",
       "      <th>414</th>\n",
       "      <td>WFC</td>\n",
       "      <td>0000072971-18-000272</td>\n",
       "      <td>i\\npreferred stock shall be redeemed from tim...</td>\n",
       "      <td>ence. at february 20, 2018, there were 173,086...</td>\n",
       "    </tr>\n",
       "    <tr>\n",
       "      <th>415</th>\n",
       "      <td>WHR</td>\n",
       "      <td>0000106640-18-000019</td>\n",
       "      <td>return land use rights for land now occupied\\...</td>\n",
       "      <td>69\\n\\n\\n\\n\\n\\n\\n\\nless: other comprehensive lo...</td>\n",
       "    </tr>\n",
       "    <tr>\n",
       "      <th>416</th>\n",
       "      <td>WLTW</td>\n",
       "      <td>0001140536-18-000008</td>\n",
       "      <td>rresponding liability due to the insurers. cla...</td>\n",
       "      <td>orporate purposes. notwithstanding the legal r...</td>\n",
       "    </tr>\n",
       "    <tr>\n",
       "      <th>417</th>\n",
       "      <td>WM</td>\n",
       "      <td>0001558370-18-000716</td>\n",
       "      <td>017\\n\\n\\n\\n\\n\\n2016\\n\\n\\n\\n\\n\\n2015\\n\\n\\n\\n\\n\\...</td>\n",
       "      <td>erest expense, net\\n\\n\\n\\n\\nforeign currency d...</td>\n",
       "    </tr>\n",
       "    <tr>\n",
       "      <th>418</th>\n",
       "      <td>WMT</td>\n",
       "      <td>0000104169-18-000028</td>\n",
       "      <td>of long-term debt\\n\\n\\n \\n\\n\\n-\\n\\n\\n\\n\\n\\n \\n...</td>\n",
       "      <td>\\n\\n\\n74.73\\n\\n\\n\\n\\n\\n \\n\\n\\n8,570\\n\\n\\n\\n\\n\\...</td>\n",
       "    </tr>\n",
       "    <tr>\n",
       "      <th>419</th>\n",
       "      <td>WRK</td>\n",
       "      <td>0001636023-17-000167</td>\n",
       "      <td>plemental plans are generally similar to inves...</td>\n",
       "      <td>plemental plans are generally similar to inves...</td>\n",
       "    </tr>\n",
       "    <tr>\n",
       "      <th>420</th>\n",
       "      <td>WU</td>\n",
       "      <td>0001365135-18-000013</td>\n",
       "      <td>officer for breach of fiduciary duties for in...</td>\n",
       "      <td>ommittee shall constitute a quorum. the acts o...</td>\n",
       "    </tr>\n",
       "    <tr>\n",
       "      <th>421</th>\n",
       "      <td>WY</td>\n",
       "      <td>0000106535-18-000013</td>\n",
       "      <td>d office\\nequipment;\\n\\n\\n\\n\\n\\n\\n\\n\\n\\n\\n•\\n\\...</td>\n",
       "      <td>that included a formaldehyde-based resin. this...</td>\n",
       "    </tr>\n",
       "    <tr>\n",
       "      <th>422</th>\n",
       "      <td>WYN</td>\n",
       "      <td>0001361658-18-000003</td>\n",
       "      <td>luded in other non-current assets and $4 milli...</td>\n",
       "      <td>projects or purchase from us, for cash, existi...</td>\n",
       "    </tr>\n",
       "    <tr>\n",
       "      <th>423</th>\n",
       "      <td>WYNN</td>\n",
       "      <td>0001174922-18-000019</td>\n",
       "      <td>ne 1, 2018 and until such date mr. wynn shall ...</td>\n",
       "      <td>18 and until such date mr. wynn shall continue...</td>\n",
       "    </tr>\n",
       "    <tr>\n",
       "      <th>424</th>\n",
       "      <td>XEL</td>\n",
       "      <td>0000072903-18-000009</td>\n",
       "      <td>84\\n\\n\\n\\n\\n\\n \\n\\n\\n507.8\\n\\n\\n\\n\\n\\n \\n\\n\\n$...</td>\n",
       "      <td>84\\n\\n\\n\\n\\n\\n \\n\\n\\n507.8\\n\\n\\n\\n\\n\\n \\n\\n\\n$...</td>\n",
       "    </tr>\n",
       "    <tr>\n",
       "      <th>425</th>\n",
       "      <td>XL</td>\n",
       "      <td>0000875159-18-000015</td>\n",
       "      <td>assessment of the probability or estimated am...</td>\n",
       "      <td>e exposures\\nin february 2017, the company neg...</td>\n",
       "    </tr>\n",
       "    <tr>\n",
       "      <th>426</th>\n",
       "      <td>XLNX</td>\n",
       "      <td>0000743988-17-000046</td>\n",
       "      <td>gh\\n\\n\\n \\n\\n\\nlow\\n\\n\\n \\n\\n\\nhigh\\n\\n\\n \\n\\n...</td>\n",
       "      <td>pon the company's credit rating. in connection...</td>\n",
       "    </tr>\n",
       "    <tr>\n",
       "      <th>427</th>\n",
       "      <td>XOM</td>\n",
       "      <td>0000034088-18-000015</td>\n",
       "      <td>egal settlement costs (see note 17)\\n\\n\\n-\\n\\n...</td>\n",
       "      <td>egal settlement costs (see note 17)\\n\\n\\n-\\n\\n...</td>\n",
       "    </tr>\n",
       "    <tr>\n",
       "      <th>428</th>\n",
       "      <td>XRAY</td>\n",
       "      <td>0000818479-18-000014</td>\n",
       "      <td>performance-based exception under section 162...</td>\n",
       "      <td>n, $815.1 million and\\n$112.7 million, respect...</td>\n",
       "    </tr>\n",
       "    <tr>\n",
       "      <th>429</th>\n",
       "      <td>XRX</td>\n",
       "      <td>0000108772-18-000012</td>\n",
       "      <td>reference to the price paid for our common\\ns...</td>\n",
       "      <td>reference to the price paid for our common\\ns...</td>\n",
       "    </tr>\n",
       "    <tr>\n",
       "      <th>430</th>\n",
       "      <td>XYL</td>\n",
       "      <td>0001524472-18-000006</td>\n",
       "      <td>g the vesting\\nperiod and are paid upon vestin...</td>\n",
       "      <td>ice volatility, correlation coefficients betwe...</td>\n",
       "    </tr>\n",
       "    <tr>\n",
       "      <th>431</th>\n",
       "      <td>YUM</td>\n",
       "      <td>0001041061-18-000013</td>\n",
       "      <td>brands following the separation on october 31,...</td>\n",
       "      <td>assess the creditworthiness of counterparties...</td>\n",
       "    </tr>\n",
       "    <tr>\n",
       "      <th>432</th>\n",
       "      <td>ZBH</td>\n",
       "      <td>0001564590-18-003549</td>\n",
       "      <td>any federal changes generally remains subject...</td>\n",
       "      <td>any federal changes generally remains subject...</td>\n",
       "    </tr>\n",
       "    <tr>\n",
       "      <th>433</th>\n",
       "      <td>ZION</td>\n",
       "      <td>0000109380-18-000102</td>\n",
       "      <td>oc application is\\napproved\\nas discussed abov...</td>\n",
       "      <td>he frequency and amount of common stock\\ndivid...</td>\n",
       "    </tr>\n",
       "    <tr>\n",
       "      <th>434</th>\n",
       "      <td>ZTS</td>\n",
       "      <td>0001555280-18-000053</td>\n",
       "      <td>\\n\\n   first quarter\\n\\n\\n$48.35\\n\\n\\n$38.26\\n...</td>\n",
       "      <td>\\n\\n   first quarter\\n\\n\\n$48.35\\n\\n\\n$38.26\\n...</td>\n",
       "    </tr>\n",
       "  </tbody>\n",
       "</table>\n",
       "<p>435 rows × 4 columns</p>\n",
       "</div>"
      ],
      "text/plain": [
       "    ticker      accession_number  \\\n",
       "0        A  0001090872-17-000018   \n",
       "1      AAL  0000006201-18-000009   \n",
       "2      AAP  0001158449-18-000039   \n",
       "3     AAPL  0000320193-17-000070   \n",
       "4     ABBV  0001551152-18-000014   \n",
       "5      ABC  0001140859-17-000047   \n",
       "6      ABT  0001047469-18-000856   \n",
       "7      ACN  0001467373-17-000430   \n",
       "8     ADBE  0000796343-18-000015   \n",
       "9      ADI  0000006281-17-000144   \n",
       "10     ADM  0000007084-18-000012   \n",
       "11     ADP  0000008670-17-000010   \n",
       "12     ADS  0001101215-18-000066   \n",
       "13    ADSK  0000769397-18-000011   \n",
       "14     AES  0000874761-18-000014   \n",
       "15     AET  0001122304-18-000027   \n",
       "16     AFL  0000004977-18-000054   \n",
       "17     AGN  0001564590-18-002345   \n",
       "18    AGRO  0001628280-18-005268   \n",
       "19     AIG  0000005272-18-000022   \n",
       "20     AIV  0000922864-18-000006   \n",
       "21     AIZ  0001628280-18-001695   \n",
       "22     AJG  0001193125-18-038261   \n",
       "23    AKAM  0001086222-18-000052   \n",
       "24     ALB  0000915913-18-000005   \n",
       "25    ALGN  0001097149-18-000010   \n",
       "26     ALK  0000766421-18-000015   \n",
       "27     ALL  0000899051-18-000007   \n",
       "28    ALLE  0001579241-18-000007   \n",
       "29    ALXN  0000899866-18-000022   \n",
       "..     ...                   ...   \n",
       "405    VMC  0001396009-18-000011   \n",
       "406   VRSK  0001442145-18-000008   \n",
       "407   VRSN  0001014473-18-000018   \n",
       "408   VRTX  0000875320-18-000009   \n",
       "409     VZ  0000732712-18-000009   \n",
       "410    WAT  0001193125-18-060830   \n",
       "411    WBA  0001618921-17-000069   \n",
       "412    WDC  0000106040-17-000027   \n",
       "413    WEC  0000107815-18-000134   \n",
       "414    WFC  0000072971-18-000272   \n",
       "415    WHR  0000106640-18-000019   \n",
       "416   WLTW  0001140536-18-000008   \n",
       "417     WM  0001558370-18-000716   \n",
       "418    WMT  0000104169-18-000028   \n",
       "419    WRK  0001636023-17-000167   \n",
       "420     WU  0001365135-18-000013   \n",
       "421     WY  0000106535-18-000013   \n",
       "422    WYN  0001361658-18-000003   \n",
       "423   WYNN  0001174922-18-000019   \n",
       "424    XEL  0000072903-18-000009   \n",
       "425     XL  0000875159-18-000015   \n",
       "426   XLNX  0000743988-17-000046   \n",
       "427    XOM  0000034088-18-000015   \n",
       "428   XRAY  0000818479-18-000014   \n",
       "429    XRX  0000108772-18-000012   \n",
       "430    XYL  0001524472-18-000006   \n",
       "431    YUM  0001041061-18-000013   \n",
       "432    ZBH  0001564590-18-003549   \n",
       "433   ZION  0000109380-18-000102   \n",
       "434    ZTS  0001555280-18-000053   \n",
       "\n",
       "                                   pred_paragraph_text  \\\n",
       "0    e chemical and energy markets.\\n\\nnet income f...   \n",
       "1    n recognition of the 2017 tax act.\\n\\n\\n\\n\\n\\n...   \n",
       "2    151.72\\n\\n\\n\\n\\n\\n$\\n\\n\\n99.13\\n\\n\\n\\n\\n\\n \\n\\...   \n",
       "3    s business operations are subject\\nto interrup...   \n",
       "4    hat generally vest in one-third increments ove...   \n",
       "5    ing illustrates the components of accumulated ...   \n",
       "6    \\nin march 2015, abbott issued $2.5 billion of...   \n",
       "7     our irish parent,\\nprincipally dividend distr...   \n",
       "8    elated to each component of other\\ncomprehensi...   \n",
       "9    /awards granted\\n\\n\\n4,809\\n\\n\\n\\n\\n\\n \\n\\n\\n\\...   \n",
       "10   rrowings in the current year related to the $0...   \n",
       "11   \\n\\nseptember 30\\n\\n\\n$93.82\\n\\n\\n \\n\\n\\n$84.7...   \n",
       "12   to make further changes to the federal consume...   \n",
       "13   rter\\n\\n\\n73.40\\n\\n\\n\\n\\n\\n \\n\\n\\n56.80\\n\\n\\n\\...   \n",
       "14   olling interests, primarily at the mcac sbu\\n\\...   \n",
       "15   lose of business\\non april 12, 2018. under the...   \n",
       "16   sments\\n\\nunder u.s. state guaranty associatio...   \n",
       "17   orth below:\\n\\n\\n\\n\\n\\nirs audits\\n\\n\\n\\n\\n\\nt...   \n",
       "18   onds, debentures, notes and other securities o...   \n",
       "19   form 10-k\\n 137\\n\\n\\n\\n\\n\\n\\n\\n\\ntable of cont...   \n",
       "20   ach such broker or clearing agency\\nas one rec...   \n",
       "21   t facility was scheduled to expire in septembe...   \n",
       "22   2016, we filed a shelf registration\\nstatement...   \n",
       "23   hich $16.4 million and $8.6 million was record...   \n",
       "24   \\n\\n\\n\\n\\n\\n \\n\\n\\n$\\n\\n\\n478,638\\n\\n\\n\\n\\n\\n ...   \n",
       "25   ufacturing capacity and infrastructure includi...   \n",
       "26   2016. virgin america filed a motion for\\nsumma...   \n",
       "27   , 2017. in 2017, we contributed $131 million t...   \n",
       "28    value of the long-term debt instruments is ob...   \n",
       "29   ive restricted stock at the end of a three yea...   \n",
       "..                                                 ...   \n",
       "405  n 2017\\nwas $503.4 million, an increase of\\n$8...   \n",
       "406  2017. interest on\\nborrowings under the credit...   \n",
       "407  entures\\n\\n\\n$\\n\\n\\n47,432\\n\\n\\n\\n\\n\\n \\n\\n\\n$...   \n",
       "408  ies have\\nassets and liabilities translated in...   \n",
       "409  et cash flows from financing activities\\n\\n\\n ...   \n",
       "410  , including intentions and plans, on the cumul...   \n",
       "411  ontributions of $54 million to its defined ben...   \n",
       "412  ing weighted average assumptions:\\n\\n\\n\\n\\n\\n\\...   \n",
       "413  nds and the purchase or redemption of its capi...   \n",
       "414   i\\npreferred stock shall be redeemed from tim...   \n",
       "415   return land use rights for land now occupied\\...   \n",
       "416  rresponding liability due to the insurers. cla...   \n",
       "417  017\\n\\n\\n\\n\\n\\n2016\\n\\n\\n\\n\\n\\n2015\\n\\n\\n\\n\\n\\...   \n",
       "418  of long-term debt\\n\\n\\n \\n\\n\\n-\\n\\n\\n\\n\\n\\n \\n...   \n",
       "419  plemental plans are generally similar to inves...   \n",
       "420   officer for breach of fiduciary duties for in...   \n",
       "421  d office\\nequipment;\\n\\n\\n\\n\\n\\n\\n\\n\\n\\n\\n•\\n\\...   \n",
       "422  luded in other non-current assets and $4 milli...   \n",
       "423  ne 1, 2018 and until such date mr. wynn shall ...   \n",
       "424  84\\n\\n\\n\\n\\n\\n \\n\\n\\n507.8\\n\\n\\n\\n\\n\\n \\n\\n\\n$...   \n",
       "425   assessment of the probability or estimated am...   \n",
       "426  gh\\n\\n\\n \\n\\n\\nlow\\n\\n\\n \\n\\n\\nhigh\\n\\n\\n \\n\\n...   \n",
       "427  egal settlement costs (see note 17)\\n\\n\\n-\\n\\n...   \n",
       "428   performance-based exception under section 162...   \n",
       "429   reference to the price paid for our common\\ns...   \n",
       "430  g the vesting\\nperiod and are paid upon vestin...   \n",
       "431  brands following the separation on october 31,...   \n",
       "432   any federal changes generally remains subject...   \n",
       "433  oc application is\\napproved\\nas discussed abov...   \n",
       "434  \\n\\n   first quarter\\n\\n\\n$48.35\\n\\n\\n$38.26\\n...   \n",
       "\n",
       "                                 pred_paragraph_text_7  \n",
       "0    rtized related to the interest rate swap agree...  \n",
       "1    n recognition of the 2017 tax act.\\n\\n\\n\\n\\n\\n...  \n",
       "2    \\n\\nwarranty reserves, beginning of period\\n\\n...  \n",
       "3    ember 2016 asr\\n\\n\\nfebruary 2017\\n\\n\\n \\n\\n\\n...  \n",
       "4    hat generally vest in one-third increments ove...  \n",
       "5    illion of 4.875% senior notes due november 15,...  \n",
       "6    , 2022; and $1.0 billion of\\n2.95% senior note...  \n",
       "7     our irish parent,\\nprincipally dividend distr...  \n",
       "8    \\n\\n\\n \\n\\n\\n24\\n\\n\\n\\n\\n\\n \\n\\n\\n(3,378\\n\\n\\n...  \n",
       "9    tions lapsed\\n\\n\\n(1,580\\n\\n\\n)\\n\\n\\n \\n\\n\\n\\n...  \n",
       "10   ility of\\n$270 million as of december 31, 2017...  \n",
       "11   cal 2017 and 2016, our average daily borrowing...  \n",
       "12   r common stock on february 6, 2017. the final ...  \n",
       "13   rter\\n\\n\\n73.40\\n\\n\\n\\n\\n\\n \\n\\n\\n56.80\\n\\n\\n\\...  \n",
       "14   \\n\\n\\n\\n\\n \\n\\n\\n-\\n\\n\\n\\n\\n\\n \\n\\n\\n-\\n\\n\\n\\n...  \n",
       "15   lose of business\\non april 12, 2018. under the...  \n",
       "16   issuances discussed above.\\n\\nsee the precedin...  \n",
       "17   orth below:\\n\\n\\n\\n\\n\\nirs audits\\n\\n\\n\\n\\n\\nt...  \n",
       "18   ice range, each time within the following para...  \n",
       "19   form 10-k\\n 137\\n\\n\\n\\n\\n\\n\\n\\n\\ntable of cont...  \n",
       "20   ach such broker or clearing agency\\nas one rec...  \n",
       "21    types of securities through one or more metho...  \n",
       "22   2016, we filed a shelf registration\\nstatement...  \n",
       "23   ntered material costs as a result of such inde...  \n",
       "24   \\n\\n\\n\\n\\n\\n \\n\\n\\n$\\n\\n\\n478,638\\n\\n\\n\\n\\n\\n ...  \n",
       "25   ufacturing capacity and infrastructure includi...  \n",
       "26   s not likely to materially\\naffect the company...  \n",
       "27   , 2017. in 2017, we contributed $131 million t...  \n",
       "28   ies act. under the irish companies act, divide...  \n",
       "29   ember 30, 2017)\\n\\n\\n$\\n\\n\\n149.34\\n\\n\\n\\n\\n\\n...  \n",
       "..                                                 ...  \n",
       "405  2017 debt issuances (as described in the secti...  \n",
       "406  l statements - (continued)\\n\\n\\ndebt maturitie...  \n",
       "407  ebentures\\n\\n\\n12,012\\n\\n\\n\\n\\n\\n \\n\\n\\n11,094...  \n",
       "408  iscal years ended december 31)\\n\\nwe became pa...  \n",
       "409  et cash flows from financing activities\\n\\n\\n ...  \n",
       "410  volving credit facility, with both the term lo...  \n",
       "411  xt 12 months. our cash requirements are subjec...  \n",
       "412  ing weighted average assumptions:\\n\\n\\n\\n\\n\\n\\...  \n",
       "413   project at weston unit 3 going into service d...  \n",
       "414  ence. at february 20, 2018, there were 173,086...  \n",
       "415  69\\n\\n\\n\\n\\n\\n\\n\\nless: other comprehensive lo...  \n",
       "416  orporate purposes. notwithstanding the legal r...  \n",
       "417  erest expense, net\\n\\n\\n\\n\\nforeign currency d...  \n",
       "418  \\n\\n\\n74.73\\n\\n\\n\\n\\n\\n \\n\\n\\n8,570\\n\\n\\n\\n\\n\\...  \n",
       "419  plemental plans are generally similar to inves...  \n",
       "420  ommittee shall constitute a quorum. the acts o...  \n",
       "421  that included a formaldehyde-based resin. this...  \n",
       "422  projects or purchase from us, for cash, existi...  \n",
       "423  18 and until such date mr. wynn shall continue...  \n",
       "424  84\\n\\n\\n\\n\\n\\n \\n\\n\\n507.8\\n\\n\\n\\n\\n\\n \\n\\n\\n$...  \n",
       "425  e exposures\\nin february 2017, the company neg...  \n",
       "426  pon the company's credit rating. in connection...  \n",
       "427  egal settlement costs (see note 17)\\n\\n\\n-\\n\\n...  \n",
       "428  n, $815.1 million and\\n$112.7 million, respect...  \n",
       "429   reference to the price paid for our common\\ns...  \n",
       "430  ice volatility, correlation coefficients betwe...  \n",
       "431   assess the creditworthiness of counterparties...  \n",
       "432   any federal changes generally remains subject...  \n",
       "433  he frequency and amount of common stock\\ndivid...  \n",
       "434  \\n\\n   first quarter\\n\\n\\n$48.35\\n\\n\\n$38.26\\n...  \n",
       "\n",
       "[435 rows x 4 columns]"
      ]
     },
     "execution_count": 56,
     "metadata": {},
     "output_type": "execute_result"
    }
   ],
   "source": [
    "predicted_paragraph_df"
   ]
  },
  {
   "cell_type": "markdown",
   "metadata": {},
   "source": [
    "## do it again for only the top 3 key tokens"
   ]
  },
  {
   "cell_type": "code",
   "execution_count": 57,
   "metadata": {},
   "outputs": [],
   "source": [
    "#predict"
   ]
  },
  {
   "cell_type": "code",
   "execution_count": 58,
   "metadata": {},
   "outputs": [
    {
     "name": "stderr",
     "output_type": "stream",
     "text": [
      "/Users/paulomartinez/anaconda3/lib/python3.6/site-packages/ipykernel_launcher.py:1: SettingWithCopyWarning: \n",
      "A value is trying to be set on a copy of a slice from a DataFrame.\n",
      "Try using .loc[row_indexer,col_indexer] = value instead\n",
      "\n",
      "See the caveats in the documentation: http://pandas.pydata.org/pandas-docs/stable/indexing.html#indexing-view-versus-copy\n",
      "  \"\"\"Entry point for launching an IPython kernel.\n"
     ]
    }
   ],
   "source": [
    "predicted_paragraph_df['pred_paragraph_text_3'] = ['nope' for row in predicted_paragraph_df.index]# initialize the pred_paragraph_text column\n",
    "\n"
   ]
  },
  {
   "cell_type": "code",
   "execution_count": 59,
   "metadata": {},
   "outputs": [],
   "source": [
    "### limit ourselves to the 7 most common tokens\n",
    "    # although this can be modulated if necessary\n",
    "key_tokens = pd.DataFrame(Counter(no_stops).most_common(7))\n",
    "key_tokens.columns = ['key_tok', 'kt_count']"
   ]
  },
  {
   "cell_type": "code",
   "execution_count": 60,
   "metadata": {},
   "outputs": [
    {
     "name": "stderr",
     "output_type": "stream",
     "text": [
      "/Users/paulomartinez/anaconda3/lib/python3.6/site-packages/bs4/__init__.py:181: UserWarning: No parser was explicitly specified, so I'm using the best available HTML parser for this system (\"lxml\"). This usually isn't a problem, but if you run this code on another system, or in a different virtual environment, it may use a different parser and behave differently.\n",
      "\n",
      "The code that caused this warning is on line 193 of the file /Users/paulomartinez/anaconda3/lib/python3.6/runpy.py. To get rid of this warning, change code that looks like this:\n",
      "\n",
      " BeautifulSoup(YOUR_MARKUP})\n",
      "\n",
      "to this:\n",
      "\n",
      " BeautifulSoup(YOUR_MARKUP, \"lxml\")\n",
      "\n",
      "  markup_type=markup_type))\n",
      "/Users/paulomartinez/anaconda3/lib/python3.6/site-packages/pandas/core/generic.py:7620: SettingWithCopyWarning: \n",
      "A value is trying to be set on a copy of a slice from a DataFrame\n",
      "\n",
      "See the caveats in the documentation: http://pandas.pydata.org/pandas-docs/stable/indexing.html#indexing-view-versus-copy\n",
      "  self._update_inplace(new_data)\n",
      "/Users/paulomartinez/anaconda3/lib/python3.6/site-packages/IPython/core/interactiveshell.py:2963: SettingWithCopyWarning: \n",
      "A value is trying to be set on a copy of a slice from a DataFrame\n",
      "\n",
      "See the caveats in the documentation: http://pandas.pydata.org/pandas-docs/stable/indexing.html#indexing-view-versus-copy\n",
      "  exec(code_obj, self.user_global_ns, self.user_ns)\n"
     ]
    },
    {
     "name": "stdout",
     "output_type": "stream",
     "text": [
      "accession number 0000815556-18-000010 did not have a relevant dkfn row in the data frame\n",
      "accession number 0000109380-18-000102 did not have a relevant dkfn row in the data frame\n",
      "accession number 0001058090-18-000018 did not have a relevant dkfn row in the data frame\n",
      "accession number 0001043277-18-000007 did not have a relevant dkfn row in the data frame\n",
      "accession number 0001144204-18-020717 did not have a relevant dkfn row in the data frame\n",
      "accession number 0001113169-18-000009 did not have a relevant dkfn row in the data frame\n",
      "accession number 0000045012-18-000059 did not have a relevant dkfn row in the data frame\n",
      "accession number 0000096223-18-000009 did not have a relevant dkfn row in the data frame\n",
      "accession number 0000029905-18-000013 did not have a relevant dkfn row in the data frame\n",
      "accession number 0001095073-18-000008 did not have a relevant dkfn row in the data frame\n",
      "accession number 0000091419-17-000005 did not have a relevant dkfn row in the data frame\n",
      "accession number 0001193125-18-054181 did not have a relevant dkfn row in the data frame\n",
      "accession number 0001047469-18-000900 did not have a relevant dkfn row in the data frame\n",
      "accession number 0000874766-18-000011 did not have a relevant dkfn row in the data frame\n",
      "accession number 0000033185-18-000011 did not have a relevant dkfn row in the data frame\n",
      "accession number 0000277135-18-000007 did not have a relevant dkfn row in the data frame\n",
      "accession number 0001051470-18-000082 did not have a relevant dkfn row in the data frame\n",
      "accession number 0000319201-17-000034 did not have a relevant dkfn row in the data frame\n",
      "accession number 0000107815-18-000134 did not have a relevant dkfn row in the data frame\n",
      "failed to define a single candidate paragraph for filing data/nc_training_filings/0000034088-18-000015.html\n",
      "defaulted to using the nominated paragraph from the last filing\n",
      "accession number 0000034088-18-000015 did not have a relevant dkfn row in the data frame\n",
      "accession number 0001396009-18-000011 did not have a relevant dkfn row in the data frame\n",
      "accession number 0001193125-18-038261 did not have a relevant dkfn row in the data frame\n",
      "accession number 0001193125-18-048314 did not have a relevant dkfn row in the data frame\n",
      "accession number 0001193125-18-055887 did not have a relevant dkfn row in the data frame\n",
      "accession number 0001467373-17-000430 did not have a relevant dkfn row in the data frame\n",
      "accession number 0000320335-18-000006 did not have a relevant dkfn row in the data frame\n",
      "accession number 0001047469-18-001158 did not have a relevant dkfn row in the data frame\n",
      "accession number 0000007084-18-000012 did not have a relevant dkfn row in the data frame\n",
      "accession number 0001628280-18-005268 did not have a relevant dkfn row in the data frame\n",
      "accession number 0001628280-18-001552 did not have a relevant dkfn row in the data frame\n",
      "accession number 0000072903-18-000009 did not have a relevant dkfn row in the data frame\n",
      "accession number 0001193125-18-046681 did not have a relevant dkfn row in the data frame\n",
      "accession number 0000829224-17-000049 did not have a relevant dkfn row in the data frame\n",
      "\n",
      "entire cycle took  0:14:39.175293\n"
     ]
    }
   ],
   "source": [
    "# initialize some score keeping lists\n",
    "total_inclusion = []\n",
    "inclusion_rates = [] # analogous to true positive rate\n",
    "extra_baggage_rate = [] # analogous to false positive rate, (sorta, cause the actual paragraph data is not to be treated as an absolute standard).\n",
    "actual_paratokens_lengths = []\n",
    "nominated_paratokens_lengths = []\n",
    "filings_not_in_df = [] # track which, if any, filings were not found in the df\n",
    "no_tokhits_filings = [] # track which filings I failed to find hits for, if any\n",
    "\n",
    "t0 = datetime.datetime.now()\n",
    "\n",
    "for filing in training_filings_list:\n",
    "#for filing in vert_training_subset_filings_list:\n",
    "    ti = datetime.datetime.now()\n",
    "    #print('processing next filing at ', ti)\n",
    "    \n",
    "    \n",
    "### this could be all be packed into a function if nec.\n",
    "###\n",
    "    # read in the filing's html\n",
    "    with open(filing) as file:\n",
    "        file_html = file.read()\n",
    "    \n",
    "    # parse the html\n",
    "    parsed_html = BeautifulSoup(file_html)\n",
    "    # filter out the html head, css, and cast to lower case\n",
    "    string_filing = parsed_html.body.text.lower()\n",
    "    \n",
    "    ##################------- Predict Paragraphs ------##############################################\n",
    "    #define candidate paragraphs by clustering of overlapping token-hit-margins\n",
    "    #\n",
    "    #------ generate a list of token mathces / \"hits\"------------------------------\n",
    "    #\n",
    "    # collect the start and end indices of each token \"hit.\" into an ugly list of lists of tuples\n",
    "    lst_of_token_hits_lst = []\n",
    "    for i in range(len(key_tokens.key_tok[0:10])):\n",
    "        kt = key_tokens.key_tok[i]\n",
    "        lst_of_token_hits_lst.append([(str(kt), m.start(), m.end()) for m in re.finditer(kt, string_filing)])\n",
    "    #\n",
    "    # flatten the ugly list of lists of tuples into a list of tuples\n",
    "    flater_list_of_tokhits = [tpl for sublist in lst_of_token_hits_lst for tpl in sublist]\n",
    "    #\n",
    "    # order the list of token_hit tuples by starting index\n",
    "    flater_list_of_tokhits.sort(key = lambda x: x[1])\n",
    "    #\n",
    "    #-------- use the token hits to define the bounds of the candidate paragraphs -------\n",
    "    #\n",
    "    # initialize a list of candidate paragraphs and a hit tracker\n",
    "    candidate_paragraphs = []\n",
    "    hit = 0\n",
    "    #\n",
    "    # work through the hits until I exhaust the list\n",
    "    while hit < len(flater_list_of_tokhits) - 1:\n",
    "    #    \n",
    "    #    # initialize the left and right bound of a paragraph\n",
    "        leftbound = flater_list_of_tokhits[hit][1] - margin\n",
    "        rightbound = flater_list_of_tokhits[hit][2] + margin\n",
    "    #     \n",
    "    #    # loop from the hit + 1 (cause we used the former hit to initialize the bounds)\n",
    "        for i in range(hit + 1, len(flater_list_of_tokhits)):\n",
    "    #        # if the next token's start is within the current paragraph's bounds and it isnt the last hit\n",
    "            if (leftbound < flater_list_of_tokhits[i][1] < rightbound) and (i != len(flater_list_of_tokhits) - 1):\n",
    "    #            # expand the right bound with respect to next token's end\n",
    "                rightbound = flater_list_of_tokhits[i][2] + margin\n",
    "    #             \n",
    "    #        # if next token is outside the bounds of current paragraph or we are at the penultimate hit\n",
    "            else:\n",
    "    #            # if right bound is out of htmls range, then adjust it to the end of the html\n",
    "                if rightbound > len(string_filing):\n",
    "                    rightbound = len(string_filing)\n",
    "    #            # define current paragraph\n",
    "                par = string_filing[leftbound:rightbound] ########### (if the code needs to be made more efficient I could store the paragraph start and end indices instead of storing the strings)\n",
    "    #            # store the paragraph in a list of candidates\n",
    "                candidate_paragraphs.append(par)\n",
    "    #            # note which hit we need to start on for the next iteration of the while loop\n",
    "                hit = i\n",
    "    #            # now that we've found the outer bounds of the current paragraph we can interrupt the for loop\n",
    "                break #this only interrupts the nearest parent loop \n",
    "    # this is just a repetition of the above routine to handle the last hit. There is probably a better way to handle this but we can enhance that later\n",
    "    if hit == len(flater_list_of_tokhits)-1:\n",
    "        leftbound = flater_list_of_tokhits[hit][1] - margin\n",
    "        rightbound = flater_list_of_tokhits[hit][2] + margin\n",
    "        if rightbound > len(string_filing):\n",
    "            rightbound = len(string_filing)\n",
    "        par = string_filing[leftbound:rightbound]\n",
    "        candidate_paragraphs.append(par)\n",
    "    #--------------------------------------------------------------------------------------#\n",
    "    \n",
    "    #################--------- Validate Predictions ----------------------##################\n",
    "    # Future Enhancements:\n",
    "    # - I could make the loop \"reactive\" so that if the validation score of the first\n",
    "    #      nominated paragraph is low it con test the validation score of the second \n",
    "    #      nominee\n",
    "    #\n",
    "    # --------------- temporarily store the candidate paragraphs in a df ------------------\n",
    "    candidate_df = pd.DataFrame(candidate_paragraphs)\n",
    "    candidate_df.columns = ['cand_par']\n",
    "    candidate_df['len'] = [len(par) for par in candidate_df.cand_par]\n",
    "    # --------------- rank the candidate paragraphs by basic length (longer paragraphs correspond to denser clusters)\n",
    "    candidate_df.sort_values(by = 'len', ascending = False, inplace = True)\n",
    "    candidate_df.reset_index(inplace = True, drop = True)\n",
    "    # --------------- filter candidates down to those with 'repurchase' in them\n",
    "    candidate_df = candidate_df[['repurchase' in par for par in candidate_df.cand_par]]\n",
    "    candidate_df.reset_index(inplace = True, drop = True)\n",
    "    # --------------- nominee(s) will be the top 1 - 3 in the filterd df\n",
    "    if len(candidate_df.cand_par) != 0:\n",
    "        nominated = candidate_df.cand_par[0]\n",
    "    elif len(candidate_df.cand_par) == 0:\n",
    "        # if I failed define a single candidate paragraph\n",
    "        print('failed to define a single candidate paragraph for filing', filing)\n",
    "        print('defaulted to using the nominated paragraph from the last filing')\n",
    "        no_tokhits_filings.append(filing)\n",
    "    # clean up the nominee for validation\n",
    "    nom_validatable = re.sub(r'\\n+', ' ', nominated) # remove new lines\n",
    "    nom_validatable = re.sub(r'\\s+', ' ', nom_validatable) # trim all repeated whitespace down to one\n",
    "    # filter out stop words and non-alphanumeric content\n",
    "    # apply the same filtering process to nom_validatable\n",
    "    nominated_tokens = [wt for wt in word_tokenize(nom_validatable) if (wt.isalnum() and wt not in stopwords.words('english'))] # yes there is redundancy but that can be optimized later\n",
    "    #\n",
    "    \n",
    "    # --------------- isolate csv's actual paragraph for valiation\n",
    "    # extract the accesion number back out of the filing path\n",
    "    an = re.sub('data/nc_training_filings/', '', filing)\n",
    "    an = re.sub('.html', '', an)\n",
    "    # use it to filter down to the csv rows with that an\n",
    "    #\n",
    "    # ⚠️ notice that for expediencey I am only using the first row with a given accession number. (there could be up to 7 rows with the same accession number in the actual csv). The reason for this misalignment is because the primary purpose of this pipeline is to identify paragraphs with target information, it's purpose is not to define up to 7 paragraphs for each filing number.\n",
    "    # 🤔 to enhance this pipeline to work with the original csv I could pick my actual_paragraph to be one with a specific dkfn\n",
    "    #relev_bool_index = [ac_n == an and dkfn in relevant_dkfns for ac_n, dkfn in zip(vert_training_subset_df.accession_number, vert_training_subset_df.data_key_friendly_name)]\n",
    "    if an not in share_rprchs_prgrph_df.accession_number.values:\n",
    "        print(an, 'was not found in the filings data frame')\n",
    "        filings_not_in_df.append(an)\n",
    "        continue\n",
    "    \n",
    "    actual_paragraph = share_rprchs_prgrph_df[[ac_n == an and dkfn in relevant_dkfns for ac_n, dkfn in zip(share_rprchs_prgrph_df.accession_number, share_rprchs_prgrph_df.data_key_friendly_name)]].head(1).paragraph_text\n",
    "    # some rows don't have my relevant dkfns and the above assignment creates an empty series\n",
    "    # so to handle that just pick the first row at random, for now\n",
    "    if len(actual_paragraph) == 0:\n",
    "        print('accession number', an, 'did not have a relevant dkfn row in the data frame')\n",
    "        actual_paragraph = share_rprchs_prgrph_df[share_rprchs_prgrph_df.accession_number == an].head(1).paragraph_text\n",
    "    # extract the string from the resulting pandas series\n",
    "    actual_paragraph = actual_paragraph.values[0]\n",
    "    # cast the string to lower case\n",
    "    actual_paragraph = actual_paragraph.lower()\n",
    "    # eliminate excess spaces\n",
    "    actual_paragraph = re.sub(r'\\s+', ' ', actual_paragraph)\n",
    "    # filter out stop words, punctuation, and other non-alphanumeric stuff\n",
    "    actual_tokens = [wt for wt in word_tokenize(actual_paragraph) if (wt.isalnum() and wt not in stopwords.words('english'))] #yes there is probably some redundancy here but that can be refined later\n",
    "    \n",
    "    # moment of truth\n",
    "    #---------------------------------------------------------    \n",
    "    # calculate the inclusion rates\n",
    "    counter = 0\n",
    "    for wt in actual_tokens:\n",
    "        if wt in nominated_tokens:\n",
    "            counter += 1\n",
    "    x = round(100*counter/len(actual_tokens),2)\n",
    "    \n",
    "    # calculate the extra_baggage_rates\n",
    "    bag_counter = 0\n",
    "    for wt in nominated_tokens:\n",
    "        if wt in actual_tokens:\n",
    "            bag_counter += 1\n",
    "    z = round(100*bag_counter/len(nominated_tokens), 2)\n",
    "    \n",
    "    \n",
    "    # keeping score\n",
    "    # ---------------------------------------------------------\n",
    "    total_inclusion.append(actual_paragraph in nom_validatable)\n",
    "    inclusion_rates.append(x)\n",
    "    extra_baggage_rate.append(z)\n",
    "    actual_paratokens_lengths.append(len(actual_tokens))\n",
    "    nominated_paratokens_lengths.append(len(nominated_tokens))\n",
    "    #-------------------------------------------------------------------------------#\n",
    "    \n",
    "    ################--------- Write Predicted Paragraphs to Data-Frame ------------##############\n",
    "    predicted_paragraph_df.pred_paragraph_text_3[predicted_paragraph_df.accession_number == an] = nominated\n",
    "    #------------------------------------------------------------------------------------------#\n",
    "    \n",
    "    #tf = datetime.datetime.now()\n",
    "    #print('processed filing', len(total_inclusion), 'at ', tf, '. Process took', tf - ti)\n",
    "    #print(\"--------------------------\")\n",
    "    \n",
    "tf = datetime.datetime.now()\n",
    "print(\"\")\n",
    "print('entire cycle took ', tf - t0)"
   ]
  },
  {
   "cell_type": "code",
   "execution_count": null,
   "metadata": {},
   "outputs": [],
   "source": []
  },
  {
   "cell_type": "code",
   "execution_count": 61,
   "metadata": {},
   "outputs": [
    {
     "name": "stdout",
     "output_type": "stream",
     "text": [
      "1\n"
     ]
    }
   ],
   "source": [
    "# were there any filings I failed to find a single hit for?\n",
    "print(len(no_tokhits_filings))"
   ]
  },
  {
   "cell_type": "code",
   "execution_count": 62,
   "metadata": {},
   "outputs": [
    {
     "name": "stdout",
     "output_type": "stream",
     "text": [
      "0\n"
     ]
    }
   ],
   "source": [
    "# were there any filings not found in the dataframe?\n",
    "print(len(filings_not_in_df))"
   ]
  },
  {
   "cell_type": "code",
   "execution_count": 63,
   "metadata": {},
   "outputs": [],
   "source": [
    "#### examine total_inclusion results (though this is a rather naive metric)"
   ]
  },
  {
   "cell_type": "code",
   "execution_count": 64,
   "metadata": {},
   "outputs": [
    {
     "name": "stdout",
     "output_type": "stream",
     "text": [
      "435 total filings processed\n",
      "183 number of paragraphs 100% included\n",
      "42.07 % total inclusion\n",
      "\n"
     ]
    }
   ],
   "source": [
    "#len(total)\n",
    "print(len(total_inclusion), 'total filings processed')\n",
    "print(np.array(total_inclusion).sum(), 'number of paragraphs 100% included')\n",
    "print(round(100*np.array(total_inclusion).sum()/len(total_inclusion), 2), '% total inclusion')\n",
    "print(\"\")"
   ]
  },
  {
   "cell_type": "markdown",
   "metadata": {},
   "source": [
    "reducing the hits to the top 3 made no difference from the top 7"
   ]
  },
  {
   "cell_type": "code",
   "execution_count": 65,
   "metadata": {},
   "outputs": [],
   "source": [
    "# examine the inclusion rates (analogous to true positive rate)"
   ]
  },
  {
   "cell_type": "code",
   "execution_count": 66,
   "metadata": {},
   "outputs": [
    {
     "data": {
      "image/png": "[encoded data removed]",
      "text/plain": [
       "<Figure size 432x288 with 1 Axes>"
      ]
     },
     "metadata": {},
     "output_type": "display_data"
    }
   ],
   "source": [
    "plt.hist(inclusion_rates , bins=20)\n",
    "plt.title('Histogram of inclusion rates')\n",
    "plt.grid()\n",
    "plt.show()"
   ]
  },
  {
   "cell_type": "code",
   "execution_count": 67,
   "metadata": {},
   "outputs": [
    {
     "data": {
      "text/plain": [
       "79.62639080459769"
      ]
     },
     "execution_count": 67,
     "metadata": {},
     "output_type": "execute_result"
    }
   ],
   "source": [
    "# mean inclusion rate\n",
    "np.mean(np.array(inclusion_rates))"
   ]
  },
  {
   "cell_type": "code",
   "execution_count": 68,
   "metadata": {},
   "outputs": [
    {
     "data": {
      "text/plain": [
       "98.08"
      ]
     },
     "execution_count": 68,
     "metadata": {},
     "output_type": "execute_result"
    }
   ],
   "source": [
    "# median inclusion rate\n",
    "np.median(np.array(inclusion_rates)) \n",
    "# 50 % of the actual paragraphs have an inclusion rate of at least"
   ]
  },
  {
   "cell_type": "code",
   "execution_count": 69,
   "metadata": {},
   "outputs": [
    {
     "data": {
      "text/plain": [
       "66.82399999999998"
      ]
     },
     "execution_count": 69,
     "metadata": {},
     "output_type": "execute_result"
    }
   ],
   "source": [
    "# 70% of the actual paragraphs have an inclusion rate of at least\n",
    "np.percentile(inclusion_rates, 30)"
   ]
  },
  {
   "cell_type": "code",
   "execution_count": 70,
   "metadata": {},
   "outputs": [
    {
     "data": {
      "text/plain": [
       "55.735"
      ]
     },
     "execution_count": 70,
     "metadata": {},
     "output_type": "execute_result"
    }
   ],
   "source": [
    "# 75 % of the actual paragraphs have an inclusion rate of at least\n",
    "np.percentile(inclusion_rates, 25)"
   ]
  },
  {
   "cell_type": "code",
   "execution_count": 71,
   "metadata": {},
   "outputs": [
    {
     "data": {
      "text/plain": [
       "34.540000000000006"
      ]
     },
     "execution_count": 71,
     "metadata": {},
     "output_type": "execute_result"
    }
   ],
   "source": [
    "# 90% of the actual paragraphs have an inclusion rate of at least\n",
    "np.percentile(inclusion_rates, 10)"
   ]
  },
  {
   "cell_type": "markdown",
   "metadata": {},
   "source": [
    "No difference from top 7"
   ]
  },
  {
   "cell_type": "code",
   "execution_count": 72,
   "metadata": {},
   "outputs": [
    {
     "name": "stdout",
     "output_type": "stream",
     "text": [
      "----------------\n",
      "mean bagage rate:  32.06170114942529\n",
      "median bagage rate:  30.9\n",
      "\n"
     ]
    }
   ],
   "source": [
    "# examine the extra_bagage_rate (like false positive rate, sorta)\n",
    "print(\"----------------\")\n",
    "print('mean bagage rate: ', np.mean(np.array(extra_baggage_rate)))\n",
    "print('median bagage rate: ', np.median(np.array(extra_baggage_rate)))\n",
    "print(\"\")"
   ]
  },
  {
   "cell_type": "code",
   "execution_count": 73,
   "metadata": {},
   "outputs": [
    {
     "data": {
      "text/plain": [
       "40.38999999999999"
      ]
     },
     "execution_count": 73,
     "metadata": {},
     "output_type": "execute_result"
    }
   ],
   "source": [
    "np.percentile(extra_baggage_rate, 70)\n",
    "# only 30% of my nominees have a bagage rate of at least?"
   ]
  },
  {
   "cell_type": "code",
   "execution_count": 74,
   "metadata": {},
   "outputs": [
    {
     "data": {
      "image/png": "[encoded data removed]",
      "text/plain": [
       "<Figure size 432x288 with 1 Axes>"
      ]
     },
     "metadata": {},
     "output_type": "display_data"
    }
   ],
   "source": [
    "plt.hist(extra_baggage_rate)\n",
    "plt.title('Histogram of extra bagage rate')\n",
    "plt.grid()\n",
    "plt.show()"
   ]
  },
  {
   "cell_type": "code",
   "execution_count": 75,
   "metadata": {},
   "outputs": [],
   "source": [
    "# compare the lengths of the actual paratokens to the nominated paratokens"
   ]
  },
  {
   "cell_type": "code",
   "execution_count": 76,
   "metadata": {},
   "outputs": [
    {
     "data": {
      "image/png": "[encoded data removed]",
      "text/plain": [
       "<Figure size 432x288 with 1 Axes>"
      ]
     },
     "metadata": {},
     "output_type": "display_data"
    }
   ],
   "source": [
    "plt.hist(actual_paratokens_lengths)\n",
    "plt.title('Hist. of actual para_token lengths')\n",
    "plt.grid()\n",
    "plt.show()"
   ]
  },
  {
   "cell_type": "code",
   "execution_count": 77,
   "metadata": {},
   "outputs": [
    {
     "name": "stdout",
     "output_type": "stream",
     "text": [
      "mean  51.11724137931034\n",
      "median 46.0\n",
      "range 185\n"
     ]
    }
   ],
   "source": [
    "print('mean ', np.mean(np.array(actual_paratokens_lengths)))\n",
    "print('median', np.median(np.array(actual_paratokens_lengths)))\n",
    "print('range', np.max(np.array(actual_paratokens_lengths)) - np.min(np.array(actual_paratokens_lengths)))"
   ]
  },
  {
   "cell_type": "code",
   "execution_count": 78,
   "metadata": {},
   "outputs": [
    {
     "data": {
      "image/png": "[encoded data removed]",
      "text/plain": [
       "<Figure size 432x288 with 1 Axes>"
      ]
     },
     "metadata": {},
     "output_type": "display_data"
    }
   ],
   "source": [
    "# now lets look at the nominated paratokens lengths\n",
    "plt.hist(nominated_paratokens_lengths)\n",
    "plt.title('Hist. of nominated_paratokens_lengths')\n",
    "plt.grid()\n",
    "plt.show()"
   ]
  },
  {
   "cell_type": "code",
   "execution_count": 79,
   "metadata": {},
   "outputs": [
    {
     "name": "stdout",
     "output_type": "stream",
     "text": [
      "mean  298.7080459770115\n",
      "median 266.0\n",
      "range 1227\n"
     ]
    }
   ],
   "source": [
    "print('mean ', np.mean(np.array(nominated_paratokens_lengths)))\n",
    "print('median', np.median(np.array(nominated_paratokens_lengths)))\n",
    "print('range', np.max(np.array(nominated_paratokens_lengths)) - np.min(np.array(nominated_paratokens_lengths)))"
   ]
  },
  {
   "cell_type": "code",
   "execution_count": 80,
   "metadata": {},
   "outputs": [
    {
     "data": {
      "image/png": "[encoded data removed]",
      "text/plain": [
       "<Figure size 1080x504 with 1 Axes>"
      ]
     },
     "metadata": {},
     "output_type": "display_data"
    }
   ],
   "source": [
    "plt.figure(figsize = (15,7))\n",
    "plt.bar(height = actual_paratokens_lengths, alpha = 0.9,\n",
    "        x = range(len(actual_paratokens_lengths)))\n",
    "plt.bar(height = nominated_paratokens_lengths, alpha = 0.3,\n",
    "       x = range(len(nominated_paratokens_lengths)))\n",
    "plt.title('bar comparison of paratokens lengths')\n",
    "plt.legend(['actual paratokens lenght', 'nominated paratokens lengths'])\n",
    "plt.xlabel('index')\n",
    "plt.ylabel('length of a paragraphs key tokens (no punctuation, no stopwords)')\n",
    "plt.grid(axis = 'y')\n",
    "plt.show()"
   ]
  },
  {
   "cell_type": "markdown",
   "metadata": {},
   "source": [
    "# take a peak at the predicted dataframe"
   ]
  },
  {
   "cell_type": "code",
   "execution_count": 83,
   "metadata": {},
   "outputs": [
    {
     "data": {
      "text/html": [
       "<div>\n",
       "<style scoped>\n",
       "    .dataframe tbody tr th:only-of-type {\n",
       "        vertical-align: middle;\n",
       "    }\n",
       "\n",
       "    .dataframe tbody tr th {\n",
       "        vertical-align: top;\n",
       "    }\n",
       "\n",
       "    .dataframe thead th {\n",
       "        text-align: right;\n",
       "    }\n",
       "</style>\n",
       "<table border=\"1\" class=\"dataframe\">\n",
       "  <thead>\n",
       "    <tr style=\"text-align: right;\">\n",
       "      <th></th>\n",
       "      <th>ticker</th>\n",
       "      <th>accession_number</th>\n",
       "      <th>pred_paragraph_text</th>\n",
       "      <th>pred_paragraph_text_7</th>\n",
       "      <th>pred_paragraph_text_3</th>\n",
       "    </tr>\n",
       "  </thead>\n",
       "  <tbody>\n",
       "    <tr>\n",
       "      <th>0</th>\n",
       "      <td>A</td>\n",
       "      <td>0001090872-17-000018</td>\n",
       "      <td>e chemical and energy markets.\\n\\nnet income f...</td>\n",
       "      <td>rtized related to the interest rate swap agree...</td>\n",
       "      <td>rtized related to the interest rate swap agree...</td>\n",
       "    </tr>\n",
       "    <tr>\n",
       "      <th>1</th>\n",
       "      <td>AAL</td>\n",
       "      <td>0000006201-18-000009</td>\n",
       "      <td>n recognition of the 2017 tax act.\\n\\n\\n\\n\\n\\n...</td>\n",
       "      <td>n recognition of the 2017 tax act.\\n\\n\\n\\n\\n\\n...</td>\n",
       "      <td>n recognition of the 2017 tax act.\\n\\n\\n\\n\\n\\n...</td>\n",
       "    </tr>\n",
       "    <tr>\n",
       "      <th>2</th>\n",
       "      <td>AAP</td>\n",
       "      <td>0001158449-18-000039</td>\n",
       "      <td>151.72\\n\\n\\n\\n\\n\\n$\\n\\n\\n99.13\\n\\n\\n\\n\\n\\n \\n\\...</td>\n",
       "      <td>\\n\\nwarranty reserves, beginning of period\\n\\n...</td>\n",
       "      <td>\\n\\nwarranty reserves, beginning of period\\n\\n...</td>\n",
       "    </tr>\n",
       "    <tr>\n",
       "      <th>3</th>\n",
       "      <td>AAPL</td>\n",
       "      <td>0000320193-17-000070</td>\n",
       "      <td>s business operations are subject\\nto interrup...</td>\n",
       "      <td>ember 2016 asr\\n\\n\\nfebruary 2017\\n\\n\\n \\n\\n\\n...</td>\n",
       "      <td>ember 2016 asr\\n\\n\\nfebruary 2017\\n\\n\\n \\n\\n\\n...</td>\n",
       "    </tr>\n",
       "    <tr>\n",
       "      <th>4</th>\n",
       "      <td>ABBV</td>\n",
       "      <td>0001551152-18-000014</td>\n",
       "      <td>hat generally vest in one-third increments ove...</td>\n",
       "      <td>hat generally vest in one-third increments ove...</td>\n",
       "      <td>hat generally vest in one-third increments ove...</td>\n",
       "    </tr>\n",
       "  </tbody>\n",
       "</table>\n",
       "</div>"
      ],
      "text/plain": [
       "  ticker      accession_number  \\\n",
       "0      A  0001090872-17-000018   \n",
       "1    AAL  0000006201-18-000009   \n",
       "2    AAP  0001158449-18-000039   \n",
       "3   AAPL  0000320193-17-000070   \n",
       "4   ABBV  0001551152-18-000014   \n",
       "\n",
       "                                 pred_paragraph_text  \\\n",
       "0  e chemical and energy markets.\\n\\nnet income f...   \n",
       "1  n recognition of the 2017 tax act.\\n\\n\\n\\n\\n\\n...   \n",
       "2  151.72\\n\\n\\n\\n\\n\\n$\\n\\n\\n99.13\\n\\n\\n\\n\\n\\n \\n\\...   \n",
       "3  s business operations are subject\\nto interrup...   \n",
       "4  hat generally vest in one-third increments ove...   \n",
       "\n",
       "                               pred_paragraph_text_7  \\\n",
       "0  rtized related to the interest rate swap agree...   \n",
       "1  n recognition of the 2017 tax act.\\n\\n\\n\\n\\n\\n...   \n",
       "2  \\n\\nwarranty reserves, beginning of period\\n\\n...   \n",
       "3  ember 2016 asr\\n\\n\\nfebruary 2017\\n\\n\\n \\n\\n\\n...   \n",
       "4  hat generally vest in one-third increments ove...   \n",
       "\n",
       "                               pred_paragraph_text_3  \n",
       "0  rtized related to the interest rate swap agree...  \n",
       "1  n recognition of the 2017 tax act.\\n\\n\\n\\n\\n\\n...  \n",
       "2  \\n\\nwarranty reserves, beginning of period\\n\\n...  \n",
       "3  ember 2016 asr\\n\\n\\nfebruary 2017\\n\\n\\n \\n\\n\\n...  \n",
       "4  hat generally vest in one-third increments ove...  "
      ]
     },
     "execution_count": 83,
     "metadata": {},
     "output_type": "execute_result"
    }
   ],
   "source": [
    "predicted_paragraph_df.head()"
   ]
  },
  {
   "cell_type": "code",
   "execution_count": 89,
   "metadata": {},
   "outputs": [
    {
     "name": "stdout",
     "output_type": "stream",
     "text": [
      "<class 'pandas.core.frame.DataFrame'>\n",
      "RangeIndex: 435 entries, 0 to 434\n",
      "Data columns (total 5 columns):\n",
      "ticker                   435 non-null object\n",
      "accession_number         435 non-null object\n",
      "pred_paragraph_text      435 non-null object\n",
      "pred_paragraph_text_7    435 non-null object\n",
      "pred_paragraph_text_3    435 non-null object\n",
      "dtypes: object(5)\n",
      "memory usage: 17.1+ KB\n"
     ]
    }
   ],
   "source": [
    "predicted_paragraph_df.info()"
   ]
  },
  {
   "cell_type": "markdown",
   "metadata": {},
   "source": [
    "#### compare predictions 15 to predictions 7 "
   ]
  },
  {
   "cell_type": "code",
   "execution_count": 88,
   "metadata": {},
   "outputs": [
    {
     "data": {
      "text/plain": [
       "94"
      ]
     },
     "execution_count": 88,
     "metadata": {},
     "output_type": "execute_result"
    }
   ],
   "source": [
    "# number of pred15s that are equal to pred7s\n",
    "np.sum([predicted_paragraph_df.pred_paragraph_text == predicted_paragraph_df.pred_paragraph_text_7])"
   ]
  },
  {
   "cell_type": "code",
   "execution_count": 98,
   "metadata": {},
   "outputs": [
    {
     "data": {
      "text/plain": [
       "21.60919540229885"
      ]
     },
     "execution_count": 98,
     "metadata": {},
     "output_type": "execute_result"
    }
   ],
   "source": [
    "100*np.sum([predicted_paragraph_df.pred_paragraph_text == predicted_paragraph_df.pred_paragraph_text_7])/len(predicted_paragraph_df.pred_paragraph_text)"
   ]
  },
  {
   "cell_type": "markdown",
   "metadata": {},
   "source": [
    "Note: 94/434 = 21.61% are the same"
   ]
  },
  {
   "cell_type": "code",
   "execution_count": 91,
   "metadata": {},
   "outputs": [
    {
     "data": {
      "text/plain": [
       "291"
      ]
     },
     "execution_count": 91,
     "metadata": {},
     "output_type": "execute_result"
    }
   ],
   "source": [
    "# total inclusion of pred7 in pred 15\n",
    "np.sum([p7 in p15 for p7, p15 in zip(predicted_paragraph_df.pred_paragraph_text_7, predicted_paragraph_df.pred_paragraph_text)])"
   ]
  },
  {
   "cell_type": "code",
   "execution_count": 97,
   "metadata": {},
   "outputs": [
    {
     "data": {
      "text/plain": [
       "66.89655172413794"
      ]
     },
     "execution_count": 97,
     "metadata": {},
     "output_type": "execute_result"
    }
   ],
   "source": [
    "# total inclusion of pred7 in pred 15\n",
    "100*np.sum([p7 in p15 for p7, p15 in zip(predicted_paragraph_df.pred_paragraph_text_7, predicted_paragraph_df.pred_paragraph_text)])/predicted_paragraph_df.shape[0]"
   ]
  },
  {
   "cell_type": "markdown",
   "metadata": {},
   "source": [
    "That's interresting only 66.90% of my prediction7s are inside the prediction15s. That means about 30% of my pred7s are distinct from my pred 15s. And that only resulted in a 2.5% increase in todal inclusion (12 extra total inclusions.)"
   ]
  },
  {
   "cell_type": "code",
   "execution_count": 100,
   "metadata": {},
   "outputs": [
    {
     "data": {
      "text/plain": [
       "True"
      ]
     },
     "execution_count": 100,
     "metadata": {},
     "output_type": "execute_result"
    }
   ],
   "source": [
    "'lf wor' in 'half word'"
   ]
  },
  {
   "cell_type": "markdown",
   "metadata": {},
   "source": [
    "#### compare predictions 7 to predictions 3"
   ]
  },
  {
   "cell_type": "code",
   "execution_count": 101,
   "metadata": {},
   "outputs": [
    {
     "data": {
      "text/plain": [
       "435"
      ]
     },
     "execution_count": 101,
     "metadata": {},
     "output_type": "execute_result"
    }
   ],
   "source": [
    "# number of pred3s that are equal to pred7s\n",
    "np.sum([predicted_paragraph_df.pred_paragraph_text_3 == predicted_paragraph_df.pred_paragraph_text_7])"
   ]
  },
  {
   "cell_type": "code",
   "execution_count": 102,
   "metadata": {},
   "outputs": [
    {
     "data": {
      "text/plain": [
       "100.0"
      ]
     },
     "execution_count": 102,
     "metadata": {},
     "output_type": "execute_result"
    }
   ],
   "source": [
    "100*np.sum([predicted_paragraph_df.pred_paragraph_text_3 == predicted_paragraph_df.pred_paragraph_text_7])/len(predicted_paragraph_df.pred_paragraph_text)"
   ]
  },
  {
   "cell_type": "markdown",
   "metadata": {},
   "source": [
    "Note: pred 3 generated the same paragraphs as pred 7.\n",
    "So I can drop one of them"
   ]
  },
  {
   "cell_type": "markdown",
   "metadata": {},
   "source": [
    "**Future Enhancements: (Improving/Shortening Nominated/Predicted Paragraphs)**\n",
    "\n",
    "🤔 I can probably train a ML on the original csv's paragraph column, and use it to further distill my predicted paragraphs. \n",
    "- I guess that would look like:\n",
    "    - sentence tokenizing the the paragraphs (both of them)\n",
    "        - labeling the training sent_tokens as 'relevant'\n",
    "        - fit and train on them\n",
    "        - classify the sentences in sent_tokens in my predicted paragraphs as (ir)relevant\n",
    "        - return only the ones the model predicts to be relevant"
   ]
  },
  {
   "cell_type": "markdown",
   "metadata": {},
   "source": [
    "# Predicting Sentence Classification\n",
    "## Build word count vectors with skikit-learn\n",
    "### Count Vectorizer with Python"
   ]
  },
  {
   "cell_type": "code",
   "execution_count": 113,
   "metadata": {},
   "outputs": [
    {
     "data": {
      "text/plain": [
       "Share Repurchase Authorization Date    401\n",
       "Share Repurchase Authorization         369\n",
       "Amount Spent on Share Repurchases      329\n",
       "Share Repurchase Count                 286\n",
       "Share Repurchase Intention             227\n",
       "Unknown Share Repurchase Data          122\n",
       "Share Repurchase Utilization            47\n",
       "Name: data_key_friendly_name, dtype: int64"
      ]
     },
     "execution_count": 113,
     "metadata": {},
     "output_type": "execute_result"
    }
   ],
   "source": [
    "share_rprchs_prgrph_df.data_key_friendly_name.value_counts()"
   ]
  },
  {
   "cell_type": "code",
   "execution_count": 130,
   "metadata": {},
   "outputs": [
    {
     "data": {
      "text/html": [
       "<div>\n",
       "<style scoped>\n",
       "    .dataframe tbody tr th:only-of-type {\n",
       "        vertical-align: middle;\n",
       "    }\n",
       "\n",
       "    .dataframe tbody tr th {\n",
       "        vertical-align: top;\n",
       "    }\n",
       "\n",
       "    .dataframe thead th {\n",
       "        text-align: right;\n",
       "    }\n",
       "</style>\n",
       "<table border=\"1\" class=\"dataframe\">\n",
       "  <thead>\n",
       "    <tr style=\"text-align: right;\">\n",
       "      <th></th>\n",
       "      <th>data_key_friendly_name</th>\n",
       "      <th>text</th>\n",
       "    </tr>\n",
       "  </thead>\n",
       "  <tbody>\n",
       "    <tr>\n",
       "      <th>0</th>\n",
       "      <td>Share Repurchase Authorization</td>\n",
       "      <td>The 2015 share repurchase program authorizes t...</td>\n",
       "    </tr>\n",
       "    <tr>\n",
       "      <th>1</th>\n",
       "      <td>Share Repurchase Intention</td>\n",
       "      <td>remaining authorization to repurchase up to</td>\n",
       "    </tr>\n",
       "    <tr>\n",
       "      <th>2</th>\n",
       "      <td>Share Repurchase Authorization</td>\n",
       "      <td>share repurchase programs aggregating</td>\n",
       "    </tr>\n",
       "    <tr>\n",
       "      <th>3</th>\n",
       "      <td>Share Repurchase Intention</td>\n",
       "      <td>remained unused under a repurchase program</td>\n",
       "    </tr>\n",
       "    <tr>\n",
       "      <th>4</th>\n",
       "      <td>Share Repurchase Intention</td>\n",
       "      <td>remaining under its stock repurchase program a...</td>\n",
       "    </tr>\n",
       "  </tbody>\n",
       "</table>\n",
       "</div>"
      ],
      "text/plain": [
       "           data_key_friendly_name  \\\n",
       "0  Share Repurchase Authorization   \n",
       "1      Share Repurchase Intention   \n",
       "2  Share Repurchase Authorization   \n",
       "3      Share Repurchase Intention   \n",
       "4      Share Repurchase Intention   \n",
       "\n",
       "                                                text  \n",
       "0  The 2015 share repurchase program authorizes t...  \n",
       "1        remaining authorization to repurchase up to  \n",
       "2              share repurchase programs aggregating  \n",
       "3         remained unused under a repurchase program  \n",
       "4  remaining under its stock repurchase program a...  "
      ]
     },
     "execution_count": 130,
     "metadata": {},
     "output_type": "execute_result"
    }
   ],
   "source": [
    "vert_training_subset_df[['data_key_friendly_name', 'text']].head()"
   ]
  },
  {
   "cell_type": "code",
   "execution_count": 133,
   "metadata": {},
   "outputs": [
    {
     "data": {
      "text/plain": [
       "(1781, 8)"
      ]
     },
     "execution_count": 133,
     "metadata": {},
     "output_type": "execute_result"
    }
   ],
   "source": [
    "share_rprchs_prgrph_df.shape"
   ]
  },
  {
   "cell_type": "markdown",
   "metadata": {},
   "source": [
    "## Is the \"training\" data they gave us, of sufficient quality to bother fitting a sentence classification model to it?\n",
    "Assuming they gave us quality data, then:\n",
    "- each row's 'text' column should contain the data named in the dkfn\n",
    "    - if it's not immediately apparent from the text column it should, at the very least, be apparent from the paragraph colum\n",
    "\n",
    "⚠️ if the data is too noisy, then training and fitting a model to the noise will be counterproductive, \n",
    "- if the odel becomes 80% effective, then it will be 80% effective at predicting the signal, but also 80% effective at predicting the particular noise in the training data (just compounding failure)."
   ]
  },
  {
   "cell_type": "code",
   "execution_count": 135,
   "metadata": {
    "scrolled": true
   },
   "outputs": [
    {
     "name": "stdout",
     "output_type": "stream",
     "text": [
      "[========== DKFN:  Share Repurchase Authorization =================]\n",
      "   [- The 2015 share repurchase program authorizes the purchase of up to -]\n",
      "   [- remaining authorization to repurchase up to -]\n",
      "   [- share repurchase programs aggregating -]\n",
      "   [- remained unused under a repurchase program -]\n",
      "   [- remaining under its stock repurchase program as of December 30, 2017 -]\n",
      "   [- repurchase program -]\n",
      "   [- share repurchase authorization -]\n",
      "   [- utilized -]\n",
      "   [- Total -]\n",
      "   [- authorized -]\n",
      "   [- repurchased -]\n",
      "   [- authorized the repurchase -]\n",
      "   [- repurchased -]\n",
      "   [- repurchased -]\n",
      "   [- repurchase -]\n",
      "[========== DKFN:  Share Repurchase Utilization =================]\n",
      "   [- The 2015 share repurchase program authorizes the purchase of up to -]\n",
      "   [- remaining authorization to repurchase up to -]\n",
      "   [- share repurchase programs aggregating -]\n",
      "   [- remained unused under a repurchase program -]\n",
      "   [- remaining under its stock repurchase program as of December 30, 2017 -]\n",
      "   [- repurchase program -]\n",
      "   [- share repurchase authorization -]\n",
      "   [- utilized -]\n",
      "   [- Total -]\n",
      "   [- authorized -]\n",
      "   [- repurchased -]\n",
      "   [- authorized the repurchase -]\n",
      "   [- repurchased -]\n",
      "   [- repurchased -]\n",
      "   [- repurchase -]\n",
      "[========== DKFN:  Unknown Share Repurchase Data =================]\n",
      "   [- The 2015 share repurchase program authorizes the purchase of up to -]\n",
      "   [- remaining authorization to repurchase up to -]\n",
      "   [- share repurchase programs aggregating -]\n",
      "   [- remained unused under a repurchase program -]\n",
      "   [- remaining under its stock repurchase program as of December 30, 2017 -]\n",
      "   [- repurchase program -]\n",
      "   [- share repurchase authorization -]\n",
      "   [- utilized -]\n",
      "   [- Total -]\n",
      "   [- authorized -]\n",
      "   [- repurchased -]\n",
      "   [- authorized the repurchase -]\n",
      "   [- repurchased -]\n",
      "   [- repurchased -]\n",
      "   [- repurchase -]\n",
      "[========== DKFN:  Share Repurchase Intention =================]\n",
      "   [- The 2015 share repurchase program authorizes the purchase of up to -]\n",
      "   [- remaining authorization to repurchase up to -]\n",
      "   [- share repurchase programs aggregating -]\n",
      "   [- remained unused under a repurchase program -]\n",
      "   [- remaining under its stock repurchase program as of December 30, 2017 -]\n",
      "   [- repurchase program -]\n",
      "   [- share repurchase authorization -]\n",
      "   [- utilized -]\n",
      "   [- Total -]\n",
      "   [- authorized -]\n",
      "   [- repurchased -]\n",
      "   [- authorized the repurchase -]\n",
      "   [- repurchased -]\n",
      "   [- repurchased -]\n",
      "   [- repurchase -]\n"
     ]
    }
   ],
   "source": [
    "for dkfn in relevant_dkfns:\n",
    "    print(\"[========== DKFN: \", dkfn, '=================]')\n",
    "    for i in range(len(vert_training_subset_df[vert_training_subset_df.data_key_friendly_name == dkfn].text[0:15])):\n",
    "        print('   [-', vert_training_subset_df.text[i], '-]')"
   ]
  },
  {
   "cell_type": "markdown",
   "metadata": {},
   "source": [
    "😒 \n",
    "The quality of this data seems dubious.\n",
    "- total\n",
    "- authorized\n",
    "- utilized\n",
    "\n",
    "I guess I should curate it \"manually/personally\"\n",
    "\n",
    "**Helper pseudo-routine to accelerate manual classification:**\n",
    "- for each of my 'relevant_dkfns'\n",
    "    - look at the text\n",
    "        - if it hasn't already been labeled as relevant (with respect to its dknf)\n",
    "        - (if a given text has been marked as irrelevant with respect to it's corresponding paragraph that need not mean all it's other instances are irreleveant to their corresponding paragraphs.)\n",
    "    - is it clearly relevant?\n",
    "        - if not, then pull up it's paragraph\n",
    "            - does the paragraph corroborate it's relevance?\n",
    "                - if not, then mark it as 'irrelevant'\n",
    "                - scrutinize the paragraph and classify it as (ir)relevant"
   ]
  },
  {
   "cell_type": "code",
   "execution_count": 175,
   "metadata": {},
   "outputs": [
    {
     "name": "stdout",
     "output_type": "stream",
     "text": [
      "<class 'pandas.core.frame.DataFrame'>\n",
      "Int64Index: 415 entries, 0 to 414\n",
      "Data columns (total 9 columns):\n",
      "ticker                    415 non-null object\n",
      "accession_number          415 non-null object\n",
      "data_key_friendly_name    415 non-null object\n",
      "text                      415 non-null object\n",
      "data_value                415 non-null int64\n",
      "reported_data_value       415 non-null float64\n",
      "reported_units            415 non-null object\n",
      "paragraph_text            415 non-null object\n",
      "relevant4training         0 non-null object\n",
      "dtypes: float64(1), int64(1), object(7)\n",
      "memory usage: 52.4+ KB\n"
     ]
    }
   ],
   "source": [
    "vert_training_subset_df.info()"
   ]
  },
  {
   "cell_type": "code",
   "execution_count": 182,
   "metadata": {},
   "outputs": [],
   "source": [
    "# initialize a classification column in the vertical subset\n",
    "vert_training_subset_df['relevant4training'] = None\n",
    "# initialize a personally curated column of relevant sentences\n",
    "vert_training_subset_df['better_text'] = None"
   ]
  },
  {
   "cell_type": "code",
   "execution_count": 188,
   "metadata": {
    "scrolled": false
   },
   "outputs": [
    {
     "name": "stdout",
     "output_type": "stream",
     "text": [
      "Begin Classifiyng the >>>    Share Repurchase Authorization    <<< subset of text cells.\n",
      "====================================================================================================\n",
      "- - - - - - - - - - - - - - - - - - - - - - - - - - - - - - - - - - - - - - - - - - - - - - - - - - \n",
      "share repurchase program\n",
      "^\n",
      "Is the above text strictly and clearly relevant to Share Repurchase Authorization [yes] or [no]yes\n"
     ]
    },
    {
     "name": "stderr",
     "output_type": "stream",
     "text": [
      "/Users/paulomartinez/anaconda3/lib/python3.6/site-packages/ipykernel_launcher.py:23: SettingWithCopyWarning: \n",
      "A value is trying to be set on a copy of a slice from a DataFrame\n",
      "\n",
      "See the caveats in the documentation: http://pandas.pydata.org/pandas-docs/stable/indexing.html#indexing-view-versus-copy\n"
     ]
    },
    {
     "name": "stdout",
     "output_type": "stream",
     "text": [
      "- - - - - - - - - - - - - - - - - - - - - - - - - - - - - - - - - - - - - - - - - - - - - - - - - - \n",
      "our board of directors authorized an additional\n",
      "^\n",
      "Is the above text strictly and clearly relevant to Share Repurchase Authorization [yes] or [no]yes\n",
      "- - - - - - - - - - - - - - - - - - - - - - - - - - - - - - - - - - - - - - - - - - - - - - - - - - \n",
      "the Company's Board of Directors authorized repurchase of up to\n",
      "^\n",
      "Is the above text strictly and clearly relevant to Share Repurchase Authorization [yes] or [no]yes\n",
      "- - - - - - - - - - - - - - - - - - - - - - - - - - - - - - - - - - - - - - - - - - - - - - - - - - \n",
      "the Company announced that its Board of Directors authorized the repurchase of up to\n",
      "^\n",
      "Is the above text strictly and clearly relevant to Share Repurchase Authorization [yes] or [no]yes\n",
      "- - - - - - - - - - - - - - - - - - - - - - - - - - - - - - - - - - - - - - - - - - - - - - - - - - \n",
      "the Board granted authority for a\n",
      "^\n",
      "Is the above text strictly and clearly relevant to Share Repurchase Authorization [yes] or [no]yes\n",
      "- - - - - - - - - - - - - - - - - - - - - - - - - - - - - - - - - - - - - - - - - - - - - - - - - - \n",
      "authorized\n",
      "^\n",
      "Is the above text strictly and clearly relevant to Share Repurchase Authorization [yes] or [no]yes\n",
      "- - - - - - - - - - - - - - - - - - - - - - - - - - - - - - - - - - - - - - - - - - - - - - - - - - \n",
      "for the repurchase of up to\n",
      "^\n"
     ]
    },
    {
     "ename": "KeyboardInterrupt",
     "evalue": "",
     "output_type": "error",
     "traceback": [
      "\u001b[0;31m---------------------------------------------------------------------------\u001b[0m",
      "\u001b[0;31mKeyboardInterrupt\u001b[0m                         Traceback (most recent call last)",
      "\u001b[0;32m~/anaconda3/lib/python3.6/site-packages/ipykernel/kernelbase.py\u001b[0m in \u001b[0;36m_input_request\u001b[0;34m(self, prompt, ident, parent, password)\u001b[0m\n\u001b[1;32m    728\u001b[0m             \u001b[0;32mtry\u001b[0m\u001b[0;34m:\u001b[0m\u001b[0;34m\u001b[0m\u001b[0m\n\u001b[0;32m--> 729\u001b[0;31m                 \u001b[0mident\u001b[0m\u001b[0;34m,\u001b[0m \u001b[0mreply\u001b[0m \u001b[0;34m=\u001b[0m \u001b[0mself\u001b[0m\u001b[0;34m.\u001b[0m\u001b[0msession\u001b[0m\u001b[0;34m.\u001b[0m\u001b[0mrecv\u001b[0m\u001b[0;34m(\u001b[0m\u001b[0mself\u001b[0m\u001b[0;34m.\u001b[0m\u001b[0mstdin_socket\u001b[0m\u001b[0;34m,\u001b[0m \u001b[0;36m0\u001b[0m\u001b[0;34m)\u001b[0m\u001b[0;34m\u001b[0m\u001b[0m\n\u001b[0m\u001b[1;32m    730\u001b[0m             \u001b[0;32mexcept\u001b[0m \u001b[0mException\u001b[0m\u001b[0;34m:\u001b[0m\u001b[0;34m\u001b[0m\u001b[0m\n",
      "\u001b[0;32m~/anaconda3/lib/python3.6/site-packages/jupyter_client/session.py\u001b[0m in \u001b[0;36mrecv\u001b[0;34m(self, socket, mode, content, copy)\u001b[0m\n\u001b[1;32m    802\u001b[0m         \u001b[0;32mtry\u001b[0m\u001b[0;34m:\u001b[0m\u001b[0;34m\u001b[0m\u001b[0m\n\u001b[0;32m--> 803\u001b[0;31m             \u001b[0mmsg_list\u001b[0m \u001b[0;34m=\u001b[0m \u001b[0msocket\u001b[0m\u001b[0;34m.\u001b[0m\u001b[0mrecv_multipart\u001b[0m\u001b[0;34m(\u001b[0m\u001b[0mmode\u001b[0m\u001b[0;34m,\u001b[0m \u001b[0mcopy\u001b[0m\u001b[0;34m=\u001b[0m\u001b[0mcopy\u001b[0m\u001b[0;34m)\u001b[0m\u001b[0;34m\u001b[0m\u001b[0m\n\u001b[0m\u001b[1;32m    804\u001b[0m         \u001b[0;32mexcept\u001b[0m \u001b[0mzmq\u001b[0m\u001b[0;34m.\u001b[0m\u001b[0mZMQError\u001b[0m \u001b[0;32mas\u001b[0m \u001b[0me\u001b[0m\u001b[0;34m:\u001b[0m\u001b[0;34m\u001b[0m\u001b[0m\n",
      "\u001b[0;32m~/anaconda3/lib/python3.6/site-packages/zmq/sugar/socket.py\u001b[0m in \u001b[0;36mrecv_multipart\u001b[0;34m(self, flags, copy, track)\u001b[0m\n\u001b[1;32m    465\u001b[0m         \"\"\"\n\u001b[0;32m--> 466\u001b[0;31m         \u001b[0mparts\u001b[0m \u001b[0;34m=\u001b[0m \u001b[0;34m[\u001b[0m\u001b[0mself\u001b[0m\u001b[0;34m.\u001b[0m\u001b[0mrecv\u001b[0m\u001b[0;34m(\u001b[0m\u001b[0mflags\u001b[0m\u001b[0;34m,\u001b[0m \u001b[0mcopy\u001b[0m\u001b[0;34m=\u001b[0m\u001b[0mcopy\u001b[0m\u001b[0;34m,\u001b[0m \u001b[0mtrack\u001b[0m\u001b[0;34m=\u001b[0m\u001b[0mtrack\u001b[0m\u001b[0;34m)\u001b[0m\u001b[0;34m]\u001b[0m\u001b[0;34m\u001b[0m\u001b[0m\n\u001b[0m\u001b[1;32m    467\u001b[0m         \u001b[0;31m# have first part already, only loop while more to receive\u001b[0m\u001b[0;34m\u001b[0m\u001b[0;34m\u001b[0m\u001b[0m\n",
      "\u001b[0;32mzmq/backend/cython/socket.pyx\u001b[0m in \u001b[0;36mzmq.backend.cython.socket.Socket.recv\u001b[0;34m()\u001b[0m\n",
      "\u001b[0;32mzmq/backend/cython/socket.pyx\u001b[0m in \u001b[0;36mzmq.backend.cython.socket.Socket.recv\u001b[0;34m()\u001b[0m\n",
      "\u001b[0;32mzmq/backend/cython/socket.pyx\u001b[0m in \u001b[0;36mzmq.backend.cython.socket._recv_copy\u001b[0;34m()\u001b[0m\n",
      "\u001b[0;32m~/anaconda3/lib/python3.6/site-packages/zmq/backend/cython/checkrc.pxd\u001b[0m in \u001b[0;36mzmq.backend.cython.checkrc._check_rc\u001b[0;34m()\u001b[0m\n",
      "\u001b[0;31mKeyboardInterrupt\u001b[0m: ",
      "\nDuring handling of the above exception, another exception occurred:\n",
      "\u001b[0;31mKeyboardInterrupt\u001b[0m                         Traceback (most recent call last)",
      "\u001b[0;32m<ipython-input-188-6f40f87ae92c>\u001b[0m in \u001b[0;36m<module>\u001b[0;34m()\u001b[0m\n\u001b[1;32m     13\u001b[0m             \u001b[0mprint\u001b[0m\u001b[0;34m(\u001b[0m\u001b[0mvert_training_subset_df\u001b[0m\u001b[0;34m.\u001b[0m\u001b[0mtext\u001b[0m\u001b[0;34m[\u001b[0m\u001b[0mi\u001b[0m\u001b[0;34m]\u001b[0m\u001b[0;34m)\u001b[0m\u001b[0;34m\u001b[0m\u001b[0m\n\u001b[1;32m     14\u001b[0m             \u001b[0mprint\u001b[0m\u001b[0;34m(\u001b[0m\u001b[0;34m\"^\"\u001b[0m\u001b[0;34m)\u001b[0m\u001b[0;34m\u001b[0m\u001b[0m\n\u001b[0;32m---> 15\u001b[0;31m             \u001b[0mrelevance\u001b[0m \u001b[0;34m=\u001b[0m \u001b[0minput\u001b[0m\u001b[0;34m(\u001b[0m\u001b[0;34m'Is the above text strictly and clearly relevant to '\u001b[0m\u001b[0;34m+\u001b[0m\u001b[0mdkfn\u001b[0m\u001b[0;34m+\u001b[0m\u001b[0;34m' [yes] or [no]'\u001b[0m\u001b[0;34m)\u001b[0m\u001b[0;34m\u001b[0m\u001b[0m\n\u001b[0m\u001b[1;32m     16\u001b[0m             \u001b[0;31m# hanle typos\u001b[0m\u001b[0;34m\u001b[0m\u001b[0;34m\u001b[0m\u001b[0m\n\u001b[1;32m     17\u001b[0m             \u001b[0;32mwhile\u001b[0m \u001b[0mrelevance\u001b[0m \u001b[0;32mnot\u001b[0m \u001b[0;32min\u001b[0m \u001b[0;34m[\u001b[0m\u001b[0;34m'yes'\u001b[0m\u001b[0;34m,\u001b[0m \u001b[0;34m'no'\u001b[0m\u001b[0;34m]\u001b[0m\u001b[0;34m:\u001b[0m\u001b[0;34m\u001b[0m\u001b[0m\n",
      "\u001b[0;32m~/anaconda3/lib/python3.6/site-packages/ipykernel/kernelbase.py\u001b[0m in \u001b[0;36mraw_input\u001b[0;34m(self, prompt)\u001b[0m\n\u001b[1;32m    702\u001b[0m             \u001b[0mself\u001b[0m\u001b[0;34m.\u001b[0m\u001b[0m_parent_ident\u001b[0m\u001b[0;34m,\u001b[0m\u001b[0;34m\u001b[0m\u001b[0m\n\u001b[1;32m    703\u001b[0m             \u001b[0mself\u001b[0m\u001b[0;34m.\u001b[0m\u001b[0m_parent_header\u001b[0m\u001b[0;34m,\u001b[0m\u001b[0;34m\u001b[0m\u001b[0m\n\u001b[0;32m--> 704\u001b[0;31m             \u001b[0mpassword\u001b[0m\u001b[0;34m=\u001b[0m\u001b[0;32mFalse\u001b[0m\u001b[0;34m,\u001b[0m\u001b[0;34m\u001b[0m\u001b[0m\n\u001b[0m\u001b[1;32m    705\u001b[0m         )\n\u001b[1;32m    706\u001b[0m \u001b[0;34m\u001b[0m\u001b[0m\n",
      "\u001b[0;32m~/anaconda3/lib/python3.6/site-packages/ipykernel/kernelbase.py\u001b[0m in \u001b[0;36m_input_request\u001b[0;34m(self, prompt, ident, parent, password)\u001b[0m\n\u001b[1;32m    732\u001b[0m             \u001b[0;32mexcept\u001b[0m \u001b[0mKeyboardInterrupt\u001b[0m\u001b[0;34m:\u001b[0m\u001b[0;34m\u001b[0m\u001b[0m\n\u001b[1;32m    733\u001b[0m                 \u001b[0;31m# re-raise KeyboardInterrupt, to truncate traceback\u001b[0m\u001b[0;34m\u001b[0m\u001b[0;34m\u001b[0m\u001b[0m\n\u001b[0;32m--> 734\u001b[0;31m                 \u001b[0;32mraise\u001b[0m \u001b[0mKeyboardInterrupt\u001b[0m\u001b[0;34m\u001b[0m\u001b[0m\n\u001b[0m\u001b[1;32m    735\u001b[0m             \u001b[0;32melse\u001b[0m\u001b[0;34m:\u001b[0m\u001b[0;34m\u001b[0m\u001b[0m\n\u001b[1;32m    736\u001b[0m                 \u001b[0;32mbreak\u001b[0m\u001b[0;34m\u001b[0m\u001b[0m\n",
      "\u001b[0;31mKeyboardInterrupt\u001b[0m: "
     ]
    }
   ],
   "source": [
    "for dkfn in relevant_dkfns:\n",
    "    # initiate a list to keep track of texts already classified as relevant\n",
    "    relevant4dkfn = [] \n",
    "    # define a boolean index for this dkfn's subset\n",
    "    dsubix = vert_training_subset_df.data_key_friendly_name == dkfn\n",
    "    # note which subset we're entering\n",
    "    print('Begin Classifiyng the >>>   ', dkfn, '   <<< subset of text cells.')\n",
    "    print('='*100)\n",
    "    # \n",
    "    for i in vert_training_subset_df[dsubix].index: # for each text cell in that subset\n",
    "        if vert_training_subset_df.text[i] not in relevant4dkfn and vert_training_subset_df.relevant4training[i] == None: #if it hasn't already been marked as clearly relevant \n",
    "            print('- - '*25)\n",
    "            print(vert_training_subset_df.text[i])\n",
    "            print(\"^\")\n",
    "            relevance = input('Is the above text strictly and clearly relevant to '+dkfn+' [yes] or [no]')\n",
    "            # hanle typos\n",
    "            while relevance not in ['yes', 'no']:\n",
    "                print('!!! Oops, need a yes or no input.')\n",
    "                relevance = input('Is the above text strictly and clearly relevant to '+dkfn+'? [yes] or [no]')\n",
    "            # if it is relevant append it and move on\n",
    "            if relevance == 'yes':\n",
    "                relevant4dkfn.append(vert_training_subset_df.text[i]) # not that we have already classified this\n",
    "                vert_training_subset_df.relevant4training[i] = 1\n",
    "                continue # continue to the next loop iteration\n",
    "            \n",
    "            # if not relevant look at paragraph\n",
    "            if relevance == 'no':\n",
    "                print('     ----- Take a look at the corresponding paragraph -----')\n",
    "                print('.'*80)\n",
    "                print(vert_training_subset_df.paragraph_text[i])\n",
    "                relevance = input('Does the paragraph corroborate the strict relevance to '+dkfn+'? [yes] or [no]')\n",
    "                print('.-.-.-.-.')\n",
    "                # handle typos\n",
    "                while relevance not in ['yes', 'no']:\n",
    "                    print('!!! Oops, need a yes or no input.')\n",
    "                    relevance = input('Is the above text value strictly and  relevant to '+dkfn+'? [yes] or [no]')\n",
    "                if relevance == 'yes':\n",
    "                    # we wont add it to the list of relevant texts in this case because maybe the relevance is parasitic on the paragraph, and so should not be generalized across different paragraphs\n",
    "                    vert_training_subset_df.relevant4training[i] = 1\n",
    "                    continue # continue to the next loop iteration\n",
    "                if relevance == 'no':\n",
    "                    vert_training_subset_df.relevant4training[i] = 0\n",
    "                    # ask for a better text/sentence\n",
    "                    better_alternative = 'no'\n",
    "                    better_alternative = input('Do you have a better text value to add? [yes] [no]')\n",
    "                    # handle typos\n",
    "                    while better_alternative not in ['yes', 'no']:\n",
    "                        print('!!! Oops, need a yes or no input.')\n",
    "                        better_alternative = input('Do you have a better text value to add? [yes] [no]')\n",
    "                    if better_alternative == 'yes':\n",
    "                        vert_training_subset_df.better_text[i] = input('Type your selected text here: ')\n",
    "                        # handle typos\n",
    "                        good2go = 'no'\n",
    "                        good2go = input('Good to go? [yes] or [no]')\n",
    "                        while good2go not in ['yes', 'no']:\n",
    "                            print('!!! Oops need a yes or no input')\n",
    "                            good2go = input('Good to go? [yes], [no]')\n",
    "                        if good2go == 'no':\n",
    "                            vert_training_subset_df.better_text[i] = input('Type your selected text here: ')\n",
    "                            # handle typos\n",
    "                            good2go = 'no'\n",
    "                            good2go = input('Good to go? [yes] or [no]')\n",
    "                            while good2go not in ['yes', 'no']:\n",
    "                                print('!!! Oops need a yes or no input')\n",
    "                                good2go = input('Good to go? [yes], [no]')    \n",
    "            print('- -'*33)"
   ]
  },
  {
   "cell_type": "code",
   "execution_count": 190,
   "metadata": {},
   "outputs": [
    {
     "name": "stdout",
     "output_type": "stream",
     "text": [
      "<class 'pandas.core.frame.DataFrame'>\n",
      "Int64Index: 415 entries, 0 to 414\n",
      "Data columns (total 10 columns):\n",
      "ticker                    415 non-null object\n",
      "accession_number          415 non-null object\n",
      "data_key_friendly_name    415 non-null object\n",
      "text                      415 non-null object\n",
      "data_value                415 non-null int64\n",
      "reported_data_value       415 non-null float64\n",
      "reported_units            415 non-null object\n",
      "paragraph_text            415 non-null object\n",
      "relevant4training         62 non-null object\n",
      "better_text               18 non-null object\n",
      "dtypes: float64(1), int64(1), object(8)\n",
      "memory usage: 55.7+ KB\n"
     ]
    }
   ],
   "source": [
    "vert_training_subset_df.info()"
   ]
  },
  {
   "cell_type": "markdown",
   "metadata": {},
   "source": [
    "This is taking too long. Let's just assume that the data is good. "
   ]
  },
  {
   "cell_type": "markdown",
   "metadata": {},
   "source": [
    "How would I define a a sentence? They aren't single words, and they aren't Complete sentences either. \n",
    "- What determines the length of these fragments?\n",
    "    - I'm not sure because the process that defined them is a black box\n",
    "- Then I can take a probabilistic approach to their lengths. \n",
    "- Or I could repeat my paragraph defining strategy of density of hits\n",
    "    - find the mean length of the texts\n",
    "    - then scroll through the paragraph and score each selection\n",
    "    - the one with the highest density of hits would be the one"
   ]
  },
  {
   "cell_type": "code",
   "execution_count": null,
   "metadata": {},
   "outputs": [],
   "source": []
  },
  {
   "cell_type": "code",
   "execution_count": null,
   "metadata": {},
   "outputs": [],
   "source": []
  },
  {
   "cell_type": "code",
   "execution_count": null,
   "metadata": {},
   "outputs": [],
   "source": []
  },
  {
   "cell_type": "code",
   "execution_count": null,
   "metadata": {},
   "outputs": [],
   "source": []
  },
  {
   "cell_type": "code",
   "execution_count": null,
   "metadata": {},
   "outputs": [],
   "source": []
  },
  {
   "cell_type": "code",
   "execution_count": null,
   "metadata": {},
   "outputs": [],
   "source": []
  },
  {
   "cell_type": "code",
   "execution_count": null,
   "metadata": {},
   "outputs": [],
   "source": []
  },
  {
   "cell_type": "code",
   "execution_count": null,
   "metadata": {},
   "outputs": [],
   "source": []
  },
  {
   "cell_type": "code",
   "execution_count": null,
   "metadata": {},
   "outputs": [],
   "source": []
  },
  {
   "cell_type": "code",
   "execution_count": null,
   "metadata": {},
   "outputs": [],
   "source": []
  }
 ],
 "metadata": {
  "kernelspec": {
   "display_name": "Python 3",
   "language": "python",
   "name": "python3"
  },
  "language_info": {
   "codemirror_mode": {
    "name": "ipython",
    "version": 3
   },
   "file_extension": ".py",
   "mimetype": "text/x-python",
   "name": "python",
   "nbconvert_exporter": "python",
   "pygments_lexer": "ipython3",
   "version": "3.6.5"
  }
 },
 "nbformat": 4,
 "nbformat_minor": 2
}

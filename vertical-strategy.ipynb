{
 "cells": [
  {
   "cell_type": "markdown",
   "metadata": {},
   "source": [
    "# Vertical Strategy: Use text column to predict tex_paragraph column\n",
    "\n",
    "## Outline\n",
    "1. filter out stopwords in text column\n",
    "2. word tokenize text column\n",
    "3. use token match in big string to define candidate paragraphs\n",
    "    - merge overlapping paragraphs\n",
    "4. Score/rank paragraphs\n",
    "    - some terms will be more relevant/weighted than others\n",
    "    - also score them by requency\n",
    "5. Check similarity between predicted paragraphs and actual paragraphs"
   ]
  },
  {
   "cell_type": "code",
   "execution_count": 7,
   "metadata": {},
   "outputs": [],
   "source": [
    "import pandas as pd\n",
    "from nltk.corpus import stopwords\n",
    "from nltk.tokenize import word_tokenize"
   ]
  },
  {
   "cell_type": "code",
   "execution_count": 21,
   "metadata": {},
   "outputs": [],
   "source": [
    "import re"
   ]
  },
  {
   "cell_type": "code",
   "execution_count": 33,
   "metadata": {},
   "outputs": [],
   "source": [
    "from collections import Counter"
   ]
  },
  {
   "cell_type": "code",
   "execution_count": 44,
   "metadata": {},
   "outputs": [],
   "source": [
    "from bs4 import BeautifulSoup"
   ]
  },
  {
   "cell_type": "code",
   "execution_count": 70,
   "metadata": {},
   "outputs": [],
   "source": [
    "from matplotlib import pyplot as plt"
   ]
  },
  {
   "cell_type": "code",
   "execution_count": 75,
   "metadata": {},
   "outputs": [],
   "source": [
    "import numpy as np"
   ]
  },
  {
   "cell_type": "code",
   "execution_count": 4,
   "metadata": {},
   "outputs": [
    {
     "data": {
      "text/html": [
       "<div>\n",
       "<style scoped>\n",
       "    .dataframe tbody tr th:only-of-type {\n",
       "        vertical-align: middle;\n",
       "    }\n",
       "\n",
       "    .dataframe tbody tr th {\n",
       "        vertical-align: top;\n",
       "    }\n",
       "\n",
       "    .dataframe thead th {\n",
       "        text-align: right;\n",
       "    }\n",
       "</style>\n",
       "<table border=\"1\" class=\"dataframe\">\n",
       "  <thead>\n",
       "    <tr style=\"text-align: right;\">\n",
       "      <th></th>\n",
       "      <th>ticker</th>\n",
       "      <th>accession_number</th>\n",
       "      <th>data_key_friendly_name</th>\n",
       "      <th>text</th>\n",
       "      <th>data_value</th>\n",
       "      <th>reported_data_value</th>\n",
       "      <th>reported_units</th>\n",
       "      <th>paragraph_text</th>\n",
       "    </tr>\n",
       "  </thead>\n",
       "  <tbody>\n",
       "    <tr>\n",
       "      <th>0</th>\n",
       "      <td>A</td>\n",
       "      <td>0001090872-17-000018</td>\n",
       "      <td>Share Repurchase Authorization</td>\n",
       "      <td>The 2015 share repurchase program authorizes t...</td>\n",
       "      <td>1140000000</td>\n",
       "      <td>1.14</td>\n",
       "      <td>billions</td>\n",
       "      <td>On May 28, 2015 we  announced that our board  ...</td>\n",
       "    </tr>\n",
       "    <tr>\n",
       "      <th>1</th>\n",
       "      <td>A</td>\n",
       "      <td>0001090872-17-000018</td>\n",
       "      <td>Share Repurchase Intention</td>\n",
       "      <td>remaining authorization to repurchase up to</td>\n",
       "      <td>610000000</td>\n",
       "      <td>610.00</td>\n",
       "      <td>millions</td>\n",
       "      <td>Table of Contents   2016, upon the completion ...</td>\n",
       "    </tr>\n",
       "    <tr>\n",
       "      <th>2</th>\n",
       "      <td>AAL</td>\n",
       "      <td>0000006201-18-000009</td>\n",
       "      <td>Share Repurchase Authorization</td>\n",
       "      <td>share repurchase programs aggregating</td>\n",
       "      <td>11000000000</td>\n",
       "      <td>11.00</td>\n",
       "      <td>billions</td>\n",
       "      <td>4. Share Repurchase Programs and Dividends   S...</td>\n",
       "    </tr>\n",
       "  </tbody>\n",
       "</table>\n",
       "</div>"
      ],
      "text/plain": [
       "  ticker      accession_number          data_key_friendly_name  \\\n",
       "0      A  0001090872-17-000018  Share Repurchase Authorization   \n",
       "1      A  0001090872-17-000018      Share Repurchase Intention   \n",
       "2    AAL  0000006201-18-000009  Share Repurchase Authorization   \n",
       "\n",
       "                                                text   data_value  \\\n",
       "0  The 2015 share repurchase program authorizes t...   1140000000   \n",
       "1        remaining authorization to repurchase up to    610000000   \n",
       "2              share repurchase programs aggregating  11000000000   \n",
       "\n",
       "   reported_data_value reported_units  \\\n",
       "0                 1.14       billions   \n",
       "1               610.00       millions   \n",
       "2                11.00       billions   \n",
       "\n",
       "                                      paragraph_text  \n",
       "0  On May 28, 2015 we  announced that our board  ...  \n",
       "1  Table of Contents   2016, upon the completion ...  \n",
       "2  4. Share Repurchase Programs and Dividends   S...  "
      ]
     },
     "execution_count": 4,
     "metadata": {},
     "output_type": "execute_result"
    }
   ],
   "source": [
    "# read in the vertical training subset\n",
    "vert_training_subset_df = pd.read_csv('data/vertical_training_subset.csv', index_col=[0])\n",
    "vert_training_subset_df.head(3)"
   ]
  },
  {
   "cell_type": "code",
   "execution_count": null,
   "metadata": {},
   "outputs": [],
   "source": [
    "#vert_training_subset_df.info()"
   ]
  },
  {
   "cell_type": "markdown",
   "metadata": {},
   "source": [
    "## collect all text cells into a string"
   ]
  },
  {
   "cell_type": "code",
   "execution_count": 10,
   "metadata": {},
   "outputs": [
    {
     "data": {
      "text/plain": [
       "415"
      ]
     },
     "execution_count": 10,
     "metadata": {},
     "output_type": "execute_result"
    }
   ],
   "source": [
    "text_list = [t.lower() for t in vert_training_subset_df.text]\n",
    "len(text_list)"
   ]
  },
  {
   "cell_type": "code",
   "execution_count": 12,
   "metadata": {},
   "outputs": [
    {
     "data": {
      "text/plain": [
       "['the 2015 share repurchase program authorizes the purchase of up to',\n",
       " 'remaining authorization to repurchase up to',\n",
       " 'share repurchase programs aggregating',\n",
       " 'remained unused under a repurchase program',\n",
       " 'remaining under its stock repurchase program as of december 30, 2017']"
      ]
     },
     "execution_count": 12,
     "metadata": {},
     "output_type": "execute_result"
    }
   ],
   "source": [
    "text_list[0:5]"
   ]
  },
  {
   "cell_type": "code",
   "execution_count": 15,
   "metadata": {},
   "outputs": [],
   "source": [
    "text_string = ''\n",
    "for t in text_list:\n",
    "    text_string = text_string + t + ' '"
   ]
  },
  {
   "cell_type": "code",
   "execution_count": 19,
   "metadata": {},
   "outputs": [
    {
     "data": {
      "text/plain": [
       "'the 2015 share repurchase program authorizes the purchase of up to remaining authorization to repurchase up to share repurchase programs aggregating remained unused under a repurchase program remaining under its stock repurchase program as of december 30, 2017 repurchase program share repurchase authorization utilized total authorized repurchased authorized the repurchase repurchased repurchased repurchase the company had repurchased a total of approximately august 2015 total stock repurchase au'"
      ]
     },
     "execution_count": 19,
     "metadata": {},
     "output_type": "execute_result"
    }
   ],
   "source": [
    "text_string[:500]"
   ]
  },
  {
   "cell_type": "markdown",
   "metadata": {},
   "source": [
    "## tokenize text"
   ]
  },
  {
   "cell_type": "code",
   "execution_count": 26,
   "metadata": {},
   "outputs": [],
   "source": [
    "text_tokens = [w for w in word_tokenize(text_string) if w.isalpha()]"
   ]
  },
  {
   "cell_type": "code",
   "execution_count": 29,
   "metadata": {},
   "outputs": [
    {
     "data": {
      "text/plain": [
       "['the',\n",
       " 'share',\n",
       " 'repurchase',\n",
       " 'program',\n",
       " 'authorizes',\n",
       " 'the',\n",
       " 'purchase',\n",
       " 'of',\n",
       " 'up',\n",
       " 'to']"
      ]
     },
     "execution_count": 29,
     "metadata": {},
     "output_type": "execute_result"
    }
   ],
   "source": [
    "text_tokens[0:10]"
   ]
  },
  {
   "cell_type": "code",
   "execution_count": 39,
   "metadata": {},
   "outputs": [],
   "source": [
    "# take out stop words\n",
    "no_stops = [t for t in text_tokens if t not in stopwords.words('english')]"
   ]
  },
  {
   "cell_type": "code",
   "execution_count": 32,
   "metadata": {},
   "outputs": [
    {
     "data": {
      "text/plain": [
       "['share',\n",
       " 'repurchase',\n",
       " 'program',\n",
       " 'authorizes',\n",
       " 'purchase',\n",
       " 'remaining',\n",
       " 'authorization',\n",
       " 'repurchase',\n",
       " 'share',\n",
       " 'repurchase']"
      ]
     },
     "execution_count": 32,
     "metadata": {},
     "output_type": "execute_result"
    }
   ],
   "source": [
    "no_stops[0:10]"
   ]
  },
  {
   "cell_type": "code",
   "execution_count": 37,
   "metadata": {
    "scrolled": true
   },
   "outputs": [
    {
     "data": {
      "text/plain": [
       "[('repurchase', 195),\n",
       " ('authorized', 142),\n",
       " ('board', 128),\n",
       " ('directors', 107),\n",
       " ('program', 83),\n",
       " ('share', 63),\n",
       " ('authorization', 51),\n",
       " ('total', 45),\n",
       " ('company', 44),\n",
       " ('remaining', 34),\n",
       " ('december', 32),\n",
       " ('additional', 30),\n",
       " ('approved', 29),\n",
       " ('stock', 23),\n",
       " ('shares', 22),\n",
       " ('purchase', 18),\n",
       " ('available', 18),\n",
       " ('remained', 17),\n",
       " ('repurchased', 16),\n",
       " ('common', 15),\n",
       " ('new', 15),\n",
       " ('announced', 14),\n",
       " ('plan', 12),\n",
       " ('authorizing', 12),\n",
       " ('aggregate', 12),\n",
       " ('repurchases', 12),\n",
       " ('authority', 11),\n",
       " ('cost', 7),\n",
       " ('increase', 6),\n",
       " ('purchased', 6)]"
      ]
     },
     "execution_count": 37,
     "metadata": {},
     "output_type": "execute_result"
    }
   ],
   "source": [
    "# display 30 most frequent with their frequency\n",
    "Counter(no_stops).most_common(30)"
   ]
  },
  {
   "cell_type": "markdown",
   "metadata": {},
   "source": [
    "## Use text tokens to define paragraphs in a filing\n",
    "For each filing/html text\n",
    "1. identify matches of tokens in the filing\n",
    "2. define a paragraph as that tokens position plus and minus half the mean length of the paragraphs. \n",
    "3. if any paragraphs overlap, merge them into one"
   ]
  },
  {
   "cell_type": "code",
   "execution_count": 40,
   "metadata": {},
   "outputs": [],
   "source": [
    "# read in an html\n",
    "filing_path = 'data/nc_training_filings/0001193125-17-248016.html'\n",
    "with open(filing_path) as file:\n",
    "    file_html = file.read()"
   ]
  },
  {
   "cell_type": "code",
   "execution_count": 43,
   "metadata": {},
   "outputs": [
    {
     "data": {
      "text/plain": [
       "'<!DOCTYPE html>\\n<html xmlns=\"http://www.w3.org/1999/xhtml\">\\n<head>\\n<meta name=\"generator\" content=\\n\"HTML Tidy for HTML5 (experimental) for Linux https://github.com/w3c/tidy-html5/tree/68a9e74\" />\\n<title>10-K</title>\\n<title>EX-21.1</title>\\n<title>EX-23.1</title>\\n<title>EX-31.1</title>\\n<title>EX-31.2</title>\\n<title>EX-32.1</title>\\n\\n<style type=\"text/css\">\\n/*<![CDATA[*/\\n body {\\n  background-color: white;\\n }\\n p.c92 {font-family: Times New Roman; font-size: 80%; margin-bottom: 1px; margin-left: 1.00em; margin-top: 0px; text-indent: -1.00em}\\n p.c91 {font-family: Times New Roman; font-size: 70%; text-align: left}\\n p.c90 {font-family: Times New Roman; font-size: 80%; margin-bottom: 0px; margin-left: 1.00em; margin-top: 0px; text-indent: -1.00em}\\n p.c89 {font-family: Times New Roman; font-size: 80%; margin-bottom: 1px; margin-top: 0px}\\n p.c88 {font-family: Times New Roman; font-size: 80%; margin-bottom: 1px; margin-top: 0px; text-align: center}\\n p.c87 {font-family: Times New Roman; font-size: 8'"
      ]
     },
     "execution_count": 43,
     "metadata": {},
     "output_type": "execute_result"
    }
   ],
   "source": [
    "file_html[0:1000]"
   ]
  },
  {
   "cell_type": "code",
   "execution_count": 45,
   "metadata": {},
   "outputs": [
    {
     "name": "stderr",
     "output_type": "stream",
     "text": [
      "/Users/paulomartinez/anaconda3/lib/python3.6/site-packages/bs4/__init__.py:181: UserWarning: No parser was explicitly specified, so I'm using the best available HTML parser for this system (\"lxml\"). This usually isn't a problem, but if you run this code on another system, or in a different virtual environment, it may use a different parser and behave differently.\n",
      "\n",
      "The code that caused this warning is on line 193 of the file /Users/paulomartinez/anaconda3/lib/python3.6/runpy.py. To get rid of this warning, change code that looks like this:\n",
      "\n",
      " BeautifulSoup(YOUR_MARKUP})\n",
      "\n",
      "to this:\n",
      "\n",
      " BeautifulSoup(YOUR_MARKUP, \"lxml\")\n",
      "\n",
      "  markup_type=markup_type))\n"
     ]
    }
   ],
   "source": [
    "# filter out html and css\n",
    "parsed_html = BeautifulSoup(file_html)"
   ]
  },
  {
   "cell_type": "code",
   "execution_count": 49,
   "metadata": {},
   "outputs": [
    {
     "data": {
      "text/plain": [
       "'\\nTable of Contents\\nUNITED STATES\\nSECURITIES AND EXCHANGE COMMISSION\\nWashington, D.C. 20549\\n\\nFORM 10-K\\n\\n[X] ANNUAL REPORT PURSUANT TO SECTION 13 OR 15(d) OF\\nTHE SECURITIES EXCHANGE ACT OF 1934\\n\\nFor the fiscal year ended June 30, 2017\\n\\nCommission file number: 001-15317\\n\\nRESMED INC.\\n(Exact name of registrant as specified in its charter)\\n\\nDELAWARE\\n(State or other jurisdiction of incorporation or organization)\\n\\n98-0152841\\n(IRS Employer Identification No.)\\n\\n9001 Spectrum Center Blvd.\\nSan Diego, CA 921'"
      ]
     },
     "execution_count": 49,
     "metadata": {},
     "output_type": "execute_result"
    }
   ],
   "source": [
    "parsed_html.body.text[0:500]"
   ]
  },
  {
   "cell_type": "code",
   "execution_count": 57,
   "metadata": {},
   "outputs": [
    {
     "name": "stdout",
     "output_type": "stream",
     "text": [
      "\n",
      "Table of Contents\n",
      "UNITED STATES\n",
      "SECURITIES AND EXCHANGE COMMISSION\n",
      "Washington, D.C. 20549\n",
      "\n",
      "FORM 10-K\n",
      "\n",
      "[X] ANNUAL REPORT PURSUANT TO SECTION 13 OR 15(d) OF\n",
      "THE SECURITIES EXCHANGE ACT OF 1934\n",
      "\n",
      "For the fiscal year ended June 30, 2017\n",
      "\n",
      "Commission file number: 001-15317\n",
      "\n",
      "RESMED INC.\n",
      "(Exact name of regi\n"
     ]
    }
   ],
   "source": [
    "print(parsed_html.body.text[0:300])"
   ]
  },
  {
   "cell_type": "code",
   "execution_count": 58,
   "metadata": {},
   "outputs": [
    {
     "name": "stdout",
     "output_type": "stream",
     "text": [
      "\n",
      "table of contents\n",
      "united states\n",
      "securities and exchange commission\n",
      "washington, d.c. 20549\n",
      "\n",
      "form 10-k\n",
      "\n",
      "[x] annual report pursuant to section 13 or 15(d) of\n",
      "the securities exchange act of 1934\n",
      "\n",
      "for the fiscal year ended june 30, 2017\n",
      "\n",
      "commission file number: 001-15317\n",
      "\n",
      "resmed inc.\n",
      "(exact name of regi\n"
     ]
    }
   ],
   "source": [
    "# convert filing to lower case\n",
    "string_filing = parsed_html.body.text.lower()\n",
    "print(string_filing[0:300])"
   ]
  },
  {
   "cell_type": "code",
   "execution_count": 59,
   "metadata": {},
   "outputs": [
    {
     "data": {
      "text/plain": [
       "57"
      ]
     },
     "execution_count": 59,
     "metadata": {},
     "output_type": "execute_result"
    }
   ],
   "source": [
    "# this code will find the index of the first match of a substring in a string\n",
    "string_filing.index('commission')"
   ]
  },
  {
   "cell_type": "code",
   "execution_count": 60,
   "metadata": {},
   "outputs": [
    {
     "data": {
      "text/plain": [
       "'c'"
      ]
     },
     "execution_count": 60,
     "metadata": {},
     "output_type": "execute_result"
    }
   ],
   "source": [
    "string_filing[57]"
   ]
  },
  {
   "cell_type": "code",
   "execution_count": 83,
   "metadata": {},
   "outputs": [
    {
     "data": {
      "text/plain": [
       "[[158230, 158240],\n",
       " [158362, 158372],\n",
       " [158784, 158794],\n",
       " [158870, 158880],\n",
       " [158924, 158934],\n",
       " [159049, 159059],\n",
       " [167348, 167358],\n",
       " [167519, 167529],\n",
       " [167594, 167604],\n",
       " [187003, 187013],\n",
       " [191574, 191584],\n",
       " [191711, 191721],\n",
       " [294784, 294794],\n",
       " [294918, 294928],\n",
       " [295230, 295240],\n",
       " [295486, 295496],\n",
       " [295609, 295619],\n",
       " [295680, 295690],\n",
       " [295778, 295788],\n",
       " [295850, 295860],\n",
       " [295949, 295959],\n",
       " [296055, 296065],\n",
       " [296104, 296114],\n",
       " [296190, 296200],\n",
       " [296396, 296406],\n",
       " [296433, 296443]]"
      ]
     },
     "execution_count": 83,
     "metadata": {},
     "output_type": "execute_result"
    }
   ],
   "source": [
    "# get the starting and ending index of a all substrings in string\n",
    "tok_hits1 = [[m.start(),m.end()] for m in re.finditer('repurchase', string_filing)]\n",
    "tok_hits1"
   ]
  },
  {
   "cell_type": "code",
   "execution_count": 84,
   "metadata": {},
   "outputs": [
    {
     "data": {
      "text/plain": [
       "[158230, 158240]"
      ]
     },
     "execution_count": 84,
     "metadata": {},
     "output_type": "execute_result"
    }
   ],
   "source": [
    "tok_hits1[0]"
   ]
  },
  {
   "cell_type": "code",
   "execution_count": 85,
   "metadata": {},
   "outputs": [
    {
     "data": {
      "text/plain": [
       "158230"
      ]
     },
     "execution_count": 85,
     "metadata": {},
     "output_type": "execute_result"
    }
   ],
   "source": [
    "tok_hits1[0][0]"
   ]
  },
  {
   "cell_type": "markdown",
   "metadata": {},
   "source": [
    "### define a paragraph as a slice centered at the matched token +- half the median length of paragraphs"
   ]
  },
  {
   "cell_type": "code",
   "execution_count": 79,
   "metadata": {},
   "outputs": [
    {
     "data": {
      "text/plain": [
       "[565, 451, 884, 884, 520, 520, 359, 359, 1281, 436]"
      ]
     },
     "execution_count": 79,
     "metadata": {},
     "output_type": "execute_result"
    }
   ],
   "source": [
    "par_lengths = [len(par) for par in vert_training_subset_df.paragraph_text]\n",
    "par_lengths[0:10]"
   ]
  },
  {
   "cell_type": "code",
   "execution_count": 76,
   "metadata": {},
   "outputs": [
    {
     "data": {
      "text/plain": [
       "640.6289156626506"
      ]
     },
     "execution_count": 76,
     "metadata": {},
     "output_type": "execute_result"
    }
   ],
   "source": [
    "np.mean(par_lengths)"
   ]
  },
  {
   "cell_type": "code",
   "execution_count": 77,
   "metadata": {},
   "outputs": [
    {
     "data": {
      "text/plain": [
       "568.0"
      ]
     },
     "execution_count": 77,
     "metadata": {},
     "output_type": "execute_result"
    }
   ],
   "source": [
    "np.median(par_lengths)"
   ]
  },
  {
   "cell_type": "code",
   "execution_count": 72,
   "metadata": {},
   "outputs": [
    {
     "data": {
      "text/plain": [
       "(array([ 79., 131., 100.,  56.,  28.,  11.,   6.,   2.,   0.,   2.]),\n",
       " array([  84. ,  329.2,  574.4,  819.6, 1064.8, 1310. , 1555.2, 1800.4,\n",
       "        2045.6, 2290.8, 2536. ]),\n",
       " <a list of 10 Patch objects>)"
      ]
     },
     "execution_count": 72,
     "metadata": {},
     "output_type": "execute_result"
    },
    {
     "data": {
      "image/png": "[encoded data removed]",
      "text/plain": [
       "<Figure size 432x288 with 1 Axes>"
      ]
     },
     "metadata": {},
     "output_type": "display_data"
    }
   ],
   "source": [
    "plt.hist(par_lengths)"
   ]
  },
  {
   "cell_type": "code",
   "execution_count": 78,
   "metadata": {},
   "outputs": [
    {
     "data": {
      "text/plain": [
       "366.2057912888913"
      ]
     },
     "execution_count": 78,
     "metadata": {},
     "output_type": "execute_result"
    }
   ],
   "source": [
    "np.std(par_lengths)"
   ]
  },
  {
   "cell_type": "code",
   "execution_count": 92,
   "metadata": {},
   "outputs": [
    {
     "data": {
      "text/plain": [
       "366"
      ]
     },
     "execution_count": 92,
     "metadata": {},
     "output_type": "execute_result"
    }
   ],
   "source": [
    "int(np.std(par_lengths))"
   ]
  },
  {
   "cell_type": "code",
   "execution_count": 88,
   "metadata": {},
   "outputs": [
    {
     "data": {
      "text/plain": [
       "[158230, 158240]"
      ]
     },
     "execution_count": 88,
     "metadata": {},
     "output_type": "execute_result"
    }
   ],
   "source": [
    "tok_hits1[0]"
   ]
  },
  {
   "cell_type": "code",
   "execution_count": 93,
   "metadata": {},
   "outputs": [
    {
     "data": {
      "text/plain": [
       "'pensation plans\\n\\nthe information included under item 12 of part iii of this report, \"security ownership of\\ncertain beneficial owners and management and related stockholder matters,\" is hereby incorporated by reference\\ninto this item 5 of part ii of this report.\\n\\npurchases of equity securities\\n\\non february 21, 2014, our board of directors approved or current share repurchase program,\\nauthorizing us to acquire up to an aggregate of 20 million shares of our common stock. the program allows us to\\nrepurchase shares of our common stock from time to time for cash in the open market, or in negotiated or block\\ntransactions, as market and business conditions warrant and subject to applicable legal requirements. there is\\nno expiration date for'"
      ]
     },
     "execution_count": 93,
     "metadata": {},
     "output_type": "execute_result"
    }
   ],
   "source": [
    "# defin paragraph with added margin\n",
    "par1 = string_filing[tok_hits1[0][0] - int(np.std(par_lengths)) : tok_hits1[0][1] + int(np.std(par_lengths))]\n",
    "par1"
   ]
  },
  {
   "cell_type": "code",
   "execution_count": 94,
   "metadata": {},
   "outputs": [
    {
     "name": "stdout",
     "output_type": "stream",
     "text": [
      "pensation plans\n",
      "\n",
      "the information included under item 12 of part iii of this report, \"security ownership of\n",
      "certain beneficial owners and management and related stockholder matters,\" is hereby incorporated by reference\n",
      "into this item 5 of part ii of this report.\n",
      "\n",
      "purchases of equity securities\n",
      "\n",
      "on february 21, 2014, our board of directors approved or current share repurchase program,\n",
      "authorizing us to acquire up to an aggregate of 20 million shares of our common stock. the program allows us to\n",
      "repurchase shares of our common stock from time to time for cash in the open market, or in negotiated or block\n",
      "transactions, as market and business conditions warrant and subject to applicable legal requirements. there is\n",
      "no expiration date for\n"
     ]
    }
   ],
   "source": [
    "print(par1)"
   ]
  },
  {
   "cell_type": "markdown",
   "metadata": {},
   "source": [
    "## Merge overlapping Paragraphs"
   ]
  },
  {
   "cell_type": "code",
   "execution_count": null,
   "metadata": {},
   "outputs": [],
   "source": []
  }
 ],
 "metadata": {
  "kernelspec": {
   "display_name": "Python 3",
   "language": "python",
   "name": "python3"
  },
  "language_info": {
   "codemirror_mode": {
    "name": "ipython",
    "version": 3
   },
   "file_extension": ".py",
   "mimetype": "text/x-python",
   "name": "python",
   "nbconvert_exporter": "python",
   "pygments_lexer": "ipython3",
   "version": "3.6.5"
  }
 },
 "nbformat": 4,
 "nbformat_minor": 2
}

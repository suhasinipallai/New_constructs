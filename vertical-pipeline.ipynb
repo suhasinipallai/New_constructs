{
 "cells": [
  {
   "cell_type": "markdown",
   "metadata": {},
   "source": [
    "**Vertical Strategy: Use text column to predict tex_paragraph column**\n",
    "\n",
    "**Outline**\n",
    "\n",
    "1. ✅ filter out stopwords in text column\n",
    "    - word tokenize text column\n",
    "2. ✅  use token match in big string to define candidate paragraphs\n",
    "    - merge overlapping paragraphs\n",
    "3. ✅ Score/rank paragraphs\n",
    "    - some terms will be more relevant/weighted than others\n",
    "    - also score them by requency\n",
    "4. ✅ Check similarity between predicted paragraphs and actual paragraphs"
   ]
  },
  {
   "cell_type": "markdown",
   "metadata": {},
   "source": [
    "# Vertical Pipeline: turn vertical strategy into something easily iterable\n",
    "- like a function callable on an html that returns a nominated paragraph"
   ]
  },
  {
   "cell_type": "code",
   "execution_count": 1,
   "metadata": {},
   "outputs": [],
   "source": [
    "import os\n",
    "import glob\n",
    "\n",
    "import pandas as pd\n",
    "import numpy as np\n",
    "from matplotlib import pyplot as plt\n",
    "\n",
    "from collections import Counter\n",
    "\n",
    "from bs4 import BeautifulSoup\n",
    "import re\n",
    "from nltk.corpus import stopwords\n",
    "from nltk.tokenize import word_tokenize, sent_tokenize\n",
    "\n",
    "import datetime"
   ]
  },
  {
   "cell_type": "markdown",
   "metadata": {},
   "source": [
    "## Generate parameters from curated training data\n",
    "\n",
    "### read in the vertical training subset data frame"
   ]
  },
  {
   "cell_type": "code",
   "execution_count": 2,
   "metadata": {},
   "outputs": [
    {
     "data": {
      "text/html": [
       "<div>\n",
       "<style scoped>\n",
       "    .dataframe tbody tr th:only-of-type {\n",
       "        vertical-align: middle;\n",
       "    }\n",
       "\n",
       "    .dataframe tbody tr th {\n",
       "        vertical-align: top;\n",
       "    }\n",
       "\n",
       "    .dataframe thead th {\n",
       "        text-align: right;\n",
       "    }\n",
       "</style>\n",
       "<table border=\"1\" class=\"dataframe\">\n",
       "  <thead>\n",
       "    <tr style=\"text-align: right;\">\n",
       "      <th></th>\n",
       "      <th>ticker</th>\n",
       "      <th>accession_number</th>\n",
       "      <th>data_key_friendly_name</th>\n",
       "      <th>text</th>\n",
       "      <th>data_value</th>\n",
       "      <th>reported_data_value</th>\n",
       "      <th>reported_units</th>\n",
       "      <th>paragraph_text</th>\n",
       "    </tr>\n",
       "  </thead>\n",
       "  <tbody>\n",
       "    <tr>\n",
       "      <th>0</th>\n",
       "      <td>A</td>\n",
       "      <td>0001090872-17-000018</td>\n",
       "      <td>Share Repurchase Authorization</td>\n",
       "      <td>The 2015 share repurchase program authorizes t...</td>\n",
       "      <td>1140000000</td>\n",
       "      <td>1.14</td>\n",
       "      <td>billions</td>\n",
       "      <td>On May 28, 2015 we  announced that our board  ...</td>\n",
       "    </tr>\n",
       "    <tr>\n",
       "      <th>1</th>\n",
       "      <td>A</td>\n",
       "      <td>0001090872-17-000018</td>\n",
       "      <td>Share Repurchase Intention</td>\n",
       "      <td>remaining authorization to repurchase up to</td>\n",
       "      <td>610000000</td>\n",
       "      <td>610.00</td>\n",
       "      <td>millions</td>\n",
       "      <td>Table of Contents   2016, upon the completion ...</td>\n",
       "    </tr>\n",
       "  </tbody>\n",
       "</table>\n",
       "</div>"
      ],
      "text/plain": [
       "  ticker      accession_number          data_key_friendly_name  \\\n",
       "0      A  0001090872-17-000018  Share Repurchase Authorization   \n",
       "1      A  0001090872-17-000018      Share Repurchase Intention   \n",
       "\n",
       "                                                text  data_value  \\\n",
       "0  The 2015 share repurchase program authorizes t...  1140000000   \n",
       "1        remaining authorization to repurchase up to   610000000   \n",
       "\n",
       "   reported_data_value reported_units  \\\n",
       "0                 1.14       billions   \n",
       "1               610.00       millions   \n",
       "\n",
       "                                      paragraph_text  \n",
       "0  On May 28, 2015 we  announced that our board  ...  \n",
       "1  Table of Contents   2016, upon the completion ...  "
      ]
     },
     "execution_count": 2,
     "metadata": {},
     "output_type": "execute_result"
    }
   ],
   "source": [
    "### read in the vertical training subset\n",
    "vert_training_subset_df = pd.read_csv('data/vertical_training_subset.csv', index_col=[0])\n",
    "vert_training_subset_df.head(2)"
   ]
  },
  {
   "cell_type": "code",
   "execution_count": null,
   "metadata": {},
   "outputs": [],
   "source": [
    "### these are the only dkfns that I'm currently working with\n",
    "print(set(vert_training_subset_df.data_key_friendly_name))"
   ]
  },
  {
   "cell_type": "code",
   "execution_count": 4,
   "metadata": {},
   "outputs": [
    {
     "data": {
      "text/plain": [
       "['Unknown Share Repurchase Data',\n",
       " 'Share Repurchase Utilization',\n",
       " 'Share Repurchase Intention',\n",
       " 'Share Repurchase Authorization']"
      ]
     },
     "execution_count": 4,
     "metadata": {},
     "output_type": "execute_result"
    }
   ],
   "source": [
    "relevant_dkfns = list(set(vert_training_subset_df.data_key_friendly_name))\n",
    "relevant_dkfns"
   ]
  },
  {
   "cell_type": "markdown",
   "metadata": {},
   "source": [
    "### generate key_tokens from text colum"
   ]
  },
  {
   "cell_type": "code",
   "execution_count": 5,
   "metadata": {},
   "outputs": [],
   "source": [
    "### compile a string from the text column\n",
    "\n",
    "text_list = [t.lower() for t in vert_training_subset_df.text]\n",
    "#print('This is what the text_list looks like: ')\n",
    "#print(\"----------------------------\")\n",
    "#print(text_list[0:3])\n",
    "#print(\"----------------------------\")\n",
    "text_string = ''\n",
    "for t in text_list:\n",
    "    text_string = text_string + t + ' '\n",
    "#print(\"\")\n",
    "#print(\"And now this is what the flattened text_string looks like: \")\n",
    "#print(\"----------------------------\")\n",
    "#print(text_string[0:250])\n",
    "#print(\"----------------------------\")"
   ]
  },
  {
   "cell_type": "code",
   "execution_count": 6,
   "metadata": {},
   "outputs": [],
   "source": [
    "### tokenize the text string\n",
    "\n",
    "text_tokens = [w for w in word_tokenize(text_string) if w.isalpha()]\n",
    "no_stops = [t for t in text_tokens if t not in stopwords.words('english')]\n",
    "#print(no_stops[0:10])\n",
    "\n",
    "### limit ourselves to the 30 most common tokens\n",
    "    # although this can be modulated if necessary\n",
    "key_tokens = pd.DataFrame(Counter(no_stops).most_common(30))\n",
    "key_tokens.columns = ['key_tok', 'kt_count']"
   ]
  },
  {
   "cell_type": "markdown",
   "metadata": {},
   "source": [
    "can probably improve the above list of key_tokens by using less than 30 terms.... maybe"
   ]
  },
  {
   "cell_type": "markdown",
   "metadata": {},
   "source": [
    "#### 🤔 I could enhance my key_tokens by doing tf-idf\n",
    "- between the text column and the the html text - the text column\n",
    "    - which terms are prominent in text column that are not prominent in the rest of the html\n",
    "    - which terms are prominent in the noisy signal that are not prominent in the noise?\n",
    "- I could also enhance it by removing noisy words like 'total'"
   ]
  },
  {
   "cell_type": "markdown",
   "metadata": {},
   "source": [
    "### define paragraph margins\n",
    "as the standard deviation of paragraph lengths"
   ]
  },
  {
   "cell_type": "code",
   "execution_count": 7,
   "metadata": {},
   "outputs": [],
   "source": [
    "par_lengths = [len(par) for par in vert_training_subset_df.paragraph_text]\n",
    "margin = int(np.std(par_lengths))"
   ]
  },
  {
   "cell_type": "markdown",
   "metadata": {},
   "source": [
    "### Stage filings to be read in iterably"
   ]
  },
  {
   "cell_type": "code",
   "execution_count": 8,
   "metadata": {},
   "outputs": [],
   "source": [
    "# initialize a list of paths\n",
    "training_filings_list = []\n",
    "\n",
    "# populate the list\n",
    "for root, dirs, files in os.walk('data/nc_training_filings/'):\n",
    "    training_filings_list += glob.glob(os.path.join(root, '*.html'))\n",
    "#print(training_filings_list[0:3])"
   ]
  },
  {
   "cell_type": "markdown",
   "metadata": {},
   "source": [
    "### for now, isolate only those filings which are in my vertical training df"
   ]
  },
  {
   "cell_type": "code",
   "execution_count": 9,
   "metadata": {},
   "outputs": [
    {
     "data": {
      "text/plain": [
       "278"
      ]
     },
     "execution_count": 9,
     "metadata": {},
     "output_type": "execute_result"
    }
   ],
   "source": [
    "len(set(vert_training_subset_df.accession_number))"
   ]
  },
  {
   "cell_type": "code",
   "execution_count": 10,
   "metadata": {},
   "outputs": [
    {
     "data": {
      "text/plain": [
       "278"
      ]
     },
     "execution_count": 10,
     "metadata": {},
     "output_type": "execute_result"
    }
   ],
   "source": [
    "len(set(['data/nc_training_filings/' + an + '.html' for an in vert_training_subset_df.accession_number]))"
   ]
  },
  {
   "cell_type": "code",
   "execution_count": 11,
   "metadata": {},
   "outputs": [],
   "source": [
    "vert_training_subset_filings_list = list(set(['data/nc_training_filings/' + an + '.html' for an in vert_training_subset_df.accession_number]))\n",
    "vert_training_subset_filings_list\n",
    "assert len(vert_training_subset_filings_list) == len(set(vert_training_subset_df.accession_number))"
   ]
  },
  {
   "cell_type": "code",
   "execution_count": 12,
   "metadata": {},
   "outputs": [
    {
     "data": {
      "text/plain": [
       "278"
      ]
     },
     "execution_count": 12,
     "metadata": {},
     "output_type": "execute_result"
    }
   ],
   "source": [
    "len(vert_training_subset_filings_list)"
   ]
  },
  {
   "cell_type": "markdown",
   "metadata": {},
   "source": [
    "## This will be the beginning of the loop\n",
    "1. read in a filing\n",
    "2. call a function that\n",
    "    - defines candidate paragraphs\n",
    "    - ranks or scores candidate paragraphs to select top nominee(s)\n",
    "    - validates if predicted nominee is a good match to actual paragraph in the training csv."
   ]
  },
  {
   "cell_type": "markdown",
   "metadata": {},
   "source": [
    "# for now, lets practice on only filings in vertical_training_subset\n",
    "processing 278 filings from vert_training_subset_filings_list takes about 7 minutes, 45 seconds\n",
    "- there are lots of optimizations I could do if it becomes necessary"
   ]
  },
  {
   "cell_type": "code",
   "execution_count": 13,
   "metadata": {
    "scrolled": true
   },
   "outputs": [
    {
     "name": "stderr",
     "output_type": "stream",
     "text": [
      "/Users/paulomartinez/anaconda3/lib/python3.6/site-packages/bs4/__init__.py:181: UserWarning: No parser was explicitly specified, so I'm using the best available HTML parser for this system (\"lxml\"). This usually isn't a problem, but if you run this code on another system, or in a different virtual environment, it may use a different parser and behave differently.\n",
      "\n",
      "The code that caused this warning is on line 193 of the file /Users/paulomartinez/anaconda3/lib/python3.6/runpy.py. To get rid of this warning, change code that looks like this:\n",
      "\n",
      " BeautifulSoup(YOUR_MARKUP})\n",
      "\n",
      "to this:\n",
      "\n",
      " BeautifulSoup(YOUR_MARKUP, \"lxml\")\n",
      "\n",
      "  markup_type=markup_type))\n"
     ]
    },
    {
     "name": "stdout",
     "output_type": "stream",
     "text": [
      "\n",
      "entire cycle took  0:07:41.765502\n"
     ]
    }
   ],
   "source": [
    "# initialize some score keeping lists\n",
    "total_inclusion = []\n",
    "inclusion_rates = [] # analogous to true positive rate\n",
    "extra_baggage_rate = [] # analogous to false positive rate, (sorta, cause the actual paragraph data is not to be treated as an absolute standard).\n",
    "actual_paratokens_lengths = []\n",
    "nominated_paratokens_lengths = []\n",
    "\n",
    "t0 = datetime.datetime.now()\n",
    "\n",
    "#for filing in training_filings_list:\n",
    "#for filing in vert_training_subset_filings_list[0:100]:\n",
    "for filing in vert_training_subset_filings_list:\n",
    "    ti = datetime.datetime.now()\n",
    "    #print('processing next filing at ', ti)\n",
    "    \n",
    "    \n",
    "### this could be all be packed into a function if nec.\n",
    "###\n",
    "    # read in the filing's html\n",
    "    with open(filing) as file:\n",
    "        file_html = file.read()\n",
    "    \n",
    "    # parse the html\n",
    "    parsed_html = BeautifulSoup(file_html)\n",
    "    # filter out the html head, css, and cast to lower case\n",
    "    string_filing = parsed_html.body.text.lower()\n",
    "    \n",
    "    ################################################################\n",
    "    #define candidate paragraphs by clustering of overlapping token-hit-margins\n",
    "    #\n",
    "    #------ generate a list of token mathces / \"hits\"------------------------------\n",
    "    #\n",
    "    # collect the start and end indices of each token \"hit.\" into an ugly list of lists of tuples\n",
    "    lst_of_token_hits_lst = []\n",
    "    for i in range(len(key_tokens.key_tok[0:10])):\n",
    "        kt = key_tokens.key_tok[i]\n",
    "        lst_of_token_hits_lst.append([(str(kt), m.start(), m.end()) for m in re.finditer(kt, string_filing)])\n",
    "    #\n",
    "    # flatten the ugly list of lists of tuples into a list of tuples\n",
    "    flater_list_of_tokhits = [tpl for sublist in lst_of_token_hits_lst for tpl in sublist]\n",
    "    #\n",
    "    # order the list of token_hit tuples by starting index\n",
    "    flater_list_of_tokhits.sort(key = lambda x: x[1])\n",
    "    #\n",
    "    #-------- use the token hits to define the bounds of the candidate paragraphs -------\n",
    "    #\n",
    "    # initialize a list of candidate paragraphs and a hit tracker\n",
    "    candidate_paragraphs = []\n",
    "    hit = 0\n",
    "    #\n",
    "    # work through the hits until I exhaust the list\n",
    "    while hit < len(flater_list_of_tokhits) - 1:\n",
    "    #    \n",
    "    #    # initialize the left and right bound of a paragraph\n",
    "        leftbound = flater_list_of_tokhits[hit][1] - margin\n",
    "        rightbound = flater_list_of_tokhits[hit][2] + margin\n",
    "    #     \n",
    "    #    # loop from the hit + 1 (cause we used the former hit to initialize the bounds)\n",
    "        for i in range(hit + 1, len(flater_list_of_tokhits)):\n",
    "    #        # if the next token's start is within the current paragraph's bounds and it isnt the last hit\n",
    "            if (leftbound < flater_list_of_tokhits[i][1] < rightbound) and (i != len(flater_list_of_tokhits) - 1):\n",
    "    #            # expand the right bound with respect to next token's end\n",
    "                rightbound = flater_list_of_tokhits[i][2] + margin\n",
    "    #             \n",
    "    #        # if next token is outside the bounds of current paragraph or we are at the penultimate hit\n",
    "            else:\n",
    "    #            # if right bound is out of htmls range, then adjust it to the end of the html\n",
    "                if rightbound > len(string_filing):\n",
    "                    rightbound = len(string_filing)\n",
    "    #            # define current paragraph\n",
    "                par = string_filing[leftbound:rightbound] ########### (if the code needs to be made more efficient I could store the paragraph start and end indices instead of storing the strings)\n",
    "    #            # store the paragraph in a list of candidates\n",
    "                candidate_paragraphs.append(par)\n",
    "    #            # note which hit we need to start on for the next iteration of the while loop\n",
    "                hit = i\n",
    "    #            # now that we've found the outer bounds of the current paragraph we can interrupt the for loop\n",
    "                break #this only interrupts the nearest parent loop \n",
    "    # this is just a repetition of the above routine to handle the last hit. There is probably a better way to handle this but we can enhance that later\n",
    "    if hit == len(flater_list_of_tokhits)-1:\n",
    "        leftbound = flater_list_of_tokhits[hit][1] - margin\n",
    "        rightbound = flater_list_of_tokhits[hit][2] + margin\n",
    "        if rightbound > len(string_filing):\n",
    "            rightbound = len(string_filing)\n",
    "        par = string_filing[leftbound:rightbound]\n",
    "        candidate_paragraphs.append(par)\n",
    "    #\n",
    "    # --------------- store the candidate paragraphs in a df ------------------\n",
    "    candidate_df = pd.DataFrame(candidate_paragraphs)\n",
    "    candidate_df.columns = ['cand_par']\n",
    "    candidate_df['len'] = [len(par) for par in candidate_df.cand_par]\n",
    "    # --------------- rank the candidate paragraphs by basic length (longer paragraphs correspond to denser clusters)\n",
    "    candidate_df.sort_values(by = 'len', ascending = False, inplace = True)\n",
    "    candidate_df.reset_index(inplace = True, drop = True)\n",
    "    # --------------- filter candidates down to those with 'repurchase' in them\n",
    "    candidate_df = candidate_df[['repurchase' in par for par in candidate_df.cand_par]]\n",
    "    candidate_df.reset_index(inplace = True, drop = True)\n",
    "    # --------------- nominee(s) will be the top 1 - 3 in the filterd df\n",
    "    nominated = candidate_df.cand_par[0]\n",
    "    # clean up the nominee for validation\n",
    "    nom_validatable = re.sub(r'\\n+', ' ', nominated) # remove new lines\n",
    "    nom_validatable = re.sub(r'\\s+', ' ', nom_validatable) # trim all repeated whitespace down to one\n",
    "    # filter out stop words and non-alphanumeric content\n",
    "    # apply the same filtering process to nom_validatable\n",
    "    nominated_tokens = [wt for wt in word_tokenize(nom_validatable) if (wt.isalnum() and wt not in stopwords.words('english'))] # yes there is redundancy but that can be optimized later\n",
    "    #\n",
    "    ###############################################################\n",
    "    \n",
    "    # --------------- isolate csv's actual paragraph for valiation\n",
    "    # extract the accesion number back out of the filing path\n",
    "    an = re.sub('data/nc_training_filings/', '', filing)\n",
    "    an = re.sub('.html', '', an)\n",
    "    # use it to filter down to the csv rows with that an\n",
    "    #\n",
    "    # ⚠️ notice that for expediencey I am only using the first row with a given accession number. (there could be up to 7 rows with the same accession number in the actual csv). The reason for this misalignment is because the primary purpose of this pipeline is to identify paragraphs with target information, it's purpose is not to define up to 7 paragraphs for each filing number.\n",
    "    actual_paragraph = vert_training_subset_df[vert_training_subset_df.accession_number == an].head(1).paragraph_text\n",
    "    # 🤔 to enhance this pipeline to work with the original csv I could pick my actual_paragraph to be one with a specific dkfn\n",
    "    # actual_paragraph = vert_training_subset_df[vert_training_subset_df.accession_number == an and vert_training_subset_df.data_key_friendly_name in relevant_dkfns]\n",
    "    # extract the string from the resulting pandas series\n",
    "    actual_paragraph = actual_paragraph.values[0]\n",
    "    # cast the string to lower case\n",
    "    actual_paragraph = actual_paragraph.lower()\n",
    "    # eliminate excess spaces\n",
    "    actual_paragraph = re.sub(r'\\s+', ' ', actual_paragraph)\n",
    "    # filter out stop words, punctuation, and other non-alphanumeric stuff\n",
    "    actual_tokens = [wt for wt in word_tokenize(actual_paragraph) if (wt.isalnum() and wt not in stopwords.words('english'))] #yes there is probably some redundancy here but that can be refined later\n",
    "    \n",
    "    # moment of truth\n",
    "    #---------------------------------------------------------\n",
    "    #print('Actual_paragraph in nom_validatable: ')\n",
    "    #print('----------', actual_paragraph in nom_validatable)\n",
    "    \n",
    "    # calculate the inclusion rates\n",
    "    counter = 0\n",
    "    for wt in actual_tokens:\n",
    "        if wt in nominated_tokens:\n",
    "            counter += 1\n",
    "    #print('actual tokens also in nominated_tokens')\n",
    "    #print('---------- counter = ', counter)\n",
    "    x = round(100*counter/len(actual_tokens),2)\n",
    "    #print('that is a ', x, '% inclusion')\n",
    "    #print(\"---------------------------------\")\n",
    "    #print(\"\")\n",
    "    \n",
    "    # calculate the extra_baggage_rates\n",
    "    bag_counter = 0\n",
    "    for wt in nominated_tokens:\n",
    "        if wt in actual_tokens:\n",
    "            bag_counter += 1\n",
    "    z = round(100*bag_counter/len(nominated_tokens), 2)\n",
    "    \n",
    "    # keeping score\n",
    "    # ---------------------------------------------------------\n",
    "    total_inclusion.append(actual_paragraph in nom_validatable)\n",
    "    inclusion_rates.append(x)\n",
    "    extra_baggage_rate.append(z)\n",
    "    actual_paratokens_lengths.append(len(actual_tokens))\n",
    "    nominated_paratokens_lengths.append(len(nominated_tokens))\n",
    "    \n",
    "    tf = datetime.datetime.now()\n",
    "    #print('finished processing ', len(total_inclusion), 'th filing at ', tf)\n",
    "    #print('process took', tf - ti)\n",
    "    #print(\"--------------------------\")\n",
    "\n",
    "print(\"\")\n",
    "print('entire cycle took ', tf - t0)"
   ]
  },
  {
   "cell_type": "markdown",
   "metadata": {},
   "source": [
    "#### examine total_inclusion results (though this is a rather naive metric)"
   ]
  },
  {
   "cell_type": "code",
   "execution_count": 14,
   "metadata": {},
   "outputs": [
    {
     "name": "stdout",
     "output_type": "stream",
     "text": [
      "[False, False, True, True, True, True, True, False, False, False, True, False, True, False, False, True, False, False, False, False, False, False, False, False, False, True, False, True, False, False, True, False, True, True, True, True, True, True, True, False, True, False, False, False, True, False, False, True, False, False, False, True, False, False, False, False, True, True, False, True, True, False, False, False, True, False, True, False, True, True, True, False, True, False, False, True, False, False, False, True, False, False, False, True, True, True, False, True, False, False, True, False, False, False, False, True, True, False, True, True, False, False, False, True, False, False, False, True, False, False, True, False, False, False, True, False, False, True, False, False, True, False, False, False, False, True, True, True, False, False, False, False, False, False, True, False, True, False, False, False, False, False, False, True, False, False, False, True, False, True, True, False, False, False, True, False, False, True, True, False, False, True, True, True, True, True, False, True, False, True, True, True, False, False, False, False, True, False, False, False, True, False, True, False, True, False, False, True, True, True, False, True, False, False, True, False, False, False, False, False, False, True, False, True, True, False, False, False, True, False, True, True, False, False, False, False, True, False, False, True, False, False, False, False, True, True, False, True, False, True, False, False, False, True, True, False, False, True, False, False, True, False, True, False, False, False, False, True, False, True, False, False, True, False, True, False, False, False, True, True, True, True, False, False, False, False, True, False, False, True, False, False, False, False, False, False, True, True]\n"
     ]
    }
   ],
   "source": [
    "print(total_inclusion)"
   ]
  },
  {
   "cell_type": "code",
   "execution_count": 15,
   "metadata": {},
   "outputs": [
    {
     "data": {
      "text/plain": [
       "278"
      ]
     },
     "execution_count": 15,
     "metadata": {},
     "output_type": "execute_result"
    }
   ],
   "source": [
    "# total filings processed\n",
    "len(total_inclusion)"
   ]
  },
  {
   "cell_type": "code",
   "execution_count": 16,
   "metadata": {},
   "outputs": [
    {
     "data": {
      "text/plain": [
       "108"
      ]
     },
     "execution_count": 16,
     "metadata": {},
     "output_type": "execute_result"
    }
   ],
   "source": [
    "# number of actual paragraphs 100% included\n",
    "np.array(total_inclusion).sum()"
   ]
  },
  {
   "cell_type": "code",
   "execution_count": 17,
   "metadata": {},
   "outputs": [
    {
     "name": "stdout",
     "output_type": "stream",
     "text": [
      "38.85 % total inclusion\n"
     ]
    }
   ],
   "source": [
    "# total inclusion rate\n",
    "print(round(100*np.array(total_inclusion).sum()/len(total_inclusion), 2), '% total inclusion')"
   ]
  },
  {
   "cell_type": "markdown",
   "metadata": {},
   "source": [
    "#### examine inclusion_rates (analagous to true positive rate)"
   ]
  },
  {
   "cell_type": "code",
   "execution_count": 18,
   "metadata": {},
   "outputs": [
    {
     "name": "stdout",
     "output_type": "stream",
     "text": [
      "[55.56, 100.0, 100.0, 100.0, 100.0, 100.0, 100.0, 83.87, 97.89, 71.74, 100.0, 100.0, 100.0, 34.78, 54.55, 100.0, 73.61, 30.77, 18.18, 35.29, 47.27, 88.46, 76.47, 34.92, 100.0, 100.0, 67.27, 100.0, 50.0, 39.02, 100.0, 84.38, 100.0, 100.0, 100.0, 100.0, 100.0, 100.0, 100.0, 35.19, 100.0, 67.35, 11.76, 90.2, 100.0, 42.86, 50.0, 100.0, 42.42, 100.0, 50.0, 100.0, 59.26, 89.91, 78.26, 63.41, 100.0, 100.0, 100.0, 100.0, 100.0, 76.32, 39.29, 42.86, 100.0, 48.72, 100.0, 31.11, 100.0, 100.0, 100.0, 37.04, 100.0, 31.82, 66.67, 100.0, 88.89, 19.44, 100.0, 100.0, 83.17, 63.83, 36.05, 100.0, 100.0, 100.0, 8.33, 100.0, 65.62, 97.44, 98.25, 58.33, 40.43, 97.14, 100.0, 100.0, 100.0, 100.0, 100.0, 100.0, 47.06, 26.32, 20.0, 100.0, 31.82, 83.33, 93.1, 100.0, 25.93, 28.57, 100.0, 50.0, 25.49, 40.54, 100.0, 59.18, 82.35, 100.0, 100.0, 47.83, 100.0, 100.0, 40.51, 55.56, 66.67, 100.0, 100.0, 100.0, 63.64, 100.0, 44.44, 50.0, 54.55, 35.71, 98.18, 83.84, 100.0, 13.21, 43.18, 24.32, 70.89, 66.67, 100.0, 100.0, 86.36, 39.29, 75.0, 100.0, 53.57, 100.0, 100.0, 12.12, 40.26, 25.58, 100.0, 88.52, 56.76, 100.0, 100.0, 73.53, 67.31, 100.0, 100.0, 100.0, 100.0, 100.0, 36.59, 100.0, 63.33, 100.0, 100.0, 100.0, 91.3, 66.04, 34.78, 42.31, 100.0, 36.0, 50.0, 30.77, 100.0, 15.0, 95.83, 64.62, 100.0, 16.33, 100.0, 100.0, 100.0, 100.0, 43.53, 100.0, 45.45, 50.0, 100.0, 100.0, 25.97, 65.67, 83.64, 80.21, 10.64, 100.0, 38.1, 100.0, 100.0, 32.5, 47.69, 100.0, 100.0, 75.0, 100.0, 100.0, 100.0, 35.71, 67.42, 47.5, 100.0, 36.84, 100.0, 100.0, 95.92, 93.33, 27.27, 98.0, 100.0, 100.0, 100.0, 100.0, 97.83, 100.0, 74.19, 9.52, 100.0, 100.0, 100.0, 29.47, 62.75, 100.0, 98.75, 0.0, 100.0, 28.57, 100.0, 60.82, 100.0, 35.29, 48.48, 100.0, 84.62, 100.0, 47.3, 100.0, 100.0, 68.75, 100.0, 53.33, 60.87, 100.0, 100.0, 100.0, 100.0, 100.0, 31.25, 31.25, 61.82, 18.75, 100.0, 48.21, 34.38, 100.0, 92.31, 96.61, 64.71, 64.71, 56.25, 55.24, 100.0, 100.0]\n"
     ]
    }
   ],
   "source": [
    "# rates of inclusion of actual paragraphs in predicted paragraphs\n",
    "print(inclusion_rates)"
   ]
  },
  {
   "cell_type": "code",
   "execution_count": 19,
   "metadata": {},
   "outputs": [
    {
     "data": {
      "image/png": "[encoded data removed]",
      "text/plain": [
       "<Figure size 432x288 with 1 Axes>"
      ]
     },
     "metadata": {},
     "output_type": "display_data"
    }
   ],
   "source": [
    "plt.hist(inclusion_rates, bins=20)\n",
    "plt.title('Histogram of inclusion rates')\n",
    "plt.grid()\n",
    "plt.show()"
   ]
  },
  {
   "cell_type": "code",
   "execution_count": 20,
   "metadata": {},
   "outputs": [
    {
     "data": {
      "text/plain": [
       "75.20111510791367"
      ]
     },
     "execution_count": 20,
     "metadata": {},
     "output_type": "execute_result"
    }
   ],
   "source": [
    "# mean inclusion rate\n",
    "np.mean(np.array(inclusion_rates))\n",
    "\n",
    "# before I filtered out stop words and non-alphanumeric tokens my inclusion rate was\n",
    "    # 81.56730215827338\n",
    "    # this histogram had a hump at the 60% tick and almost nothing below the 40% tick"
   ]
  },
  {
   "cell_type": "code",
   "execution_count": 21,
   "metadata": {},
   "outputs": [
    {
     "data": {
      "text/plain": [
       "93.215"
      ]
     },
     "execution_count": 21,
     "metadata": {},
     "output_type": "execute_result"
    }
   ],
   "source": [
    "# median inclusion rate\n",
    "np.median(np.array(inclusion_rates))\n",
    "\n",
    "# before I filtered out stop words and non-alphanumeric tokens median was\n",
    "    # 94.285"
   ]
  },
  {
   "cell_type": "markdown",
   "metadata": {},
   "source": [
    "#### examine extra_bagage_rate (analagous to false positive rate)"
   ]
  },
  {
   "cell_type": "code",
   "execution_count": 22,
   "metadata": {},
   "outputs": [
    {
     "name": "stdout",
     "output_type": "stream",
     "text": [
      "[23.58, 32.84, 43.88, 47.79, 17.29, 13.58, 40.75, 17.71, 46.68, 16.55, 26.66, 31.03, 38.36, 14.57, 10.22, 30.75, 43.72, 13.75, 4.23, 2.89, 23.89, 19.44, 29.6, 10.17, 14.35, 25.54, 16.98, 42.16, 5.53, 7.95, 18.9, 29.14, 14.96, 21.54, 51.8, 27.15, 23.16, 28.82, 46.91, 11.28, 15.91, 26.15, 7.75, 24.88, 11.06, 4.8, 9.85, 37.15, 13.2, 28.32, 15.76, 31.46, 7.76, 61.23, 17.77, 25.0, 29.77, 31.83, 29.87, 38.77, 45.16, 40.62, 16.29, 13.36, 47.64, 18.75, 11.16, 10.73, 13.19, 33.78, 38.55, 11.62, 44.62, 21.76, 4.94, 31.01, 23.79, 15.67, 16.93, 23.99, 36.49, 16.28, 26.07, 25.3, 55.26, 53.7, 0.23, 48.71, 19.23, 53.9, 28.46, 11.46, 18.75, 45.17, 43.68, 42.47, 34.2, 14.88, 15.04, 36.9, 16.0, 17.76, 6.07, 42.73, 8.38, 16.67, 32.64, 37.22, 3.6, 10.29, 32.34, 9.78, 3.23, 8.09, 32.26, 24.8, 28.02, 40.42, 42.21, 25.35, 49.6, 34.57, 25.72, 14.41, 23.29, 40.99, 52.82, 24.05, 9.94, 30.12, 16.06, 17.37, 23.81, 10.8, 37.43, 37.38, 12.1, 4.17, 24.0, 8.33, 16.58, 14.14, 23.8, 62.86, 12.55, 20.56, 19.62, 25.68, 22.87, 35.45, 20.85, 19.83, 13.97, 3.37, 19.21, 56.93, 19.64, 39.62, 19.93, 8.18, 16.9, 30.57, 25.91, 29.09, 28.68, 14.84, 22.05, 57.94, 23.44, 52.16, 29.93, 40.96, 31.05, 37.31, 2.36, 15.94, 28.0, 8.42, 23.51, 2.71, 24.73, 2.25, 38.43, 19.0, 41.85, 4.38, 26.4, 23.91, 33.85, 24.55, 21.91, 27.85, 6.28, 9.23, 34.22, 20.82, 13.43, 19.01, 26.45, 66.82, 2.7, 42.42, 6.64, 27.67, 43.67, 11.58, 8.62, 28.62, 39.01, 23.05, 40.69, 32.64, 23.26, 8.91, 26.2, 7.65, 15.46, 16.09, 49.66, 27.74, 45.54, 31.49, 12.06, 51.91, 53.94, 50.96, 23.77, 25.84, 34.32, 29.67, 28.25, 2.26, 20.95, 35.07, 35.61, 20.4, 21.18, 40.67, 44.28, 0.0, 41.86, 8.51, 41.7, 23.49, 41.36, 6.33, 10.42, 51.92, 19.33, 28.38, 43.99, 34.44, 15.57, 20.71, 52.85, 19.7, 20.91, 32.09, 49.07, 24.56, 45.56, 49.88, 6.04, 8.51, 38.04, 7.48, 44.24, 20.23, 11.41, 58.62, 24.38, 30.06, 35.17, 9.66, 8.48, 33.38, 35.8, 51.29]\n",
      "----------------\n",
      "mean bagage rate:  25.818705035971224\n",
      "median bagage rate:  24.025\n",
      "\n"
     ]
    }
   ],
   "source": [
    "print(extra_baggage_rate)\n",
    "print(\"----------------\")\n",
    "print('mean bagage rate: ', np.mean(np.array(extra_baggage_rate)))\n",
    "print('median bagage rate: ', np.median(np.array(extra_baggage_rate)))\n",
    "print(\"\")"
   ]
  },
  {
   "cell_type": "code",
   "execution_count": 23,
   "metadata": {},
   "outputs": [
    {
     "data": {
      "image/png": "[encoded data removed]",
      "text/plain": [
       "<Figure size 432x288 with 1 Axes>"
      ]
     },
     "metadata": {},
     "output_type": "display_data"
    }
   ],
   "source": [
    "plt.hist(extra_baggage_rate)\n",
    "plt.title('Histogram of extra bagage rate')\n",
    "plt.grid()\n",
    "plt.show()"
   ]
  },
  {
   "cell_type": "markdown",
   "metadata": {},
   "source": [
    "This histogram shows that for the majority of my nominees, 5 - 35% of their tokens are not in the actual tokens. \n",
    "- The maximum baggage percentage looks like 65% which means about two thirds of the tokens are extra baggage not found in the actual tokens"
   ]
  },
  {
   "cell_type": "markdown",
   "metadata": {},
   "source": [
    "#### compare the lengths of the actual paratokens to the nominated paratokens"
   ]
  },
  {
   "cell_type": "code",
   "execution_count": 24,
   "metadata": {},
   "outputs": [
    {
     "data": {
      "image/png": "[encoded data removed]",
      "text/plain": [
       "<Figure size 432x288 with 1 Axes>"
      ]
     },
     "metadata": {},
     "output_type": "display_data"
    }
   ],
   "source": [
    "#plt.plot(actu)\n",
    "plt.hist(actual_paratokens_lengths)\n",
    "plt.title('Hist. of actual para_token lengths')\n",
    "plt.grid()\n",
    "plt.show()"
   ]
  },
  {
   "cell_type": "code",
   "execution_count": 25,
   "metadata": {},
   "outputs": [
    {
     "name": "stdout",
     "output_type": "stream",
     "text": [
      "mean  49.514388489208635\n",
      "median 45.5\n",
      "range 185\n"
     ]
    }
   ],
   "source": [
    "print('mean ', np.mean(np.array(actual_paratokens_lengths)))\n",
    "print('median', np.median(np.array(actual_paratokens_lengths)))\n",
    "print('range', np.max(np.array(actual_paratokens_lengths)) - np.min(np.array(actual_paratokens_lengths)))"
   ]
  },
  {
   "cell_type": "markdown",
   "metadata": {},
   "source": [
    "**Now lets take a look at the nominated paratokens lengths**"
   ]
  },
  {
   "cell_type": "code",
   "execution_count": 26,
   "metadata": {},
   "outputs": [
    {
     "data": {
      "image/png": "[encoded data removed]",
      "text/plain": [
       "<Figure size 432x288 with 1 Axes>"
      ]
     },
     "metadata": {},
     "output_type": "display_data"
    }
   ],
   "source": [
    "plt.hist(nominated_paratokens_lengths)\n",
    "plt.title('Hist. of nominated_paratokens_lengths')\n",
    "plt.grid()\n",
    "plt.show()"
   ]
  },
  {
   "cell_type": "code",
   "execution_count": 27,
   "metadata": {},
   "outputs": [
    {
     "name": "stdout",
     "output_type": "stream",
     "text": [
      "mean  400.8705035971223\n",
      "median 353.0\n",
      "range 1200\n"
     ]
    }
   ],
   "source": [
    "print('mean ', np.mean(np.array(nominated_paratokens_lengths)))\n",
    "print('median', np.median(np.array(nominated_paratokens_lengths)))\n",
    "print('range', np.max(np.array(nominated_paratokens_lengths)) - np.min(np.array(nominated_paratokens_lengths)))\n"
   ]
  },
  {
   "cell_type": "code",
   "execution_count": 28,
   "metadata": {},
   "outputs": [
    {
     "data": {
      "image/png": "[encoded data removed]",
      "text/plain": [
       "<Figure size 1080x504 with 1 Axes>"
      ]
     },
     "metadata": {},
     "output_type": "display_data"
    }
   ],
   "source": [
    "plt.figure(figsize = (15,7))\n",
    "plt.plot(actual_paratokens_lengths)\n",
    "plt.plot(nominated_paratokens_lengths)\n",
    "plt.grid()\n",
    "plt.title('line plot comparison of the actual and nominated par lengths')\n",
    "plt.legend(['actual paratokens lenght', 'nominated paratokens lengths'])\n",
    "plt.show()"
   ]
  },
  {
   "cell_type": "markdown",
   "metadata": {},
   "source": [
    "Hmmm.... It looks like I am definitely including more content than they are. but at least my pipeline has a regular behavior, \n",
    "- it's not like it ever includes way to much,\n",
    "    - at worst it includes about 10 times too much\n",
    "- and it never includes too little. "
   ]
  },
  {
   "cell_type": "code",
   "execution_count": 29,
   "metadata": {},
   "outputs": [
    {
     "data": {
      "image/png": "[encoded data removed]",
      "text/plain": [
       "<Figure size 1080x504 with 1 Axes>"
      ]
     },
     "metadata": {},
     "output_type": "display_data"
    }
   ],
   "source": [
    "plt.figure(figsize = (15,7))\n",
    "plt.bar(height = actual_paratokens_lengths, alpha = 0.9,\n",
    "        x = range(len(actual_paratokens_lengths)))\n",
    "plt.bar(height = nominated_paratokens_lengths, alpha = 0.3,\n",
    "       x = range(len(nominated_paratokens_lengths)))\n",
    "plt.title('bar comparison of paratokens lengths')\n",
    "plt.legend(['actual paratokens lenght', 'nominated paratokens lengths'])\n",
    "plt.grid()\n",
    "plt.show()"
   ]
  },
  {
   "cell_type": "markdown",
   "metadata": {},
   "source": [
    "### For now, ranking paragraphs by something as unrefined as brute length is working well enough\n",
    "- this success is due to the fact that in my pipeline, length is a function of cluster density\n",
    "### filtering the candidate paragraphs to those containing 'repurchase' worked well too. "
   ]
  },
  {
   "cell_type": "markdown",
   "metadata": {},
   "source": [
    "## 🤔 💡 \n",
    "#### can enhance by counting how many key_token hits each paragraph has\n",
    "#### can enhance by assigning weighted values to certain key_tokens"
   ]
  },
  {
   "cell_type": "markdown",
   "metadata": {},
   "source": [
    "# Just how *good* are my inclusion rates?\n",
    "- If my nominated paragraphs are excessively long, then they are likely to have high inclusion (both total and partial) merely because they include too much. \n",
    "    - if my nominated paragraph was the entire HTML then i would have 100% inclusion\n",
    "\n",
    "##  Verification Metrics\n",
    "1. ✅ Inspect the length of my nominated paragraphs. \n",
    "    - compare them to the length of the actual paragraphs\n",
    "        - *Although, don't weight the actual paragraphs too heavily, my confidence in the original csv they gave us has diminished*\n",
    "            - there is a 25 - 50 % rate of noncorrespondance between a rows text and it's paragraph\n",
    "            \n",
    "2. ✅ Improve the inclusion rates by filtering out the stop words before calculating them. (filter out punctuation as well?)\n",
    "    - If an actual paragraph is 90% stop words then i'm likely to include 90% of it in any sufficiently long arbitrary english language paragraph. 🤦‍♂️ \n",
    "    - Also, calculate what % of my nominee paragraphs corresopnd to the overlap with the actual paragraphs (the \"center\" of the Venn Diagram)\n",
    "        - and, calculate what percentage corresponds to the content that does not overlap with the actual paragraphs (the nominee's side of the Venn Diagram)\n",
    "\n",
    "3. ✅ Improve my calculation of total inclusion by ensuring the actual paragraphs don't have too many new line characters."
   ]
  },
  {
   "cell_type": "markdown",
   "metadata": {},
   "source": [
    "# Run the \"pipeline\" on the entire training csv"
   ]
  },
  {
   "cell_type": "code",
   "execution_count": 30,
   "metadata": {},
   "outputs": [],
   "source": [
    "# read in the csv\n",
    "share_rprchs_prgrph_df = pd.read_csv('data/share_repurchase_paragraphs.csv')\n",
    "\n",
    "# Generate parameters from the csv\n",
    "par_lengths = [len(par) for par in share_rprchs_prgrph_df.paragraph_text]\n",
    "margin = int(np.std(par_lengths))\n",
    "\n",
    "# key_tokens.key_tok is already defined above"
   ]
  },
  {
   "cell_type": "code",
   "execution_count": 31,
   "metadata": {},
   "outputs": [
    {
     "data": {
      "text/plain": [
       "435"
      ]
     },
     "execution_count": 31,
     "metadata": {},
     "output_type": "execute_result"
    }
   ],
   "source": [
    "len(set(share_rprchs_prgrph_df.accession_number))"
   ]
  },
  {
   "cell_type": "markdown",
   "metadata": {},
   "source": [
    "if it took about 8 minutes to process 278 filings\n",
    "then it should take less than 15 minutes to process 435 🤞 "
   ]
  },
  {
   "cell_type": "code",
   "execution_count": 33,
   "metadata": {
    "scrolled": false
   },
   "outputs": [
    {
     "name": "stderr",
     "output_type": "stream",
     "text": [
      "/Users/paulomartinez/anaconda3/lib/python3.6/site-packages/bs4/__init__.py:181: UserWarning: No parser was explicitly specified, so I'm using the best available HTML parser for this system (\"lxml\"). This usually isn't a problem, but if you run this code on another system, or in a different virtual environment, it may use a different parser and behave differently.\n",
      "\n",
      "The code that caused this warning is on line 193 of the file /Users/paulomartinez/anaconda3/lib/python3.6/runpy.py. To get rid of this warning, change code that looks like this:\n",
      "\n",
      " BeautifulSoup(YOUR_MARKUP})\n",
      "\n",
      "to this:\n",
      "\n",
      " BeautifulSoup(YOUR_MARKUP, \"lxml\")\n",
      "\n",
      "  markup_type=markup_type))\n"
     ]
    },
    {
     "name": "stdout",
     "output_type": "stream",
     "text": [
      "accession number 0000815556-18-000010 did not have a relevant dkfn row in the data frame\n",
      "accession number 0000109380-18-000102 did not have a relevant dkfn row in the data frame\n",
      "accession number 0001058090-18-000018 did not have a relevant dkfn row in the data frame\n",
      "accession number 0001043277-18-000007 did not have a relevant dkfn row in the data frame\n",
      "accession number 0001144204-18-020717 did not have a relevant dkfn row in the data frame\n",
      "accession number 0001113169-18-000009 did not have a relevant dkfn row in the data frame\n",
      "accession number 0000045012-18-000059 did not have a relevant dkfn row in the data frame\n",
      "accession number 0000096223-18-000009 did not have a relevant dkfn row in the data frame\n",
      "accession number 0000029905-18-000013 did not have a relevant dkfn row in the data frame\n",
      "accession number 0001095073-18-000008 did not have a relevant dkfn row in the data frame\n",
      "accession number 0000091419-17-000005 did not have a relevant dkfn row in the data frame\n",
      "accession number 0001193125-18-054181 did not have a relevant dkfn row in the data frame\n",
      "accession number 0001047469-18-000900 did not have a relevant dkfn row in the data frame\n",
      "accession number 0000874766-18-000011 did not have a relevant dkfn row in the data frame\n",
      "accession number 0000033185-18-000011 did not have a relevant dkfn row in the data frame\n",
      "accession number 0000277135-18-000007 did not have a relevant dkfn row in the data frame\n",
      "accession number 0001051470-18-000082 did not have a relevant dkfn row in the data frame\n",
      "accession number 0000319201-17-000034 did not have a relevant dkfn row in the data frame\n",
      "accession number 0000107815-18-000134 did not have a relevant dkfn row in the data frame\n",
      "failed to define a single candidate paragraph for filing data/nc_training_filings/0000034088-18-000015.html\n",
      "defaulted to using the nominated paragraph from the last filing\n",
      "accession number 0000034088-18-000015 did not have a relevant dkfn row in the data frame\n",
      "accession number 0001396009-18-000011 did not have a relevant dkfn row in the data frame\n",
      "accession number 0001193125-18-038261 did not have a relevant dkfn row in the data frame\n",
      "accession number 0001193125-18-048314 did not have a relevant dkfn row in the data frame\n",
      "accession number 0001193125-18-055887 did not have a relevant dkfn row in the data frame\n",
      "accession number 0001467373-17-000430 did not have a relevant dkfn row in the data frame\n",
      "accession number 0000320335-18-000006 did not have a relevant dkfn row in the data frame\n",
      "accession number 0001047469-18-001158 did not have a relevant dkfn row in the data frame\n",
      "accession number 0000007084-18-000012 did not have a relevant dkfn row in the data frame\n",
      "accession number 0001628280-18-005268 did not have a relevant dkfn row in the data frame\n",
      "accession number 0001628280-18-001552 did not have a relevant dkfn row in the data frame\n",
      "accession number 0000072903-18-000009 did not have a relevant dkfn row in the data frame\n",
      "accession number 0001193125-18-046681 did not have a relevant dkfn row in the data frame\n",
      "accession number 0000829224-17-000049 did not have a relevant dkfn row in the data frame\n",
      "\n",
      "entire cycle took  0:11:50.919940\n"
     ]
    }
   ],
   "source": [
    "# initialize some score keeping lists\n",
    "total_inclusion = []\n",
    "inclusion_rates = [] # analogous to true positive rate\n",
    "extra_baggage_rate = [] # analogous to false positive rate, (sorta, cause the actual paragraph data is not to be treated as an absolute standard).\n",
    "actual_paratokens_lengths = []\n",
    "nominated_paratokens_lengths = []\n",
    "filings_not_in_df = [] # track which, if any, filings were not found in the df\n",
    "no_tokhits_filings = [] # track which filings I failed to find hits for, if any\n",
    "\n",
    "t0 = datetime.datetime.now()\n",
    "\n",
    "for filing in training_filings_list:\n",
    "#for filing in vert_training_subset_filings_list:\n",
    "    ti = datetime.datetime.now()\n",
    "    #print('processing next filing at ', ti)\n",
    "    \n",
    "    \n",
    "### this could be all be packed into a function if nec.\n",
    "###\n",
    "    # read in the filing's html\n",
    "    with open(filing) as file:\n",
    "        file_html = file.read()\n",
    "    \n",
    "    # parse the html\n",
    "    parsed_html = BeautifulSoup(file_html)\n",
    "    # filter out the html head, css, and cast to lower case\n",
    "    string_filing = parsed_html.body.text.lower()\n",
    "    \n",
    "    ################################################################\n",
    "    #define candidate paragraphs by clustering of overlapping token-hit-margins\n",
    "    #\n",
    "    #------ generate a list of token mathces / \"hits\"------------------------------\n",
    "    #\n",
    "    # collect the start and end indices of each token \"hit.\" into an ugly list of lists of tuples\n",
    "    lst_of_token_hits_lst = []\n",
    "    for i in range(len(key_tokens.key_tok[0:10])):\n",
    "        kt = key_tokens.key_tok[i]\n",
    "        lst_of_token_hits_lst.append([(str(kt), m.start(), m.end()) for m in re.finditer(kt, string_filing)])\n",
    "    #\n",
    "    # flatten the ugly list of lists of tuples into a list of tuples\n",
    "    flater_list_of_tokhits = [tpl for sublist in lst_of_token_hits_lst for tpl in sublist]\n",
    "    #\n",
    "    # order the list of token_hit tuples by starting index\n",
    "    flater_list_of_tokhits.sort(key = lambda x: x[1])\n",
    "    #\n",
    "    #-------- use the token hits to define the bounds of the candidate paragraphs -------\n",
    "    #\n",
    "    # initialize a list of candidate paragraphs and a hit tracker\n",
    "    candidate_paragraphs = []\n",
    "    hit = 0\n",
    "    #\n",
    "    # work through the hits until I exhaust the list\n",
    "    while hit < len(flater_list_of_tokhits) - 1:\n",
    "    #    \n",
    "    #    # initialize the left and right bound of a paragraph\n",
    "        leftbound = flater_list_of_tokhits[hit][1] - margin\n",
    "        rightbound = flater_list_of_tokhits[hit][2] + margin\n",
    "    #     \n",
    "    #    # loop from the hit + 1 (cause we used the former hit to initialize the bounds)\n",
    "        for i in range(hit + 1, len(flater_list_of_tokhits)):\n",
    "    #        # if the next token's start is within the current paragraph's bounds and it isnt the last hit\n",
    "            if (leftbound < flater_list_of_tokhits[i][1] < rightbound) and (i != len(flater_list_of_tokhits) - 1):\n",
    "    #            # expand the right bound with respect to next token's end\n",
    "                rightbound = flater_list_of_tokhits[i][2] + margin\n",
    "    #             \n",
    "    #        # if next token is outside the bounds of current paragraph or we are at the penultimate hit\n",
    "            else:\n",
    "    #            # if right bound is out of htmls range, then adjust it to the end of the html\n",
    "                if rightbound > len(string_filing):\n",
    "                    rightbound = len(string_filing)\n",
    "    #            # define current paragraph\n",
    "                par = string_filing[leftbound:rightbound] ########### (if the code needs to be made more efficient I could store the paragraph start and end indices instead of storing the strings)\n",
    "    #            # store the paragraph in a list of candidates\n",
    "                candidate_paragraphs.append(par)\n",
    "    #            # note which hit we need to start on for the next iteration of the while loop\n",
    "                hit = i\n",
    "    #            # now that we've found the outer bounds of the current paragraph we can interrupt the for loop\n",
    "                break #this only interrupts the nearest parent loop \n",
    "    # this is just a repetition of the above routine to handle the last hit. There is probably a better way to handle this but we can enhance that later\n",
    "    if hit == len(flater_list_of_tokhits)-1:\n",
    "        leftbound = flater_list_of_tokhits[hit][1] - margin\n",
    "        rightbound = flater_list_of_tokhits[hit][2] + margin\n",
    "        if rightbound > len(string_filing):\n",
    "            rightbound = len(string_filing)\n",
    "        par = string_filing[leftbound:rightbound]\n",
    "        candidate_paragraphs.append(par)\n",
    "    #\n",
    "    # --------------- store the candidate paragraphs in a df ------------------\n",
    "    candidate_df = pd.DataFrame(candidate_paragraphs)\n",
    "    candidate_df.columns = ['cand_par']\n",
    "    candidate_df['len'] = [len(par) for par in candidate_df.cand_par]\n",
    "    # --------------- rank the candidate paragraphs by basic length (longer paragraphs correspond to denser clusters)\n",
    "    candidate_df.sort_values(by = 'len', ascending = False, inplace = True)\n",
    "    candidate_df.reset_index(inplace = True, drop = True)\n",
    "    # --------------- filter candidates down to those with 'repurchase' in them\n",
    "    candidate_df = candidate_df[['repurchase' in par for par in candidate_df.cand_par]]\n",
    "    candidate_df.reset_index(inplace = True, drop = True)\n",
    "    # --------------- nominee(s) will be the top 1 - 3 in the filterd df\n",
    "    if len(candidate_df.cand_par) != 0:\n",
    "        nominated = candidate_df.cand_par[0]\n",
    "    elif len(candidate_df.cand_par) == 0:\n",
    "        # if I failed define a single candidate paragraph\n",
    "        print('failed to define a single candidate paragraph for filing', filing)\n",
    "        print('defaulted to using the nominated paragraph from the last filing')\n",
    "        no_tokhits_filings.append(filing)\n",
    "    # clean up the nominee for validation\n",
    "    nom_validatable = re.sub(r'\\n+', ' ', nominated) # remove new lines\n",
    "    nom_validatable = re.sub(r'\\s+', ' ', nom_validatable) # trim all repeated whitespace down to one\n",
    "    # filter out stop words and non-alphanumeric content\n",
    "    # apply the same filtering process to nom_validatable\n",
    "    nominated_tokens = [wt for wt in word_tokenize(nom_validatable) if (wt.isalnum() and wt not in stopwords.words('english'))] # yes there is redundancy but that can be optimized later\n",
    "    #\n",
    "    ###############################################################\n",
    "    \n",
    "    # --------------- isolate csv's actual paragraph for valiation\n",
    "    # extract the accesion number back out of the filing path\n",
    "    an = re.sub('data/nc_training_filings/', '', filing)\n",
    "    an = re.sub('.html', '', an)\n",
    "    # use it to filter down to the csv rows with that an\n",
    "    #\n",
    "    # ⚠️ notice that for expediencey I am only using the first row with a given accession number. (there could be up to 7 rows with the same accession number in the actual csv). The reason for this misalignment is because the primary purpose of this pipeline is to identify paragraphs with target information, it's purpose is not to define up to 7 paragraphs for each filing number.\n",
    "    # 🤔 to enhance this pipeline to work with the original csv I could pick my actual_paragraph to be one with a specific dkfn\n",
    "    #relev_bool_index = [ac_n == an and dkfn in relevant_dkfns for ac_n, dkfn in zip(vert_training_subset_df.accession_number, vert_training_subset_df.data_key_friendly_name)]\n",
    "    if an not in share_rprchs_prgrph_df.accession_number.values:\n",
    "        print(an, 'was not found in the filings data frame')\n",
    "        filings_not_in_df.append(an)\n",
    "        continue\n",
    "    \n",
    "    actual_paragraph = share_rprchs_prgrph_df[[ac_n == an and dkfn in relevant_dkfns for ac_n, dkfn in zip(share_rprchs_prgrph_df.accession_number, share_rprchs_prgrph_df.data_key_friendly_name)]].head(1).paragraph_text\n",
    "    # some rows don't have my relevant dkfns and the above assignment creates an empty series\n",
    "    # so to handle that just pick the first row at random, for now\n",
    "    if len(actual_paragraph) == 0:\n",
    "        print('accession number', an, 'did not have a relevant dkfn row in the data frame')\n",
    "        actual_paragraph = share_rprchs_prgrph_df[share_rprchs_prgrph_df.accession_number == an].head(1).paragraph_text\n",
    "    # extract the string from the resulting pandas series\n",
    "    actual_paragraph = actual_paragraph.values[0]\n",
    "    # cast the string to lower case\n",
    "    actual_paragraph = actual_paragraph.lower()\n",
    "    # eliminate excess spaces\n",
    "    actual_paragraph = re.sub(r'\\s+', ' ', actual_paragraph)\n",
    "    # filter out stop words, punctuation, and other non-alphanumeric stuff\n",
    "    actual_tokens = [wt for wt in word_tokenize(actual_paragraph) if (wt.isalnum() and wt not in stopwords.words('english'))] #yes there is probably some redundancy here but that can be refined later\n",
    "    \n",
    "    # moment of truth\n",
    "    #---------------------------------------------------------    \n",
    "    # calculate the inclusion rates\n",
    "    counter = 0\n",
    "    for wt in actual_tokens:\n",
    "        if wt in nominated_tokens:\n",
    "            counter += 1\n",
    "    x = round(100*counter/len(actual_tokens),2)\n",
    "    \n",
    "    # calculate the extra_baggage_rates\n",
    "    bag_counter = 0\n",
    "    for wt in nominated_tokens:\n",
    "        if wt in actual_tokens:\n",
    "            bag_counter += 1\n",
    "    z = round(100*bag_counter/len(nominated_tokens), 2)\n",
    "    \n",
    "    # keeping score\n",
    "    # ---------------------------------------------------------\n",
    "    total_inclusion.append(actual_paragraph in nom_validatable)\n",
    "    inclusion_rates.append(x)\n",
    "    extra_baggage_rate.append(z)\n",
    "    actual_paratokens_lengths.append(len(actual_tokens))\n",
    "    nominated_paratokens_lengths.append(len(nominated_tokens))\n",
    "    \n",
    "    tf = datetime.datetime.now()\n",
    "    #print('processed filing', len(total_inclusion), 'at ', tf, '. Process took', tf - ti)\n",
    "    #print(\"--------------------------\")\n",
    "\n",
    "print(\"\")\n",
    "print('entire cycle took ', tf - t0)"
   ]
  },
  {
   "cell_type": "code",
   "execution_count": 34,
   "metadata": {},
   "outputs": [
    {
     "name": "stdout",
     "output_type": "stream",
     "text": [
      "1\n"
     ]
    }
   ],
   "source": [
    "# were there any filings I failed to find a single hit for?\n",
    "print(len(no_tokhits_filings))"
   ]
  },
  {
   "cell_type": "code",
   "execution_count": 35,
   "metadata": {},
   "outputs": [
    {
     "name": "stdout",
     "output_type": "stream",
     "text": [
      "0\n"
     ]
    }
   ],
   "source": [
    "# were there any filings not found in the dataframe?\n",
    "print(len(filings_not_in_df))"
   ]
  },
  {
   "cell_type": "code",
   "execution_count": 36,
   "metadata": {},
   "outputs": [],
   "source": [
    "# examine the total_inclusion results (even if it's a naive metric)"
   ]
  },
  {
   "cell_type": "code",
   "execution_count": 37,
   "metadata": {},
   "outputs": [
    {
     "name": "stdout",
     "output_type": "stream",
     "text": [
      "435 total filings processed\n",
      "171 number of paragraphs 100% included\n",
      "39.31 % total inclusion\n",
      "\n"
     ]
    }
   ],
   "source": [
    "#len(total)\n",
    "print(len(total_inclusion), 'total filings processed')\n",
    "print(np.array(total_inclusion).sum(), 'number of paragraphs 100% included')\n",
    "print(round(100*np.array(total_inclusion).sum()/len(total_inclusion), 2), '% total inclusion')\n",
    "print(\"\")"
   ]
  },
  {
   "cell_type": "code",
   "execution_count": 38,
   "metadata": {},
   "outputs": [],
   "source": [
    "# examine the inclusion rates (analogous to true positive rate)"
   ]
  },
  {
   "cell_type": "code",
   "execution_count": 39,
   "metadata": {},
   "outputs": [
    {
     "data": {
      "image/png": "[encoded data removed]",
      "text/plain": [
       "<Figure size 432x288 with 1 Axes>"
      ]
     },
     "metadata": {},
     "output_type": "display_data"
    }
   ],
   "source": [
    "plt.hist(inclusion_rates , bins=20)\n",
    "plt.title('Histogram of inclusion rates')\n",
    "plt.grid()\n",
    "plt.show()"
   ]
  },
  {
   "cell_type": "code",
   "execution_count": 40,
   "metadata": {},
   "outputs": [
    {
     "data": {
      "text/plain": [
       "76.10880459770115"
      ]
     },
     "execution_count": 40,
     "metadata": {},
     "output_type": "execute_result"
    }
   ],
   "source": [
    "# mean inclusion rate\n",
    "np.mean(np.array(inclusion_rates))"
   ]
  },
  {
   "cell_type": "code",
   "execution_count": 41,
   "metadata": {},
   "outputs": [
    {
     "data": {
      "text/plain": [
       "95.83"
      ]
     },
     "execution_count": 41,
     "metadata": {},
     "output_type": "execute_result"
    }
   ],
   "source": [
    "# median inclusion rate\n",
    "np.median(np.array(inclusion_rates)) \n",
    "# 50 % of the actual paragraphs have an inclusion rate of at least"
   ]
  },
  {
   "cell_type": "code",
   "execution_count": 42,
   "metadata": {},
   "outputs": [
    {
     "data": {
      "text/plain": [
       "56.83599999999999"
      ]
     },
     "execution_count": 42,
     "metadata": {},
     "output_type": "execute_result"
    }
   ],
   "source": [
    "# 70% of the actual paragraphs have an inclusion rate of at least\n",
    "np.percentile(inclusion_rates, 30)"
   ]
  },
  {
   "cell_type": "code",
   "execution_count": 43,
   "metadata": {},
   "outputs": [
    {
     "data": {
      "text/plain": [
       "50.0"
      ]
     },
     "execution_count": 43,
     "metadata": {},
     "output_type": "execute_result"
    }
   ],
   "source": [
    "# 75 % of the actual paragraphs have an inclusion rate of at least\n",
    "np.percentile(inclusion_rates, 25)"
   ]
  },
  {
   "cell_type": "code",
   "execution_count": 44,
   "metadata": {},
   "outputs": [
    {
     "data": {
      "text/plain": [
       "32.454"
      ]
     },
     "execution_count": 44,
     "metadata": {},
     "output_type": "execute_result"
    }
   ],
   "source": [
    "# 90% of the actual paragraphs have an inclusion rate of at least\n",
    "np.percentile(inclusion_rates, 10)"
   ]
  },
  {
   "cell_type": "code",
   "execution_count": 45,
   "metadata": {},
   "outputs": [
    {
     "name": "stdout",
     "output_type": "stream",
     "text": [
      "----------------\n",
      "mean bagage rate:  26.247977011494253\n",
      "median bagage rate:  25.0\n",
      "\n"
     ]
    }
   ],
   "source": [
    "# examine the extra_bagage_rate (like false positive rate, sorta)\n",
    "print(\"----------------\")\n",
    "print('mean bagage rate: ', np.mean(np.array(extra_baggage_rate)))\n",
    "print('median bagage rate: ', np.median(np.array(extra_baggage_rate)))\n",
    "print(\"\")"
   ]
  },
  {
   "cell_type": "code",
   "execution_count": 46,
   "metadata": {},
   "outputs": [
    {
     "data": {
      "text/plain": [
       "33.29199999999998"
      ]
     },
     "execution_count": 46,
     "metadata": {},
     "output_type": "execute_result"
    }
   ],
   "source": [
    "np.percentile(extra_baggage_rate, 70)\n",
    "# only 30% of my nominees have a bagage rate of at least?"
   ]
  },
  {
   "cell_type": "code",
   "execution_count": 47,
   "metadata": {},
   "outputs": [
    {
     "data": {
      "image/png": "[encoded data removed]",
      "text/plain": [
       "<Figure size 432x288 with 1 Axes>"
      ]
     },
     "metadata": {},
     "output_type": "display_data"
    }
   ],
   "source": [
    "plt.hist(extra_baggage_rate)\n",
    "plt.title('Histogram of extra bagage rate')\n",
    "plt.grid()\n",
    "plt.show()"
   ]
  },
  {
   "cell_type": "code",
   "execution_count": 48,
   "metadata": {},
   "outputs": [],
   "source": [
    "# compare the lengths of the actual paratokens to the nominated paratokens"
   ]
  },
  {
   "cell_type": "code",
   "execution_count": 49,
   "metadata": {},
   "outputs": [
    {
     "data": {
      "image/png": "[encoded data removed]",
      "text/plain": [
       "<Figure size 432x288 with 1 Axes>"
      ]
     },
     "metadata": {},
     "output_type": "display_data"
    }
   ],
   "source": [
    "plt.hist(actual_paratokens_lengths)\n",
    "plt.title('Hist. of actual para_token lengths')\n",
    "plt.grid()\n",
    "plt.show()"
   ]
  },
  {
   "cell_type": "code",
   "execution_count": 50,
   "metadata": {},
   "outputs": [
    {
     "name": "stdout",
     "output_type": "stream",
     "text": [
      "mean  51.11724137931034\n",
      "median 46.0\n",
      "range 185\n"
     ]
    }
   ],
   "source": [
    "print('mean ', np.mean(np.array(actual_paratokens_lengths)))\n",
    "print('median', np.median(np.array(actual_paratokens_lengths)))\n",
    "print('range', np.max(np.array(actual_paratokens_lengths)) - np.min(np.array(actual_paratokens_lengths)))"
   ]
  },
  {
   "cell_type": "code",
   "execution_count": 51,
   "metadata": {},
   "outputs": [],
   "source": [
    "# now lets look at the nominated paratokens lengths"
   ]
  },
  {
   "cell_type": "code",
   "execution_count": 52,
   "metadata": {},
   "outputs": [
    {
     "data": {
      "image/png": "[encoded data removed]",
      "text/plain": [
       "<Figure size 432x288 with 1 Axes>"
      ]
     },
     "metadata": {},
     "output_type": "display_data"
    }
   ],
   "source": [
    "plt.hist(nominated_paratokens_lengths)\n",
    "plt.title('Hist. of nominated_paratokens_lengths')\n",
    "plt.grid()\n",
    "plt.show()"
   ]
  },
  {
   "cell_type": "code",
   "execution_count": 53,
   "metadata": {},
   "outputs": [
    {
     "name": "stdout",
     "output_type": "stream",
     "text": [
      "mean  406.19310344827585\n",
      "median 355.0\n",
      "range 1642\n"
     ]
    }
   ],
   "source": [
    "print('mean ', np.mean(np.array(nominated_paratokens_lengths)))\n",
    "print('median', np.median(np.array(nominated_paratokens_lengths)))\n",
    "print('range', np.max(np.array(nominated_paratokens_lengths)) - np.min(np.array(nominated_paratokens_lengths)))"
   ]
  },
  {
   "cell_type": "code",
   "execution_count": 54,
   "metadata": {},
   "outputs": [
    {
     "data": {
      "image/png": "[encoded data removed]",
      "text/plain": [
       "<Figure size 1080x504 with 1 Axes>"
      ]
     },
     "metadata": {},
     "output_type": "display_data"
    }
   ],
   "source": [
    "plt.figure(figsize = (15,7))\n",
    "plt.bar(height = actual_paratokens_lengths, alpha = 0.9,\n",
    "        x = range(len(actual_paratokens_lengths)))\n",
    "plt.bar(height = nominated_paratokens_lengths, alpha = 0.3,\n",
    "       x = range(len(nominated_paratokens_lengths)))\n",
    "plt.title('bar comparison of paratokens lengths')\n",
    "plt.legend(['actual paratokens lenght', 'nominated paratokens lengths'])\n",
    "plt.xlabel('index')\n",
    "plt.ylabel('length of a paragraphs key tokens (no punctuation, no stopwords)')\n",
    "plt.grid(axis = 'y')\n",
    "plt.show()"
   ]
  },
  {
   "cell_type": "code",
   "execution_count": 55,
   "metadata": {},
   "outputs": [
    {
     "data": {
      "text/plain": [
       "{'Amount Spent on Share Repurchases',\n",
       " 'Share Repurchase Authorization',\n",
       " 'Share Repurchase Authorization Date',\n",
       " 'Share Repurchase Count',\n",
       " 'Share Repurchase Intention',\n",
       " 'Share Repurchase Utilization',\n",
       " 'Unknown Share Repurchase Data'}"
      ]
     },
     "execution_count": 55,
     "metadata": {},
     "output_type": "execute_result"
    }
   ],
   "source": [
    "set(share_rprchs_prgrph_df.data_key_friendly_name)"
   ]
  },
  {
   "cell_type": "markdown",
   "metadata": {},
   "source": [
    "# Ouput/Write a dataframe with nominated paragraphs\n",
    "### Initialize a predictions dataframe\n",
    "- copy the index, ticker, and accession_number columns from original csv\n",
    "### Write in the nominated paragraph\n",
    "- I'll have to modify the above code \"pipeline\" to write in the nominated paragraph at every iteration of the loop"
   ]
  },
  {
   "cell_type": "code",
   "execution_count": null,
   "metadata": {},
   "outputs": [],
   "source": []
  },
  {
   "cell_type": "code",
   "execution_count": null,
   "metadata": {},
   "outputs": [],
   "source": []
  }
 ],
 "metadata": {
  "kernelspec": {
   "display_name": "Python 3",
   "language": "python",
   "name": "python3"
  },
  "language_info": {
   "codemirror_mode": {
    "name": "ipython",
    "version": 3
   },
   "file_extension": ".py",
   "mimetype": "text/x-python",
   "name": "python",
   "nbconvert_exporter": "python",
   "pygments_lexer": "ipython3",
   "version": "3.6.5"
  }
 },
 "nbformat": 4,
 "nbformat_minor": 2
}
